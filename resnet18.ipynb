{
 "cells": [
  {
   "cell_type": "code",
   "execution_count": 1,
   "id": "2cac8964-8444-4522-bff0-a9a855420fc9",
   "metadata": {},
   "outputs": [],
   "source": [
    "import torch as t\n",
    "import torch.nn as nn\n",
    "import torch.nn.functional as F\n",
    "from torch.utils.data import Dataset, DataLoader\n",
    "import numpy as np\n",
    "import matplotlib.pyplot as plt\n",
    "\n",
    "from utilities import *\n",
    "from torch.nn import Module, Sequential, Conv2d, BatchNorm2d, ReLU, MaxPool2d, AvgPool2d, Linear, Dropout, CrossEntropyLoss\n",
    "from torch.optim import SGD, Adam\n",
    "from tqdm import tqdm"
   ]
  },
  {
   "cell_type": "code",
   "execution_count": 2,
   "id": "50ef5a11",
   "metadata": {},
   "outputs": [
    {
     "data": {
      "text/plain": [
       "<torch._C.Generator at 0x7f675808cb50>"
      ]
     },
     "execution_count": 2,
     "metadata": {},
     "output_type": "execute_result"
    }
   ],
   "source": [
    "# Set seeds for reproducibility\n",
    "# fix this\n",
    "seed = 203\n",
    "torch.manual_seed(seed)"
   ]
  },
  {
   "cell_type": "code",
   "execution_count": 3,
   "id": "ab4376ee",
   "metadata": {},
   "outputs": [],
   "source": [
    "dir_init = './doppler_traces/' #Directory of data\n",
    "subdirs_init = 'S1a' #Subdirs for training"
   ]
  },
  {
   "cell_type": "code",
   "execution_count": 4,
   "id": "00dbfc37",
   "metadata": {},
   "outputs": [],
   "source": [
    "dataset_csi_train = create_training_set(dir_init=dir_init, subdirs_init=subdirs_init)\n",
    "dataset_csi_val = create_validation_set(dir_init=dir_init, subdirs_init=subdirs_init)\n",
    "dataset_csi_test = create_test_set(dir_init=dir_init, subdirs_init=subdirs_init)"
   ]
  },
  {
   "cell_type": "markdown",
   "id": "5dd81670",
   "metadata": {},
   "source": [
    "#### Model training"
   ]
  },
  {
   "cell_type": "code",
   "execution_count": 5,
   "id": "afeadf78",
   "metadata": {},
   "outputs": [
    {
     "name": "stdout",
     "output_type": "stream",
     "text": [
      "Epoch: 1\n"
     ]
    },
    {
     "name": "stderr",
     "output_type": "stream",
     "text": [
      "Train loss: 0.6769214868545532: 100%|██████████| 226/226 [05:22<00:00,  1.43s/it]\n",
      "100%|██████████| 70/70 [00:32<00:00,  2.16it/s]\n"
     ]
    },
    {
     "name": "stdout",
     "output_type": "stream",
     "text": [
      "loss: 1.6155271530151367, accuracy: 0.4561717212200165\n",
      "Saved Model\n",
      "Epoch: 2\n"
     ]
    },
    {
     "name": "stderr",
     "output_type": "stream",
     "text": [
      "Train loss: 0.5143662691116333: 100%|██████████| 226/226 [05:59<00:00,  1.59s/it] \n",
      "100%|██████████| 70/70 [00:42<00:00,  1.65it/s]\n"
     ]
    },
    {
     "name": "stdout",
     "output_type": "stream",
     "text": [
      "loss: 1.2486743927001953, accuracy: 0.5313059091567993\n",
      "Saved Model\n",
      "Epoch: 3\n"
     ]
    },
    {
     "name": "stderr",
     "output_type": "stream",
     "text": [
      "Train loss: 0.7115459442138672: 100%|██████████| 226/226 [06:25<00:00,  1.71s/it] \n",
      "100%|██████████| 70/70 [00:37<00:00,  1.88it/s]\n"
     ]
    },
    {
     "name": "stdout",
     "output_type": "stream",
     "text": [
      "loss: 1.4592725038528442, accuracy: 0.49329158663749695\n",
      "Epoch: 4\n"
     ]
    },
    {
     "name": "stderr",
     "output_type": "stream",
     "text": [
      "Train loss: 0.6693156957626343: 100%|██████████| 226/226 [06:21<00:00,  1.69s/it] \n",
      "100%|██████████| 70/70 [00:37<00:00,  1.88it/s]\n"
     ]
    },
    {
     "name": "stdout",
     "output_type": "stream",
     "text": [
      "loss: 4.898888111114502, accuracy: 0.39624330401420593\n",
      "Epoch: 5\n"
     ]
    },
    {
     "name": "stderr",
     "output_type": "stream",
     "text": [
      "Train loss: 0.3732951879501343: 100%|██████████| 226/226 [06:02<00:00,  1.61s/it] \n",
      "100%|██████████| 70/70 [00:38<00:00,  1.81it/s]\n"
     ]
    },
    {
     "name": "stdout",
     "output_type": "stream",
     "text": [
      "loss: 1.883500337600708, accuracy: 0.550089418888092\n",
      "Epoch: 6\n"
     ]
    },
    {
     "name": "stderr",
     "output_type": "stream",
     "text": [
      "Train loss: 0.35346487164497375: 100%|██████████| 226/226 [05:54<00:00,  1.57s/it]\n",
      "100%|██████████| 70/70 [00:36<00:00,  1.90it/s]\n"
     ]
    },
    {
     "name": "stdout",
     "output_type": "stream",
     "text": [
      "loss: 5.632754802703857, accuracy: 0.46466904878616333\n",
      "Epoch: 7\n"
     ]
    },
    {
     "name": "stderr",
     "output_type": "stream",
     "text": [
      "Train loss: 0.11009669303894043: 100%|██████████| 226/226 [05:16<00:00,  1.40s/it]\n",
      "100%|██████████| 70/70 [00:25<00:00,  2.70it/s]\n"
     ]
    },
    {
     "name": "stdout",
     "output_type": "stream",
     "text": [
      "loss: 1.0115019083023071, accuracy: 0.6355098485946655\n",
      "Saved Model\n",
      "Epoch: 8\n"
     ]
    },
    {
     "name": "stderr",
     "output_type": "stream",
     "text": [
      "Train loss: 0.35648149251937866: 100%|██████████| 226/226 [04:47<00:00,  1.27s/it]\n",
      "100%|██████████| 70/70 [00:33<00:00,  2.07it/s]\n"
     ]
    },
    {
     "name": "stdout",
     "output_type": "stream",
     "text": [
      "loss: 1.250617504119873, accuracy: 0.6010733246803284\n",
      "Epoch: 9\n"
     ]
    },
    {
     "name": "stderr",
     "output_type": "stream",
     "text": [
      "Train loss: 0.14507681131362915: 100%|██████████| 226/226 [05:28<00:00,  1.45s/it]\n",
      "100%|██████████| 70/70 [00:33<00:00,  2.06it/s]\n"
     ]
    },
    {
     "name": "stdout",
     "output_type": "stream",
     "text": [
      "loss: 4.426742076873779, accuracy: 0.5008944272994995\n",
      "Epoch: 10\n"
     ]
    },
    {
     "name": "stderr",
     "output_type": "stream",
     "text": [
      "Train loss: 0.2229636162519455: 100%|██████████| 226/226 [04:36<00:00,  1.22s/it]  \n",
      "100%|██████████| 70/70 [00:25<00:00,  2.71it/s]\n"
     ]
    },
    {
     "name": "stdout",
     "output_type": "stream",
     "text": [
      "loss: 1.8155839443206787, accuracy: 0.5934704542160034\n",
      "Epoch: 11\n"
     ]
    },
    {
     "name": "stderr",
     "output_type": "stream",
     "text": [
      "Train loss: 0.2292821705341339: 100%|██████████| 226/226 [04:13<00:00,  1.12s/it] \n",
      "100%|██████████| 70/70 [00:26<00:00,  2.69it/s]\n"
     ]
    },
    {
     "name": "stdout",
     "output_type": "stream",
     "text": [
      "loss: 2.190659761428833, accuracy: 0.5442754626274109\n",
      "Epoch: 12\n"
     ]
    },
    {
     "name": "stderr",
     "output_type": "stream",
     "text": [
      "Train loss: 0.18544340133666992: 100%|██████████| 226/226 [04:13<00:00,  1.12s/it] \n",
      "100%|██████████| 70/70 [00:25<00:00,  2.76it/s]\n"
     ]
    },
    {
     "name": "stdout",
     "output_type": "stream",
     "text": [
      "loss: 9.071340560913086, accuracy: 0.41413238644599915\n",
      "Epoch: 13\n"
     ]
    },
    {
     "name": "stderr",
     "output_type": "stream",
     "text": [
      "Train loss: 0.1830103099346161: 100%|██████████| 226/226 [04:11<00:00,  1.11s/it]  \n",
      "100%|██████████| 70/70 [00:26<00:00,  2.66it/s]\n"
     ]
    },
    {
     "name": "stdout",
     "output_type": "stream",
     "text": [
      "loss: 10.754669189453125, accuracy: 0.4378354251384735\n",
      "Epoch: 14\n"
     ]
    },
    {
     "name": "stderr",
     "output_type": "stream",
     "text": [
      "Train loss: 0.11391967535018921: 100%|██████████| 226/226 [05:16<00:00,  1.40s/it] \n",
      "100%|██████████| 70/70 [00:35<00:00,  1.96it/s]\n"
     ]
    },
    {
     "name": "stdout",
     "output_type": "stream",
     "text": [
      "loss: 2.426352024078369, accuracy: 0.5062611699104309\n",
      "Epoch: 15\n"
     ]
    },
    {
     "name": "stderr",
     "output_type": "stream",
     "text": [
      "Train loss: 0.1988856941461563: 100%|██████████| 226/226 [05:42<00:00,  1.51s/it]  \n",
      "100%|██████████| 70/70 [00:35<00:00,  1.99it/s]"
     ]
    },
    {
     "name": "stdout",
     "output_type": "stream",
     "text": [
      "loss: 1.7401878833770752, accuracy: 0.6118068099021912\n"
     ]
    },
    {
     "name": "stderr",
     "output_type": "stream",
     "text": [
      "\n"
     ]
    }
   ],
   "source": [
    "from ResNet18 import ResNet18\n",
    "\n",
    "model = ResNet18()\n",
    "opt = Adam(model.parameters(), lr=0.0001)\n",
    "loss_fn = CrossEntropyLoss() # by default reduction=\"mean\" i.e. the output is a scalar\n",
    "device = \"cuda\" if torch.cuda.is_available() else \"cpu\"\n",
    "model.to(device)\n",
    "\n",
    "epochs=15\n",
    "best_val = np.inf\n",
    "train_error = []\n",
    "validation_error = []\n",
    "for epoch in range(epochs):\n",
    "    train_loss = []\n",
    "    model.train()\n",
    "    print(f\"Epoch: {epoch+1}\")\n",
    "    iterator = tqdm(dataset_csi_train) # iterate over the batches\n",
    "    for batch_x, batch_y in iterator:\n",
    "        batch_x = batch_x.to(device) # batch with the inputs\n",
    "        batch_y = batch_y.to(device) # batch with the labels\n",
    "        batch_y = t.squeeze(batch_y, dim=1)\n",
    "\n",
    "        y_pred = model(batch_x) \n",
    "\n",
    "        loss = loss_fn(y_pred, batch_y)\n",
    " \n",
    "        opt.zero_grad() \n",
    "        loss.backward() #how is it bound to the model?\n",
    "        opt.step()\n",
    "        train_loss.append(loss.detach().cpu().numpy())\n",
    "        iterator.set_description(f\"Train loss: {loss.detach().cpu().numpy()}\")\n",
    "    train_error.append(np.mean(train_loss))\n",
    "\n",
    "    # validation\n",
    "    model.eval() # what does this change?\n",
    "    with torch.no_grad():\n",
    "        predictions = []\n",
    "        true = []\n",
    "        for batch_x, batch_y in tqdm(dataset_csi_val):\n",
    "            batch_x = batch_x.to(device)\n",
    "            batch_y = batch_y.to(device)\n",
    "            batch_y = t.squeeze(batch_y, dim=1)\n",
    "\n",
    "            y_pred = model(batch_x)\n",
    "\n",
    "            predictions.append(y_pred)\n",
    "            true.append(batch_y)\n",
    "        predictions = torch.cat(predictions, axis=0) # concatenate the predictions for all batches\n",
    "        true = torch.cat(true, axis=0)\n",
    "        val_loss = loss_fn(predictions, true)\n",
    "        validation_error.append(val_loss.detach().cpu().numpy())\n",
    "\n",
    "        val_acc = (torch.softmax(predictions, dim=1).argmax(dim=1) == true).float().mean()\n",
    "        #if true in argsort[:N] per top-N score?\n",
    "        print(f\"loss: {val_loss}, accuracy: {val_acc}\")\n",
    "\n",
    "    if val_loss < best_val:\n",
    "        print(\"Saved Model\")\n",
    "        torch.save(model.state_dict(), \"model.pt\")\n",
    "        best_val = val_loss"
   ]
  },
  {
   "cell_type": "code",
   "execution_count": 6,
   "id": "2e4ba5cd",
   "metadata": {},
   "outputs": [
    {
     "data": {
      "image/png": "[encoded data removed]",
      "text/plain": [
       "<Figure size 1000x1000 with 1 Axes>"
      ]
     },
     "metadata": {},
     "output_type": "display_data"
    }
   ],
   "source": [
    "plt.figure(figsize=(10,10))\n",
    "plt.plot(train_error, label=\"Train loss\")\n",
    "plt.plot(validation_error, label=\"Validation loss\")\n",
    "plt.legend()\n",
    "plt.show()"
   ]
  },
  {
   "cell_type": "markdown",
   "id": "77fdb300",
   "metadata": {},
   "source": [
    "#### Ratatuja"
   ]
  }
 ],
 "metadata": {
  "kernelspec": {
   "display_name": "Python 3 (ipykernel)",
   "language": "python",
   "name": "python3"
  },
  "language_info": {
   "codemirror_mode": {
    "name": "ipython",
    "version": 3
   },
   "file_extension": ".py",
   "mimetype": "text/x-python",
   "name": "python",
   "nbconvert_exporter": "python",
   "pygments_lexer": "ipython3",
   "version": "3.12.4"
  }
 },
 "nbformat": 4,
 "nbformat_minor": 5
}
