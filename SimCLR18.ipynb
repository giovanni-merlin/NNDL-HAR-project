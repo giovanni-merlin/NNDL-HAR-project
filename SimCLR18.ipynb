{
 "cells": [
  {
   "cell_type": "markdown",
   "metadata": {},
   "source": [
    "Try to perform Person Identification using a SimCLR architecture with a **ResNet18** as encoder."
   ]
  },
  {
   "cell_type": "code",
   "execution_count": 1,
   "metadata": {},
   "outputs": [],
   "source": [
    "import torch as t\n",
    "import torch.nn as nn\n",
    "import torch.nn.functional as F\n",
    "from torch.utils.data import Dataset, DataLoader\n",
    "import numpy as np\n",
    "import matplotlib.pyplot as plt\n",
    "import os\n",
    "import csv\n",
    "from copy import deepcopy\n",
    "from sklearn.metrics import confusion_matrix\n",
    "\n",
    "from utils_preprocess import *\n",
    "from utils_traintest import *\n",
    "from torch.nn import Module, Sequential, Conv2d, BatchNorm2d, ReLU, MaxPool2d, AvgPool2d, Linear, Dropout, ZeroPad2d, CrossEntropyLoss\n",
    "from torch.optim import SGD, Adam, AdamW, lr_scheduler\n",
    "import torchvision\n",
    "from tqdm import tqdm\n",
    "#from ResNet18 import ConvolutionalBlock, IdentityBlock\n",
    "from models import ResNet18 as RN"
   ]
  },
  {
   "cell_type": "code",
   "execution_count": 2,
   "metadata": {},
   "outputs": [
    {
     "data": {
      "text/plain": [
       "<torch._C.Generator at 0x702197560b90>"
      ]
     },
     "execution_count": 2,
     "metadata": {},
     "output_type": "execute_result"
    }
   ],
   "source": [
    "# Set seeds for reproducibility\n",
    "# fix this\n",
    "seed = 203345656\n",
    "torch.manual_seed(seed)"
   ]
  },
  {
   "cell_type": "markdown",
   "metadata": {},
   "source": [
    "### Step 1\n",
    "#### Define classes for encoder \n",
    "In pratica questa sezione va eliminata, erchè carichiamo i modelli già allenati dal buon Fede"
   ]
  },
  {
   "cell_type": "code",
   "execution_count": 3,
   "metadata": {},
   "outputs": [],
   "source": [
    "class Conv2d_rl(Module):\n",
    "    def __init__(self, in_filters, out_filters, kernel_size, strides, padding):\n",
    "        super().__init__()\n",
    "        self.conv = nn.Conv2d(in_filters, out_filters, kernel_size=kernel_size, stride=strides, padding=padding)\n",
    "        self.relu = nn.ReLU()\n",
    "\n",
    "    def _init_weights(self, module):\n",
    "        if isinstance(module, torch.nn.Conv2d):\n",
    "            torch.nn.init.xavier_uniform_(module.weight)\n",
    "            if module.bias is not None:\n",
    "                module.bias.data.zero_()\n",
    "\n",
    "    def forward(self, x):\n",
    "        x = self.conv(x)\n",
    "        return self.relu(x)\n",
    "    \n",
    "class Reduction(Module):\n",
    "\n",
    "    def __init__(self, in_filters):\n",
    "        super().__init__()\n",
    "        self.max_pool = MaxPool2d(kernel_size=2, stride=2, padding=0) #170,50\n",
    "        self.central_block = Conv2d_rl(in_filters=in_filters, out_filters=5, kernel_size=2, strides=2, padding=\"valid\")\n",
    "        self.right_block =  Sequential(\n",
    "            Conv2d_rl(in_filters=in_filters, out_filters=3, kernel_size=1, strides=1, padding=\"same\"), \n",
    "            Conv2d_rl(in_filters=3, out_filters=6, kernel_size=2, strides=1, padding=\"same\"),  \n",
    "            Conv2d_rl(in_filters=6, out_filters=9, kernel_size=4, strides=2, padding=1),\n",
    "        )\n",
    "        self.apply(self._init_weights)\n",
    "\n",
    "    def _init_weights(self, module):\n",
    "        if isinstance(module, torch.nn.Linear):\n",
    "            torch.nn.init.xavier_uniform_(module.weight)\n",
    "            if module.bias is not None:\n",
    "                module.bias.data.zero_()\n",
    "        if isinstance(module, torch.nn.Conv2d):\n",
    "            torch.nn.init.xavier_uniform_(module.weight)\n",
    "            if module.bias is not None:\n",
    "                module.bias.data.zero_()\n",
    "\n",
    "    def forward(self, x):\n",
    "        x_1 = self.max_pool(x)\n",
    "        x_2 = self.central_block(x)\n",
    "        x_3 = self.right_block(x)\n",
    "        x = torch.cat([x_1, x_2, x_3], axis=1)\n",
    "        return x\n",
    "    \n",
    "class Inception(Module):\n",
    "\n",
    "    def __init__(self):\n",
    "        super().__init__()\n",
    "        self.reductions = Sequential(Reduction(1))\n",
    "        self.conv = Conv2d_rl(in_filters=15, out_filters=3, kernel_size=1, strides=1, padding=\"same\") # here pad doesnt make much difference\n",
    "        self.drop = Dropout(0.2)\n",
    "        self.classification_layer = Linear(25500, 5) #170*50*3 / 10\n",
    "        self.apply(self._init_weights)\n",
    "\n",
    "    def forward(self, x):\n",
    "        x = self.reductions(x)\n",
    "        x = self.conv(x)\n",
    "        x = t.flatten(x, start_dim=1) \n",
    "        #x = x.reshape(x.shape[0], -1, 2550).mean(axis=1)\n",
    "        x = self.drop(x)\n",
    "        y = self.classification_layer(x)\n",
    "        return y\n",
    "\n",
    "    def _init_weights(self, module):\n",
    "        if isinstance(module, torch.nn.Linear):\n",
    "            torch.nn.init.xavier_uniform_(module.weight)\n",
    "            if module.bias is not None:\n",
    "                module.bias.data.zero_()\n",
    "        if isinstance(module, torch.nn.Conv2d):\n",
    "            torch.nn.init.xavier_uniform_(module.weight)\n",
    "            if module.bias is not None:\n",
    "                module.bias.data.zero_()\n",
    "\n",
    "\n",
    "# TODO: modify the architecture to have a hidden_dimension argument?\n",
    "class InceptionDouble(Module):\n",
    "\n",
    "    def __init__(self):\n",
    "        super().__init__()\n",
    "        self.reductions = Sequential(Reduction(1),\n",
    "                                     Reduction(15)) # 85*25\n",
    "        self.conv = Conv2d_rl(in_filters=29, out_filters=3, kernel_size=1, strides=1, padding=\"same\")\n",
    "        self.avg = nn.AvgPool2d(kernel_size=2, stride=2)\n",
    "        #self.drop = Dropout(0.2)\n",
    "        self.apply(self._init_weights)\n",
    "\n",
    "    def forward(self, x):\n",
    "        x = self.reductions(x)\n",
    "        x = self.conv(x)\n",
    "        x = self.avg(x)\n",
    "        x = t.flatten(x, start_dim=1)\n",
    "        #x = self.drop(x)\n",
    "        return x\n",
    "\n",
    "    def _init_weights(self, module):\n",
    "        if isinstance(module, torch.nn.Linear):\n",
    "            torch.nn.init.xavier_uniform_(module.weight)\n",
    "            if module.bias is not None:\n",
    "                module.bias.data.zero_()\n",
    "        if isinstance(module, torch.nn.Conv2d):\n",
    "            torch.nn.init.xavier_uniform_(module.weight)\n",
    "            if module.bias is not None:\n",
    "                module.bias.data.zero_()"
   ]
  },
  {
   "cell_type": "code",
   "execution_count": 4,
   "metadata": {},
   "outputs": [
    {
     "data": {
      "text/plain": [
       "\"class SimCLR(nn.Module):\\n    def __init__(self, hidden_dim):\\n        super().__init__()\\n\\n        # Base model f(.)\\n        self.encoder = InceptionDouble() # 6375 o 1512 credo dopo l'avg pooling\\n\\n        # projection head g(.)\\n        self.classification_layer = nn.Sequential(\\n            nn.Dropout(0.2),\\n            nn.Linear(1512, 4*hidden_dim),\\n            nn.ReLU(inplace=True),\\n            nn.Dropout(0.2),\\n            nn.Linear(4*hidden_dim, hidden_dim)\\n        )\\n\\n    def forward(self, x):\\n        feats = self.encoder(x)\\n        project = self.classification_layer(feats)\\n        return project\\n    \\n##### RESNET18 ######\\n\\nclass ResNet18(Module):\\n\\n    def __init__(self):\\n        super().__init__()\\n        self.network = Sequential(\\n            # STAGE 1\\n            Conv2d(in_channels=1, out_channels=64, kernel_size=7, stride=2, padding='valid'), # DOWNSAMPLING 167*47\\n            BatchNorm2d(64), # CHECK: MUST BE APPLIED TO THE CHANNEL AXIS\\n            MaxPool2d(kernel_size=3, stride=2), # DOWNSAMPLING 83*23\\n            # STAGE 2\\n            ConvolutionalBlock(64, [64, 64], stride=1), # DOWNSAMPLING \\n            IdentityBlock(64, [64, 64]),\\n            # STAGE 3\\n            ConvolutionalBlock(64, [128, 128]), # DOWNSAMPLING\\n            Dropout(0.2),\\n            IdentityBlock(128, [128, 128]),\\n            # STAGE 4\\n            ConvolutionalBlock(128, [256, 256]), # DOWNSAMPLING\\n            Dropout(0.2),\\n            IdentityBlock(256, [256, 256]),\\n            ZeroPad2d((0,1,0,1)), # UPSAMPLING\\n            # STAGE 5\\n            ConvolutionalBlock(256, [512, 512]), # DOWNSAMPLING 9*2?\\n            Dropout(0.2),\\n            IdentityBlock(512, [512, 512]),\\n\\n            AvgPool2d(kernel_size=2, stride=2, ceil_mode=True) # DOWNSAMPLING 5*1?\\n        )\\n        #self.classification_layer = Linear(512, 5)\\n        self.apply(self._init_weights)\\n\\n    def forward(self, x):\\n        x = self.network(x)\\n        x = x.reshape(x.shape[0], -1, 512).mean(axis=1) # axis=1 ha size 2560/512 = 5\\n        # NB: forse si può provare anche senza fare la media alla fine\\n        #y = self.classification_layer(x)\\n        return x\\n\\n    def _init_weights(self, module):\\n        if isinstance(module, t.nn.Linear):\\n            t.nn.init.xavier_uniform_(module.weight)\\n            if module.bias is not None:\\n                module.bias.data.zero_()\\n        if isinstance(module, t.nn.Conv2d):\\n            t.nn.init.xavier_uniform_(module.weight)\\n            if module.bias is not None:\\n                module.bias.data.zero_()\\n\\nclass SimCLR18(nn.Module):\\n    def __init__(self, hidden_dim):\\n        super().__init__()\\n\\n        # Base model f(.)\\n        self.encoder = ResNet18()\\n\\n        # projection head g(.)\\n        self.classification_layer = nn.Sequential(\\n            #nn.Dropout(0.2),\\n            nn.Linear(512, 4*hidden_dim),\\n            nn.ReLU(inplace=True),\\n            #nn.Dropout(0.2),\\n            nn.Linear(4*hidden_dim, hidden_dim)\\n        )\\n\\n    def forward(self, x):\\n        feats = self.encoder(x)\\n        project = self.classification_layer(feats)\\n        return project\\n\""
      ]
     },
     "execution_count": 4,
     "metadata": {},
     "output_type": "execute_result"
    }
   ],
   "source": [
    "\"\"\"class SimCLR(nn.Module):\n",
    "    def __init__(self, hidden_dim):\n",
    "        super().__init__()\n",
    "\n",
    "        # Base model f(.)\n",
    "        self.encoder = InceptionDouble() # 6375 o 1512 credo dopo l'avg pooling\n",
    "\n",
    "        # projection head g(.)\n",
    "        self.classification_layer = nn.Sequential(\n",
    "            nn.Dropout(0.2),\n",
    "            nn.Linear(1512, 4*hidden_dim),\n",
    "            nn.ReLU(inplace=True),\n",
    "            nn.Dropout(0.2),\n",
    "            nn.Linear(4*hidden_dim, hidden_dim)\n",
    "        )\n",
    "\n",
    "    def forward(self, x):\n",
    "        feats = self.encoder(x)\n",
    "        project = self.classification_layer(feats)\n",
    "        return project\n",
    "    \n",
    "##### RESNET18 ######\n",
    "\n",
    "class ResNet18(Module):\n",
    "\n",
    "    def __init__(self):\n",
    "        super().__init__()\n",
    "        self.network = Sequential(\n",
    "            # STAGE 1\n",
    "            Conv2d(in_channels=1, out_channels=64, kernel_size=7, stride=2, padding='valid'), # DOWNSAMPLING 167*47\n",
    "            BatchNorm2d(64), # CHECK: MUST BE APPLIED TO THE CHANNEL AXIS\n",
    "            MaxPool2d(kernel_size=3, stride=2), # DOWNSAMPLING 83*23\n",
    "            # STAGE 2\n",
    "            ConvolutionalBlock(64, [64, 64], stride=1), # DOWNSAMPLING \n",
    "            IdentityBlock(64, [64, 64]),\n",
    "            # STAGE 3\n",
    "            ConvolutionalBlock(64, [128, 128]), # DOWNSAMPLING\n",
    "            Dropout(0.2),\n",
    "            IdentityBlock(128, [128, 128]),\n",
    "            # STAGE 4\n",
    "            ConvolutionalBlock(128, [256, 256]), # DOWNSAMPLING\n",
    "            Dropout(0.2),\n",
    "            IdentityBlock(256, [256, 256]),\n",
    "            ZeroPad2d((0,1,0,1)), # UPSAMPLING\n",
    "            # STAGE 5\n",
    "            ConvolutionalBlock(256, [512, 512]), # DOWNSAMPLING 9*2?\n",
    "            Dropout(0.2),\n",
    "            IdentityBlock(512, [512, 512]),\n",
    "\n",
    "            AvgPool2d(kernel_size=2, stride=2, ceil_mode=True) # DOWNSAMPLING 5*1?\n",
    "        )\n",
    "        #self.classification_layer = Linear(512, 5)\n",
    "        self.apply(self._init_weights)\n",
    "\n",
    "    def forward(self, x):\n",
    "        x = self.network(x)\n",
    "        x = x.reshape(x.shape[0], -1, 512).mean(axis=1) # axis=1 ha size 2560/512 = 5\n",
    "        # NB: forse si può provare anche senza fare la media alla fine\n",
    "        #y = self.classification_layer(x)\n",
    "        return x\n",
    "\n",
    "    def _init_weights(self, module):\n",
    "        if isinstance(module, t.nn.Linear):\n",
    "            t.nn.init.xavier_uniform_(module.weight)\n",
    "            if module.bias is not None:\n",
    "                module.bias.data.zero_()\n",
    "        if isinstance(module, t.nn.Conv2d):\n",
    "            t.nn.init.xavier_uniform_(module.weight)\n",
    "            if module.bias is not None:\n",
    "                module.bias.data.zero_()\n",
    "\n",
    "class SimCLR18(nn.Module):\n",
    "    def __init__(self, hidden_dim):\n",
    "        super().__init__()\n",
    "\n",
    "        # Base model f(.)\n",
    "        self.encoder = ResNet18()\n",
    "\n",
    "        # projection head g(.)\n",
    "        self.classification_layer = nn.Sequential(\n",
    "            #nn.Dropout(0.2),\n",
    "            nn.Linear(512, 4*hidden_dim),\n",
    "            nn.ReLU(inplace=True),\n",
    "            #nn.Dropout(0.2),\n",
    "            nn.Linear(4*hidden_dim, hidden_dim)\n",
    "        )\n",
    "\n",
    "    def forward(self, x):\n",
    "        feats = self.encoder(x)\n",
    "        project = self.classification_layer(feats)\n",
    "        return project\n",
    "\"\"\""
   ]
  },
  {
   "cell_type": "code",
   "execution_count": 11,
   "metadata": {},
   "outputs": [],
   "source": [
    "dir_init = './doppler_traces/' #Directory of data\n",
    "subdirs_init = 'S1a,S1b,S1c' #Subdirs for training"
   ]
  },
  {
   "cell_type": "code",
   "execution_count": 12,
   "metadata": {},
   "outputs": [],
   "source": [
    "transforms = DopplerTransformations()\n",
    "\n",
    "dataset_csi_train = create_training_set(dir_init=dir_init, subdirs_init=subdirs_init, transform=transforms)\n",
    "dataset_csi_val = create_validation_set(dir_init=dir_init, subdirs_init=subdirs_init, transform=transforms)\n",
    "dataset_csi_test, labels_true_test = create_test_set(dir_init=dir_init, subdirs_init=subdirs_init, transform=transforms)"
   ]
  },
  {
   "cell_type": "code",
   "execution_count": 36,
   "metadata": {},
   "outputs": [
    {
     "name": "stdout",
     "output_type": "stream",
     "text": [
      "[0, 0, 0, 0, 0, 0, 0, 0, 0, 0, 0, 0, 0, 0, 0, 0, 0, 0, 0, 0, 0, 0, 0, 0, 0, 0, 0, 0, 0, 0, 0, 0, 0, 0, 0, 0, 0, 0, 0, 0, 0, 0, 0, 0, 0, 0, 0, 0, 0, 0, 0, 0, 0, 0, 0, 0, 0, 0, 0, 0, 0, 0, 0, 0, 0, 0, 0, 0, 0, 0, 0, 0, 0, 0, 0, 0, 0, 0, 0, 0, 0, 0, 0, 0, 0, 0, 0, 0, 0, 0, 0, 0, 0, 0, 0, 0, 0, 0, 0, 0, 0, 0, 0, 0, 0, 0, 0, 0, 0, 0, 0, 0, 4, 4, 4, 4, 4, 4, 4, 4, 4, 4, 4, 4, 4, 4, 4, 4, 4, 4, 4, 4, 4, 4, 4, 4, 4, 4, 4, 4, 4, 4, 4, 4, 4, 4, 4, 4, 4, 4, 4, 4, 4, 4, 4, 4, 4, 4, 4, 4, 4, 4, 4, 4, 4, 4, 4, 4, 4, 4, 4, 4, 4, 4, 4, 4, 4, 4, 4, 4, 4, 4, 4, 4, 4, 4, 4, 4, 4, 4, 4, 4, 4, 4, 4, 4, 4, 4, 4, 4, 4, 4, 1, 1, 1, 1, 1, 1, 1, 1, 1, 1, 1, 1, 1, 1, 1, 1, 1, 1, 1, 1, 1, 1, 1, 1, 1, 1, 1, 1, 1, 1, 1, 1, 1, 1, 1, 1, 1, 1, 1, 1, 1, 1, 1, 1, 1, 1, 1, 1, 1, 1, 1, 1, 1, 1, 1, 1, 1, 1, 1, 1, 1, 1, 1, 1, 1, 1, 1, 1, 1, 1, 1, 1, 1, 1, 1, 1, 1, 1, 1, 1, 1, 1, 1, 1, 1, 1, 1, 1, 1, 1, 1, 1, 1, 1, 1, 1, 1, 1, 1, 1, 1, 1, 1, 1, 1, 1, 1, 1, 1, 1, 1, 1, 1, 3, 3, 3, 3, 3, 3, 3, 3, 3, 3, 3, 3, 3, 3, 3, 3, 3, 3, 3, 3, 3, 3, 3, 3, 3, 3, 3, 3, 3, 3, 3, 3, 3, 3, 3, 3, 3, 3, 3, 3, 3, 3, 3, 3, 3, 3, 3, 3, 3, 3, 3, 3, 3, 3, 3, 3, 3, 3, 3, 3, 3, 3, 3, 3, 3, 3, 3, 3, 3, 3, 3, 3, 3, 3, 3, 3, 3, 3, 3, 3, 3, 3, 3, 3, 3, 3, 3, 3, 3, 3, 3, 3, 3, 3, 3, 3, 3, 3, 3, 3, 3, 3, 3, 3, 3, 3, 3, 3, 3, 3, 3, 3, 3, 3, 3, 3, 2, 2, 2, 2, 2, 2, 2, 2, 2, 2, 2, 2, 2, 2, 2, 2, 2, 2, 2, 2, 2, 2, 2, 2, 2, 2, 2, 2, 2, 2, 2, 2, 2, 2, 2, 2, 2, 2, 2, 2, 2, 2, 2, 2, 2, 2, 2, 2, 2, 2, 2, 2, 2, 2, 2, 2, 2, 2, 2, 2, 2, 2, 2, 2, 2, 2, 2, 2, 2, 2, 2, 2, 2, 2, 2, 2, 2, 2, 2, 2, 2, 2, 2, 2, 2, 2, 2, 2, 2, 2, 2, 2, 2, 2, 2, 2, 2, 2, 2, 2, 2, 2, 2, 2, 2, 2, 2, 2, 2, 2, 2, 2, 2, 2, 2, 2, 0, 0, 0, 0, 0, 0, 0, 0, 0, 0, 0, 0, 0, 0, 0, 0, 0, 0, 0, 0, 0, 0, 0, 0, 0, 0, 0, 0, 0, 0, 0, 0, 0, 0, 0, 0, 0, 0, 0, 0, 0, 0, 0, 0, 0, 0, 0, 0, 0, 0, 0, 0, 0, 0, 0, 0, 0, 0, 0, 0, 0, 0, 0, 0, 0, 0, 0, 0, 0, 0, 0, 0, 0, 0, 0, 0, 0, 0, 0, 0, 0, 0, 0, 0, 0, 0, 0, 0, 0, 0, 0, 0, 0, 0, 0, 0, 0, 0, 0, 0, 0, 0, 0, 0, 0, 0, 0, 0, 0, 4, 4, 4, 4, 4, 4, 4, 4, 4, 4, 4, 4, 4, 4, 4, 4, 4, 4, 4, 4, 4, 4, 4, 4, 4, 4, 4, 4, 4, 4, 4, 4, 4, 4, 4, 4, 4, 4, 4, 4, 4, 4, 4, 4, 4, 4, 4, 4, 4, 4, 4, 4, 4, 4, 4, 4, 4, 4, 4, 4, 4, 4, 4, 4, 4, 4, 4, 4, 4, 4, 4, 4, 4, 4, 4, 4, 4, 4, 4, 4, 4, 4, 4, 4, 4, 4, 4, 4, 4, 4, 1, 1, 1, 1, 1, 1, 1, 1, 1, 1, 1, 1, 1, 1, 1, 1, 1, 1, 1, 1, 1, 1, 1, 1, 1, 1, 1, 1, 1, 1, 1, 1, 1, 1, 1, 1, 1, 1, 1, 1, 1, 1, 1, 1, 1, 1, 1, 1, 1, 1, 1, 1, 1, 1, 1, 1, 1, 1, 1, 1, 1, 1, 1, 1, 1, 1, 1, 1, 1, 1, 1, 1, 1, 1, 1, 1, 1, 1, 1, 1, 1, 1, 1, 1, 1, 1, 1, 1, 1, 1, 1, 1, 1, 1, 1, 1, 1, 1, 1, 1, 1, 1, 1, 1, 1, 1, 1, 1, 1, 1, 1, 1, 1, 1, 1, 1, 3, 3, 3, 3, 3, 3, 3, 3, 3, 3, 3, 3, 3, 3, 3, 3, 3, 3, 3, 3, 3, 3, 3, 3, 3, 3, 3, 3, 3, 3, 3, 3, 3, 3, 3, 3, 3, 3, 3, 3, 3, 3, 3, 3, 3, 3, 3, 3, 3, 3, 3, 3, 3, 3, 3, 3, 3, 3, 3, 3, 3, 3, 3, 3, 3, 3, 3, 3, 3, 3, 3, 3, 3, 3, 3, 3, 3, 3, 3, 3, 3, 3, 3, 3, 3, 3, 3, 3, 3, 3, 3, 3, 3, 3, 3, 3, 3, 3, 3, 3, 3, 3, 3, 3, 3, 3, 3, 3, 3, 3, 3, 3, 3, 3, 3, 2, 2, 2, 2, 2, 2, 2, 2, 2, 2, 2, 2, 2, 2, 2, 2, 2, 2, 2, 2, 2, 2, 2, 2, 2, 2, 2, 2, 2, 2, 2, 2, 2, 2, 2, 2, 2, 2, 2, 2, 2, 2, 2, 2, 2, 2, 2, 2, 2, 2, 2, 2, 2, 2, 2, 2, 2, 2, 2, 2, 2, 2, 2, 2, 2, 2, 2, 2, 2, 2, 2, 2, 2, 2, 2, 2, 2, 2, 2, 2, 2, 2, 2, 2, 2, 2, 2, 2, 2, 2, 2, 2, 2, 2, 2, 2, 2, 2, 2, 2, 2, 2, 2, 2, 2, 2, 2, 2, 2, 2, 2, 2, 2, 0, 0, 0, 0, 0, 0, 0, 0, 0, 0, 0, 0, 0, 0, 0, 0, 0, 0, 0, 0, 0, 0, 0, 0, 0, 0, 0, 0, 0, 0, 0, 0, 0, 0, 0, 0, 0, 0, 0, 0, 0, 0, 0, 0, 0, 0, 0, 0, 0, 0, 0, 0, 0, 0, 0, 0, 0, 0, 0, 0, 0, 0, 0, 0, 0, 0, 0, 0, 0, 0, 0, 0, 0, 0, 0, 0, 0, 0, 0, 0, 0, 0, 0, 0, 0, 0, 0, 0, 0, 0, 0, 0, 0, 0, 0, 0, 0, 0, 0, 0, 0, 0, 0, 0, 0, 0, 0, 0, 0, 0, 0, 0, 0, 4, 4, 4, 4, 4, 4, 4, 4, 4, 4, 4, 4, 4, 4, 4, 4, 4, 4, 4, 4, 4, 4, 4, 4, 4, 4, 4, 4, 4, 4, 4, 4, 4, 4, 4, 4, 4, 4, 4, 4, 4, 4, 4, 4, 4, 4, 4, 4, 4, 4, 4, 4, 4, 4, 4, 4, 4, 4, 4, 4, 4, 4, 4, 4, 4, 4, 4, 4, 4, 4, 4, 4, 4, 4, 4, 4, 4, 4, 4, 4, 4, 4, 4, 4, 4, 4, 4, 4, 1, 1, 1, 1, 1, 1, 1, 1, 1, 1, 1, 1, 1, 1, 1, 1, 1, 1, 1, 1, 1, 1, 1, 1, 1, 1, 1, 1, 1, 1, 1, 1, 1, 1, 1, 1, 1, 1, 1, 1, 1, 1, 1, 1, 1, 1, 1, 1, 1, 1, 1, 1, 1, 1, 1, 1, 1, 1, 1, 1, 1, 1, 1, 1, 1, 1, 1, 1, 1, 1, 1, 1, 1, 1, 1, 1, 1, 1, 1, 1, 1, 1, 1, 1, 1, 1, 1, 1, 1, 1, 1, 1, 1, 1, 1, 1, 1, 1, 1, 1, 1, 1, 1, 1, 1, 1, 1, 1, 1, 1, 1, 1, 1, 1, 1, 1, 1, 3, 3, 3, 3, 3, 3, 3, 3, 3, 3, 3, 3, 3, 3, 3, 3, 3, 3, 3, 3, 3, 3, 3, 3, 3, 3, 3, 3, 3, 3, 3, 3, 3, 3, 3, 3, 3, 3, 3, 3, 3, 3, 3, 3, 3, 3, 3, 3, 3, 3, 3, 3, 3, 3, 3, 3, 3, 3, 3, 3, 3, 3, 3, 3, 3, 3, 3, 3, 3, 3, 3, 3, 3, 3, 3, 3, 3, 3, 3, 3, 3, 3, 3, 3, 3, 3, 3, 3, 3, 3, 3, 3, 3, 3, 3, 3, 3, 3, 3, 3, 3, 3, 3, 3, 3, 3, 3, 3, 3, 3, 3, 3, 3, 3, 3, 2, 2, 2, 2, 2, 2, 2, 2, 2, 2, 2, 2, 2, 2, 2, 2, 2, 2, 2, 2, 2, 2, 2, 2, 2, 2, 2, 2, 2, 2, 2, 2, 2, 2, 2, 2, 2, 2, 2, 2, 2, 2, 2, 2, 2, 2, 2, 2, 2, 2, 2, 2, 2, 2, 2, 2, 2, 2, 2, 2, 2, 2, 2, 2, 2, 2, 2, 2, 2, 2, 2, 2, 2, 2, 2, 2, 2, 2, 2, 2, 2, 2, 2, 2, 2, 2, 2, 2, 2, 2, 2, 2, 2, 2, 2, 2, 2, 2, 2, 2, 2, 2, 2, 2, 2, 2, 2, 2, 2, 2, 2, 2, 2]\n"
     ]
    }
   ],
   "source": [
    "print(labels_true_test)"
   ]
  },
  {
   "cell_type": "markdown",
   "metadata": {},
   "source": [
    "### Step 1\n",
    "#### Train the encoder (Reduction)\n",
    "**This can be either done with self-supervised contrastive, or with supervised contrastive**"
   ]
  },
  {
   "cell_type": "code",
   "execution_count": null,
   "metadata": {},
   "outputs": [],
   "source": [
    "# Define training hyperparameters\n",
    "batch_size=128\n",
    "hidden_dim=128\n",
    "temperature=0.07\n",
    "weight_decay=1e-4\n",
    "max_epochs=500\n",
    "lr=2e-4\n",
    "device = 'cuda' if torch.cuda.is_available() else 'cpu'\n",
    "\n",
    "epochs = 100\n",
    "\n",
    "#path to the folder where pretrained models are saved\n",
    "CHECKPOINT_PATH = \"./saved_models\"\n",
    "\n",
    "\n",
    "# Define SimCLR Model\n",
    "simclr_model = SimCLR18(hidden_dim)\n",
    "\n",
    "# Define Optimizer and Learning rate Scheduler\n",
    "optimizer = AdamW(simclr_model.parameters(), lr=lr, weight_decay=weight_decay)\n",
    "my_lr_scheduler = lr_scheduler.CosineAnnealingLR(optimizer, T_max = max_epochs, eta_min=lr/50)\n",
    "\n",
    "# Training Loop\n",
    "train_losses = []\n",
    "val_losses = []\n",
    "train_accs = []\n",
    "val_accs = []\n",
    "\n",
    "for epoch in range(epochs):\n",
    "    # Training iterations and update lists\n",
    "    train_loss, train_top1_acc = train_contrastive_self(simclr_model, device, dataset_csi_train, optimizer, my_lr_scheduler, epoch, loss_temperature=temperature)\n",
    "    train_losses.append(train_loss)\n",
    "    train_accs.append(train_top1_acc)\n",
    "\n",
    "    # Validation iterations\n",
    "    val_loss, val_top1_acc = valid_constrastive_self(simclr_model, device, dataset_csi_val, epoch, loss_temperature=temperature)\n",
    "    val_losses.append(val_loss)\n",
    "    val_accs.append(val_top1_acc)\n",
    "\n",
    "    if epoch%10 == 0:\n",
    "        # Save the model\n",
    "        torch.save(simclr_model.state_dict(), os.path.join(CHECKPOINT_PATH, 'My_SimCLR.ckpt'))\n",
    "        # saves the curves\n",
    "        csv_file_path = os.path.join(CHECKPOINT_PATH, 'training_metrics.csv')\n",
    "        # Write the lists to a CSV file\n",
    "        with open(csv_file_path, mode='w', newline='') as file:\n",
    "            writer = csv.writer(file)\n",
    "            writer.writerow(['Epoch', 'Train Loss', 'Validation Loss', 'Train Top-5 Accuracy', 'Validation Top-5 Accuracy'])\n",
    "            for epoch in range(epochs):\n",
    "                writer.writerow([epoch + 1, train_losses[epoch], val_losses[epoch], train_accs[epoch], val_accs[epoch]])\n",
    "        \n",
    "        print(f\"Training metrics saved to {csv_file_path}\")"
   ]
  },
  {
   "cell_type": "code",
   "execution_count": 48,
   "metadata": {},
   "outputs": [
    {
     "data": {
      "text/plain": [
       "<matplotlib.legend.Legend at 0x7822b3a73170>"
      ]
     },
     "execution_count": 48,
     "metadata": {},
     "output_type": "execute_result"
    },
    {
     "data": {
      "image/png": "[encoded data removed]",
      "text/plain": [
       "<Figure size 1600x600 with 2 Axes>"
      ]
     },
     "metadata": {},
     "output_type": "display_data"
    }
   ],
   "source": [
    "fig, (ax1, ax2) = plt.subplots(1, 2, figsize=(16, 6))\n",
    "ax1.plot(np.arange(1, 101), train_losses, label=\"Train loss\")\n",
    "ax1.plot(np.arange(1, 101), val_losses, label=\"Validation loss\")\n",
    "ax1.set_xlabel(\"Epochs\")\n",
    "ax1.set_title(\"SimCLR Reduction2, S1a\")\n",
    "ax1.legend()\n",
    "ax2.plot(np.arange(1,101), train_accs, label=\"Train accuracy\")\n",
    "ax2.plot(np.arange(1,101), val_accs, label=\"Validation accuracy\")\n",
    "ax2.set_xlabel(\"Epochs\")\n",
    "ax2.set_title(\"SimCLR Reduction2, S1a\")\n",
    "ax2.legend()"
   ]
  },
  {
   "cell_type": "markdown",
   "metadata": {},
   "source": [
    "### Step 2"
   ]
  },
  {
   "cell_type": "markdown",
   "metadata": {},
   "source": [
    "#### Train the 1st classifier\n",
    "Load the model from Fede \\\n",
    "Use the cross entropy loss"
   ]
  },
  {
   "cell_type": "code",
   "execution_count": 5,
   "metadata": {},
   "outputs": [
    {
     "data": {
      "text/plain": [
       "<All keys matched successfully>"
      ]
     },
     "execution_count": 8,
     "metadata": {},
     "output_type": "execute_result"
    }
   ],
   "source": [
    "# Save the encoder\n",
    "#torch.save(simclr_model.state_dict(), os.path.join(CHECKPOINT_PATH, 'My_SimCLR.ckpt'))\n",
    "simclr_model = RN.ResNet18(hidden_dimension=16)\n",
    "\n",
    "# Load the trained encoder here\n",
    "path_model = 'models/ResNet18/My_ResNet18_hd16_bs128.ckpt'\n",
    "simclr_model.load_state_dict(torch.load(path_model, map_location=torch.device('cpu'), weights_only=True))#[\"state_dict\"])"
   ]
  },
  {
   "cell_type": "code",
   "execution_count": 6,
   "metadata": {},
   "outputs": [
    {
     "data": {
      "text/plain": [
       "ResNet18(\n",
       "  (network): Sequential(\n",
       "    (0): Conv2d(1, 64, kernel_size=(7, 7), stride=(2, 2), padding=valid)\n",
       "    (1): BatchNorm2d(64, eps=1e-05, momentum=0.1, affine=True, track_running_stats=True)\n",
       "    (2): MaxPool2d(kernel_size=3, stride=2, padding=0, dilation=1, ceil_mode=False)\n",
       "    (3): ConvolutionalBlock(\n",
       "      (main_path): Sequential(\n",
       "        (0): Conv2d(64, 64, kernel_size=(3, 3), stride=(1, 1), padding=valid)\n",
       "        (1): BatchNorm2d(64, eps=1e-05, momentum=0.1, affine=True, track_running_stats=True)\n",
       "        (2): ReLU()\n",
       "        (3): Conv2d(64, 64, kernel_size=(3, 3), stride=(1, 1), padding=same)\n",
       "        (4): BatchNorm2d(64, eps=1e-05, momentum=0.1, affine=True, track_running_stats=True)\n",
       "      )\n",
       "      (relu): ReLU()\n",
       "      (shortcut_path): Sequential(\n",
       "        (0): Conv2d(64, 64, kernel_size=(3, 3), stride=(1, 1))\n",
       "        (1): BatchNorm2d(64, eps=1e-05, momentum=0.1, affine=True, track_running_stats=True)\n",
       "      )\n",
       "    )\n",
       "    (4): IdentityBlock(\n",
       "      (main_path): Sequential(\n",
       "        (0): Conv2d(64, 64, kernel_size=(3, 3), stride=(1, 1), padding=same)\n",
       "        (1): BatchNorm2d(64, eps=1e-05, momentum=0.1, affine=True, track_running_stats=True)\n",
       "        (2): ReLU()\n",
       "        (3): Conv2d(64, 64, kernel_size=(3, 3), stride=(1, 1), padding=same)\n",
       "        (4): BatchNorm2d(64, eps=1e-05, momentum=0.1, affine=True, track_running_stats=True)\n",
       "      )\n",
       "      (relu): ReLU()\n",
       "    )\n",
       "    (5): ConvolutionalBlock(\n",
       "      (main_path): Sequential(\n",
       "        (0): Conv2d(64, 128, kernel_size=(3, 3), stride=(2, 2), padding=valid)\n",
       "        (1): BatchNorm2d(128, eps=1e-05, momentum=0.1, affine=True, track_running_stats=True)\n",
       "        (2): ReLU()\n",
       "        (3): Conv2d(128, 128, kernel_size=(3, 3), stride=(1, 1), padding=same)\n",
       "        (4): BatchNorm2d(128, eps=1e-05, momentum=0.1, affine=True, track_running_stats=True)\n",
       "      )\n",
       "      (relu): ReLU()\n",
       "      (shortcut_path): Sequential(\n",
       "        (0): Conv2d(64, 128, kernel_size=(3, 3), stride=(2, 2))\n",
       "        (1): BatchNorm2d(128, eps=1e-05, momentum=0.1, affine=True, track_running_stats=True)\n",
       "      )\n",
       "    )\n",
       "    (6): Dropout(p=0.2, inplace=False)\n",
       "    (7): IdentityBlock(\n",
       "      (main_path): Sequential(\n",
       "        (0): Conv2d(128, 128, kernel_size=(3, 3), stride=(1, 1), padding=same)\n",
       "        (1): BatchNorm2d(128, eps=1e-05, momentum=0.1, affine=True, track_running_stats=True)\n",
       "        (2): ReLU()\n",
       "        (3): Conv2d(128, 128, kernel_size=(3, 3), stride=(1, 1), padding=same)\n",
       "        (4): BatchNorm2d(128, eps=1e-05, momentum=0.1, affine=True, track_running_stats=True)\n",
       "      )\n",
       "      (relu): ReLU()\n",
       "    )\n",
       "    (8): ConvolutionalBlock(\n",
       "      (main_path): Sequential(\n",
       "        (0): Conv2d(128, 256, kernel_size=(3, 3), stride=(2, 2), padding=valid)\n",
       "        (1): BatchNorm2d(256, eps=1e-05, momentum=0.1, affine=True, track_running_stats=True)\n",
       "        (2): ReLU()\n",
       "        (3): Conv2d(256, 256, kernel_size=(3, 3), stride=(1, 1), padding=same)\n",
       "        (4): BatchNorm2d(256, eps=1e-05, momentum=0.1, affine=True, track_running_stats=True)\n",
       "      )\n",
       "      (relu): ReLU()\n",
       "      (shortcut_path): Sequential(\n",
       "        (0): Conv2d(128, 256, kernel_size=(3, 3), stride=(2, 2))\n",
       "        (1): BatchNorm2d(256, eps=1e-05, momentum=0.1, affine=True, track_running_stats=True)\n",
       "      )\n",
       "    )\n",
       "    (9): Dropout(p=0.2, inplace=False)\n",
       "    (10): IdentityBlock(\n",
       "      (main_path): Sequential(\n",
       "        (0): Conv2d(256, 256, kernel_size=(3, 3), stride=(1, 1), padding=same)\n",
       "        (1): BatchNorm2d(256, eps=1e-05, momentum=0.1, affine=True, track_running_stats=True)\n",
       "        (2): ReLU()\n",
       "        (3): Conv2d(256, 256, kernel_size=(3, 3), stride=(1, 1), padding=same)\n",
       "        (4): BatchNorm2d(256, eps=1e-05, momentum=0.1, affine=True, track_running_stats=True)\n",
       "      )\n",
       "      (relu): ReLU()\n",
       "    )\n",
       "    (11): ZeroPad2d((0, 1, 0, 1))\n",
       "    (12): ConvolutionalBlock(\n",
       "      (main_path): Sequential(\n",
       "        (0): Conv2d(256, 512, kernel_size=(3, 3), stride=(2, 2), padding=valid)\n",
       "        (1): BatchNorm2d(512, eps=1e-05, momentum=0.1, affine=True, track_running_stats=True)\n",
       "        (2): ReLU()\n",
       "        (3): Conv2d(512, 512, kernel_size=(3, 3), stride=(1, 1), padding=same)\n",
       "        (4): BatchNorm2d(512, eps=1e-05, momentum=0.1, affine=True, track_running_stats=True)\n",
       "      )\n",
       "      (relu): ReLU()\n",
       "      (shortcut_path): Sequential(\n",
       "        (0): Conv2d(256, 512, kernel_size=(3, 3), stride=(2, 2))\n",
       "        (1): BatchNorm2d(512, eps=1e-05, momentum=0.1, affine=True, track_running_stats=True)\n",
       "      )\n",
       "    )\n",
       "    (13): Dropout(p=0.2, inplace=False)\n",
       "    (14): IdentityBlock(\n",
       "      (main_path): Sequential(\n",
       "        (0): Conv2d(512, 512, kernel_size=(3, 3), stride=(1, 1), padding=same)\n",
       "        (1): BatchNorm2d(512, eps=1e-05, momentum=0.1, affine=True, track_running_stats=True)\n",
       "        (2): ReLU()\n",
       "        (3): Conv2d(512, 512, kernel_size=(3, 3), stride=(1, 1), padding=same)\n",
       "        (4): BatchNorm2d(512, eps=1e-05, momentum=0.1, affine=True, track_running_stats=True)\n",
       "      )\n",
       "      (relu): ReLU()\n",
       "    )\n",
       "    (15): AvgPool2d(kernel_size=2, stride=2, padding=0)\n",
       "  )\n",
       "  (classification_layer): Sequential(\n",
       "    (0): Linear(in_features=2560, out_features=64, bias=True)\n",
       "    (1): ReLU(inplace=True)\n",
       "    (2): Linear(in_features=64, out_features=16, bias=True)\n",
       "  )\n",
       ")"
      ]
     },
     "execution_count": 9,
     "metadata": {},
     "output_type": "execute_result"
    }
   ],
   "source": [
    "simclr_model"
   ]
  },
  {
   "cell_type": "code",
   "execution_count": 7,
   "metadata": {},
   "outputs": [],
   "source": [
    "class SimpleClassifier(nn.Module):\n",
    "    def __init__(self, feature_dim, num_classes):\n",
    "        super().__init__()\n",
    "\n",
    "        # Mapping from representation h to classes with a linear layer\n",
    "        self.model = nn.Sequential(\n",
    "            nn.Linear(feature_dim, 256),\n",
    "            nn.ReLU(inplace=True),\n",
    "            nn.Linear(256, num_classes)\n",
    "        )\n",
    "\n",
    "    def forward(self, x):\n",
    "        return self.model(x)"
   ]
  },
  {
   "cell_type": "code",
   "execution_count": 8,
   "metadata": {},
   "outputs": [],
   "source": [
    "# encode the input data (train, test & validation) with the trained representation\n",
    "device = 'cuda' if torch.cuda.is_available() else 'cpu'"
   ]
  },
  {
   "cell_type": "code",
   "execution_count": 9,
   "metadata": {},
   "outputs": [
    {
     "name": "stderr",
     "output_type": "stream",
     "text": [
      "  0%|          | 0/226 [00:00<?, ?it/s]"
     ]
    },
    {
     "name": "stderr",
     "output_type": "stream",
     "text": [
      "100%|██████████| 226/226 [01:52<00:00,  2.01it/s]\n",
      "100%|██████████| 70/70 [00:36<00:00,  1.94it/s]\n"
     ]
    }
   ],
   "source": [
    "dir_init = './doppler_traces/' #Directory of data\n",
    "subdirs_init = 'S1a' #Subdirs for training\n",
    "\n",
    "dataset_csi_train_class = create_training_set(dir_init=dir_init, subdirs_init=subdirs_init)\n",
    "dataset_csi_val_class = create_validation_set(dir_init=dir_init, subdirs_init=subdirs_init)\n",
    "\n",
    "train_feats = prepare_data_features(simclr_model, dataset_csi_train_class)\n",
    "val_feats = prepare_data_features(simclr_model, dataset_csi_val_class)"
   ]
  },
  {
   "cell_type": "code",
   "execution_count": 10,
   "metadata": {},
   "outputs": [
    {
     "name": "stdout",
     "output_type": "stream",
     "text": [
      "torch.Size([7220, 2560])\n",
      "torch.Size([7220, 1])\n"
     ]
    }
   ],
   "source": [
    "feats, labels = train_feats.tensors  # Accedi ai tensori contenuti nel TensorDataset\n",
    "print(feats.shape)\n",
    "print(labels.shape)"
   ]
  },
  {
   "cell_type": "code",
   "execution_count": 10,
   "metadata": {},
   "outputs": [
    {
     "ename": "NameError",
     "evalue": "name 'train_feats' is not defined",
     "output_type": "error",
     "traceback": [
      "\u001b[0;31m---------------------------------------------------------------------------\u001b[0m",
      "\u001b[0;31mNameError\u001b[0m                                 Traceback (most recent call last)",
      "Cell \u001b[0;32mIn[10], line 7\u001b[0m\n\u001b[1;32m      4\u001b[0m lr\u001b[38;5;241m=\u001b[39m\u001b[38;5;241m1e-3\u001b[39m\n\u001b[1;32m      5\u001b[0m weight_decay\u001b[38;5;241m=\u001b[39m\u001b[38;5;241m1e-3\u001b[39m\n\u001b[0;32m----> 7\u001b[0m train_losses, train_accs, val_losses, val_accs \u001b[38;5;241m=\u001b[39m train_projection(model\u001b[38;5;241m=\u001b[39mhar_projection_head, train_feats_data\u001b[38;5;241m=\u001b[39m\u001b[43mtrain_feats\u001b[49m, val_feats_data\u001b[38;5;241m=\u001b[39mval_feats, checkpoint_path\u001b[38;5;241m=\u001b[39m\u001b[38;5;124m'\u001b[39m\u001b[38;5;124mmodels/ResNet18/projection_heads\u001b[39m\u001b[38;5;124m'\u001b[39m, batch_size\u001b[38;5;241m=\u001b[39mbatch_size, epochs\u001b[38;5;241m=\u001b[39m\u001b[38;5;241m25\u001b[39m)\n",
      "\u001b[0;31mNameError\u001b[0m: name 'train_feats' is not defined"
     ]
    }
   ],
   "source": [
    "batch_size=64\n",
    "num_classes=5\n",
    "lr=1e-3\n",
    "weight_decay=1e-3\n",
    "har_projection_head = SimpleClassifier(2560, num_classes=5)\n",
    "opt = AdamW(har_projection_head.parameters(), lr=lr, weight_decay=weight_decay)\n",
    "checkpoint_path = 'models/ResNet18/projection_heads'\n",
    "save_name='SimpleClassifier_HAR_hd16_bs128.ckpt'\n",
    "\n",
    "train_losses, train_accs, val_losses, val_accs = train_projection(model=har_projection_head, optimizer=opt, train_feats_data=train_feats, val_feats_data=val_feats, checkpoint_path=checkpoint_path, save_name=save_name, device=\"cpu\", batch_size=batch_size, epochs=25)"
   ]
  },
  {
   "cell_type": "code",
   "execution_count": null,
   "metadata": {},
   "outputs": [],
   "source": [
    "fig, (ax1, ax2) = plt.subplots(1, 2, figsize=(16, 6))\n",
    "ax1.plot(np.arange(1, 101), train_losses, label=\"Train loss\")\n",
    "ax1.plot(np.arange(1, 101), val_losses, label=\"Validation loss\")\n",
    "ax1.set_xlabel(\"Epochs\")\n",
    "ax1.set_title(\"SimpleClassifier_HAR_hd16_bs128, S1a\")\n",
    "ax1.legend()\n",
    "ax2.plot(np.arange(1,101), train_accs, label=\"Train accuracy\")\n",
    "ax2.plot(np.arange(1,101), val_accs, label=\"Validation accuracy\")\n",
    "ax2.set_xlabel(\"Epochs\")\n",
    "ax2.set_title(\"SimpleClassifier_HAR_hd16_bs128, S1a\")\n",
    "ax2.legend()"
   ]
  },
  {
   "cell_type": "markdown",
   "metadata": {},
   "source": [
    "#### Test the 1st classifier\n",
    "First on the same dataset as that of training"
   ]
  },
  {
   "cell_type": "code",
   "execution_count": 19,
   "metadata": {},
   "outputs": [
    {
     "ename": "NameError",
     "evalue": "name 'prepare_data_features' is not defined",
     "output_type": "error",
     "traceback": [
      "\u001b[0;31m---------------------------------------------------------------------------\u001b[0m",
      "\u001b[0;31mNameError\u001b[0m                                 Traceback (most recent call last)",
      "Cell \u001b[0;32mIn[11], line 6\u001b[0m\n\u001b[1;32m      3\u001b[0m subdirs_init \u001b[38;5;241m=\u001b[39m \u001b[38;5;124m'\u001b[39m\u001b[38;5;124mS1a\u001b[39m\u001b[38;5;124m'\u001b[39m \u001b[38;5;66;03m#Subdirs for training\u001b[39;00m\n\u001b[1;32m      5\u001b[0m dataset_csi_test_class, labels_true_test \u001b[38;5;241m=\u001b[39m create_test_set(dir_init\u001b[38;5;241m=\u001b[39mdir_init, subdirs_init\u001b[38;5;241m=\u001b[39msubdirs_init)\n\u001b[0;32m----> 6\u001b[0m test_feats \u001b[38;5;241m=\u001b[39m \u001b[43mprepare_data_features\u001b[49m(simclr_model, dataset_csi_test_class)\n\u001b[1;32m      8\u001b[0m labels_considered \u001b[38;5;241m=\u001b[39m np\u001b[38;5;241m.\u001b[39marange(\u001b[38;5;241m5\u001b[39m)\n",
      "\u001b[0;31mNameError\u001b[0m: name 'prepare_data_features' is not defined"
     ]
    }
   ],
   "source": [
    "# prepare the test set for the classifier\n",
    "dir_init = './doppler_traces/' #Directory of data\n",
    "subdirs_init = 'S1a' #Subdirs for training\n",
    "\n",
    "dataset_csi_test_class, labels_true_test = create_test_set(dir_init=dir_init, subdirs_init=subdirs_init)\n",
    "test_feats = prepare_data_features(simclr_model, dataset_csi_test_class)\n",
    "\n",
    "labels_considered = np.arange(5)"
   ]
  },
  {
   "cell_type": "code",
   "execution_count": 20,
   "metadata": {},
   "outputs": [
    {
     "data": {
      "text/plain": [
       "<All keys matched successfully>"
      ]
     },
     "execution_count": 20,
     "metadata": {},
     "output_type": "execute_result"
    }
   ],
   "source": [
    "# define a classifier object\n",
    "classifier_model = SimpleClassifier(2560, num_classes=5)\n",
    "\n",
    "# Load the trained projection head here\n",
    "path_model = 'models/ResNet18/projection_heads/SimpleClassifier_HAR_hd16_bs128.ckpt'\n",
    "classifier_model.load_state_dict(torch.load(path_model, map_location=torch.device('cpu'), weights_only=True))#[\"state_dict\"])"
   ]
  },
  {
   "cell_type": "code",
   "execution_count": 21,
   "metadata": {},
   "outputs": [
    {
     "name": "stderr",
     "output_type": "stream",
     "text": [
      "100%|██████████| 35/35 [00:00<00:00, 553.65it/s]"
     ]
    },
    {
     "name": "stdout",
     "output_type": "stream",
     "text": [
      "shape of the predicted labels list: torch.Size([2188, 5])\n",
      "shape of the true labels: torch.Size([2188])\n",
      "loss: 0.3393916189670563, accuracy: 0.8587751388549805\n"
     ]
    },
    {
     "name": "stderr",
     "output_type": "stream",
     "text": [
      "\n"
     ]
    }
   ],
   "source": [
    "# test the projection head on the test set:\n",
    "# start from the input test set, extract the feature representation via the encoder\n",
    "\n",
    "device = 'cuda' if torch.cuda.is_available() else 'cpu'\n",
    "classifier_model.to(device)\n",
    "classifier_model.eval()\n",
    "batch_size = 64\n",
    "loss_fn = CrossEntropyLoss()\n",
    "\n",
    "with torch.no_grad():\n",
    "    predictions = []\n",
    "    true = []\n",
    "\n",
    "    test_loader = DataLoader(test_feats, batch_size=batch_size, shuffle=False, drop_last=False)\n",
    "\n",
    "    for batch in tqdm(test_loader):\n",
    "        feats, labels = batch\n",
    "        feats = feats.to(device)\n",
    "        labels = labels.to(device)\n",
    "        labels = labels.squeeze(dim=1)\n",
    "        preds = classifier_model(feats)\n",
    "        predictions.append(preds)\n",
    "        true.append(labels)\n",
    "\n",
    "    predictions = torch.cat(predictions, axis=0) # concatenate the predictions for all batches\n",
    "    true = torch.cat(true, axis=0)\n",
    "    print(\"shape of the predicted labels list:\", predictions.shape)\n",
    "    print(\"shape of the true labels:\", true.shape)\n",
    "    test_loss = loss_fn(predictions, true) # ok ma è più importante l'accuracy\n",
    "    true = true.detach().cpu()\n",
    "    labels_pred_list_test = torch.softmax(predictions, dim=1).detach().cpu()\n",
    "    labels_pred_test = labels_pred_list_test.argmax(dim=1) # restituisce l'indice del valore maggiore\n",
    "    test_acc = (labels_pred_test == true).float().mean()\n",
    "    conf_matrix = confusion_matrix(true, labels_pred_test)\n",
    "\n",
    "    #precision, recall, fscore, _ = precision_recall_fscore_support(true,labels_pred_test,labels=labels_considered) # non credo ci serva\n",
    "\n",
    "    #accuracy = accuracy_score(true, labels_pred_test) # stessa cosa di test accuracy\n",
    "    #if true in argsort[:N] per top-N score?\n",
    "    #print(f\"loss: {test_loss}, accuracy: {test_acc}\")\n",
    "    print(f\"loss: {test_loss}, accuracy: {test_acc}\")"
   ]
  },
  {
   "cell_type": "code",
   "execution_count": 30,
   "metadata": {},
   "outputs": [
    {
     "name": "stderr",
     "output_type": "stream",
     "text": [
      "/home/giovanni/Desktop/Deep Learning/project/NNDL HAR project/utils_traintest.py:253: UserWarning: There are no gridspecs with layoutgrids. Possibly did not call parent GridSpec with the \"figure\" keyword\n",
      "  plt.savefig(name_fig)\n",
      "/home/giovanni/miniconda3/envs/dlproject/lib/python3.12/site-packages/IPython/core/pylabtools.py:170: UserWarning: There are no gridspecs with layoutgrids. Possibly did not call parent GridSpec with the \"figure\" keyword\n",
      "  fig.canvas.print_figure(bytes_io, **kw)\n"
     ]
    },
    {
     "data": {
      "image/png": "[encoded data removed]",
      "text/plain": [
       "<Figure size 550x400 with 2 Axes>"
      ]
     },
     "metadata": {},
     "output_type": "display_data"
    }
   ],
   "source": [
    "activities = np.array(['E','L','W','R','J'])\n",
    "name_plot = \"SimpleClassifier_HAR_hd16_bs128\"\n",
    "\n",
    "# plot the confusion matrix\n",
    "plt_confusion_matrix(activities.shape[0], conf_matrix, activities=activities, name_save=name_plot)"
   ]
  },
  {
   "cell_type": "code",
   "execution_count": 31,
   "metadata": {},
   "outputs": [
    {
     "name": "stdout",
     "output_type": "stream",
     "text": [
      "547\n",
      "tensor([[9.9998e-01, 2.1176e-05, 1.8790e-29, 3.0739e-24, 7.9661e-22],\n",
      "        [9.9999e-01, 1.2855e-05, 1.0786e-29, 1.4653e-24, 3.0666e-22],\n",
      "        [9.9955e-01, 6.0408e-06, 2.0069e-04, 2.2317e-04, 2.0544e-05],\n",
      "        ...,\n",
      "        [2.2904e-06, 7.0438e-10, 8.4648e-01, 1.5351e-01, 6.3275e-06],\n",
      "        [8.4366e-07, 2.6255e-09, 8.2108e-02, 9.1483e-01, 3.0633e-03],\n",
      "        [8.8441e-05, 5.8046e-10, 9.3552e-01, 6.4353e-02, 3.9948e-05]])\n",
      "2188\n"
     ]
    }
   ],
   "source": [
    "print(len(labels_true_test)) # true labels (not expanded)\n",
    "print(labels_pred_list_test) \n",
    "print(len(labels_pred_test)) # predicted labels (expanded; it's the argmax of labels_prediction_list_test)"
   ]
  },
  {
   "cell_type": "markdown",
   "metadata": {},
   "source": [
    "Merge the predictions from the various antennas"
   ]
  },
  {
   "cell_type": "code",
   "execution_count": 39,
   "metadata": {},
   "outputs": [
    {
     "ename": "NameError",
     "evalue": "name 'merge_predictions' is not defined",
     "output_type": "error",
     "traceback": [
      "\u001b[0;31m---------------------------------------------------------------------------\u001b[0m",
      "\u001b[0;31mNameError\u001b[0m                                 Traceback (most recent call last)",
      "Cell \u001b[0;32mIn[39], line 1\u001b[0m\n\u001b[0;32m----> 1\u001b[0m labels_pred_max_merged \u001b[38;5;241m=\u001b[39m \u001b[43mmerge_predictions\u001b[49m(labels_true_test, labels_pred_list_test, labels_pred_test)\n\u001b[1;32m      3\u001b[0m conf_matrix_max_merged \u001b[38;5;241m=\u001b[39m confusion_matrix(labels_true_test, labels_pred_max_merged, labels\u001b[38;5;241m=\u001b[39mlabels_considered)\n\u001b[1;32m      5\u001b[0m activities \u001b[38;5;241m=\u001b[39m np\u001b[38;5;241m.\u001b[39marray([\u001b[38;5;124m'\u001b[39m\u001b[38;5;124mE\u001b[39m\u001b[38;5;124m'\u001b[39m,\u001b[38;5;124m'\u001b[39m\u001b[38;5;124mL\u001b[39m\u001b[38;5;124m'\u001b[39m,\u001b[38;5;124m'\u001b[39m\u001b[38;5;124mW\u001b[39m\u001b[38;5;124m'\u001b[39m,\u001b[38;5;124m'\u001b[39m\u001b[38;5;124mR\u001b[39m\u001b[38;5;124m'\u001b[39m,\u001b[38;5;124m'\u001b[39m\u001b[38;5;124mJ\u001b[39m\u001b[38;5;124m'\u001b[39m])\n",
      "\u001b[0;31mNameError\u001b[0m: name 'merge_predictions' is not defined"
     ]
    }
   ],
   "source": [
    "csi_act = 'E,L,W,R,J'\n",
    "subdirs_training = 'S1a'\n",
    "bandwidth = 80\n",
    "sub_band = 1\n",
    "suffix = '.txt'\n",
    "\n",
    "labels_pred_max_merged = merge_predictions(labels_true_test, labels_pred_list_test, labels_pred_test)\n",
    "\n",
    "conf_matrix_max_merged = confusion_matrix(labels_true_test, labels_pred_max_merged, labels=labels_considered)\n",
    "\n",
    "activities = np.array(['E','L','W','R','J'])\n",
    "name_plot = \"SimpleClassifier_HAR_hd16_bs128_merged\"\n",
    "\n",
    "plt_confusion_matrix(activities.shape[0], conf_matrix_max_merged, activities=activities, name_save=name_plot)\n",
    "\n",
    "#precision_max_merge, recall_max_merge, fscore_max_merge, _ = \\\n",
    "#    precision_recall_fscore_support(labels_true_merge, pred_max_merge, labels=labels_considered)\n",
    "#accuracy_max_merge = accuracy_score(labels_true_merge, pred_max_merge)\n",
    "\n",
    "metrics_matrix_dict = {'conf_matrix': conf_matrix,\n",
    "                        #'accuracy_single': accuracy,\n",
    "                        #'precision_single': precision,\n",
    "                        #'recall_single': recall,\n",
    "                        #'fscore_single': fscore,\n",
    "                        'conf_matrix_max_merge': conf_matrix_max_merged,\n",
    "                        #'accuracy_max_merge': accuracy_max_merge,\n",
    "                        #'precision_max_merge': precision_max_merge,\n",
    "                        #'recall_max_merge': recall_max_merge,\n",
    "                        #'fscore_max_merge': fscore_max_merge\n",
    "                        }\n",
    "\n",
    "if not os.path.exists('outputs'):\n",
    "    os.makedirs('outputs')\n",
    "name_file = './outputs/test_' + str(csi_act) + '_' + subdirs_training + '_band_' + str(bandwidth) + '_subband_' + \\\n",
    "        str(sub_band) + suffix\n",
    "with open(name_file, \"wb\") as fp:  # Pickling\n",
    "    pickle.dump(metrics_matrix_dict, fp)"
   ]
  },
  {
   "cell_type": "code",
   "execution_count": null,
   "metadata": {},
   "outputs": [],
   "source": [
    "# questa roba per me possiamo saltarla\n",
    "\n",
    "# impact of the number of antennas\n",
    "one_antenna = [[0], [1], [2], [3]]\n",
    "two_antennas = [[0, 1], [0, 2], [0, 3], [1, 2], [1, 3], [2, 3]]\n",
    "three_antennas = [[0, 1, 2], [0, 1, 3], [0, 2, 3], [1, 2, 3]]\n",
    "four_antennas = [[0, 1, 2, 3]]\n",
    "seq_ant_list = [one_antenna, two_antennas, three_antennas, four_antennas]\n",
    "average_accuracy_change_num_ant = np.zeros((num_antennas,))\n",
    "average_fscore_change_num_ant = np.zeros((num_antennas,))\n",
    "labels_true_merge = np.array(labels_test_selected)\n",
    "for ant_n in range(num_antennas):\n",
    "    seq_ant = seq_ant_list[ant_n]\n",
    "    num_seq = len(seq_ant)\n",
    "    for seq_n in range(num_seq):\n",
    "        pred_max_merge = np.zeros((len(labels_test_selected),))\n",
    "        ants_selected = seq_ant[seq_n]\n",
    "        for i_lab in range(len(labels_test_selected)):\n",
    "            pred_antennas = labels_prediction_list_test[i_lab * num_antennas:(i_lab + 1) * num_antennas, :].numpy()\n",
    "            pred_antennas = pred_antennas[ants_selected, :]\n",
    "\n",
    "            lab_merge_max = np.argmax(np.sum(pred_antennas, axis=0))\n",
    "\n",
    "            pred_max_antennas = labels_pred_test[i_lab * num_antennas:(i_lab + 1) * num_antennas]\n",
    "            pred_max_antennas = pred_max_antennas[ants_selected]\n",
    "            lab_unique, count = np.unique(pred_max_antennas, return_counts=True)\n",
    "            lab_max_merge = -1\n",
    "            if len(lab_unique) > 1:\n",
    "                count_argsort = np.flip(np.argsort(count))\n",
    "                count_sort = count[count_argsort]\n",
    "                lab_unique_sort = lab_unique[count_argsort]\n",
    "                if count_sort[0] == count_sort[1] or len(lab_unique) > ant_n - 1:  # ex aequo between two labels\n",
    "                    lab_max_merge = lab_merge_max\n",
    "                else:\n",
    "                    lab_max_merge = lab_unique_sort[0]\n",
    "            else:\n",
    "                lab_max_merge = lab_unique[0]\n",
    "            pred_max_merge[i_lab] = lab_max_merge\n",
    "\n",
    "        _, _, fscore_max_merge, _ = precision_recall_fscore_support(labels_true_merge, pred_max_merge,\n",
    "                                                                    labels=[0, 1, 2, 3, 4])\n",
    "        accuracy_max_merge = accuracy_score(labels_true_merge, pred_max_merge)\n",
    "\n",
    "        average_accuracy_change_num_ant[ant_n] += accuracy_max_merge\n",
    "        average_fscore_change_num_ant[ant_n] += np.mean(fscore_max_merge)\n",
    "\n",
    "    average_accuracy_change_num_ant[ant_n] = average_accuracy_change_num_ant[ant_n] / num_seq\n",
    "    average_fscore_change_num_ant[ant_n] = average_fscore_change_num_ant[ant_n] / num_seq\n",
    "\n",
    "metrics_matrix_dict = {'average_accuracy_change_num_ant': average_accuracy_change_num_ant,\n",
    "                        'average_fscore_change_num_ant': average_fscore_change_num_ant}\n",
    "\n",
    "name_file = './outputs/change_number_antennas_test_' + str(csi_act) + '_' + subdirs_training + '_band_' + \\\n",
    "            str(bandwidth) + '_subband_' + str(sub_band) + '.txt'\n",
    "with open(name_file, \"wb\") as fp:  # Pickling\n",
    "    pickle.dump(metrics_matrix_dict, fp)\n"
   ]
  },
  {
   "cell_type": "markdown",
   "metadata": {},
   "source": [
    "#### Train the 2nd classifier"
   ]
  },
  {
   "cell_type": "markdown",
   "metadata": {},
   "source": [
    "Now we train the second projection head, used for person identification.\\\n",
    "Our dataset has 3 different \"people\" features. We need to labels data according to the person it refers to, and then to train the projection head on these.\\\n",
    "The dataset are divided as follows: \n",
    "- S1, S2, S4, S6 -> P1\n",
    "- S3, S5 -> P2\n",
    "- S7 -> P3\n"
   ]
  },
  {
   "cell_type": "markdown",
   "metadata": {},
   "source": [
    "#### Test the 2nd classifier"
   ]
  },
  {
   "cell_type": "markdown",
   "metadata": {},
   "source": [
    "## Ratatuja"
   ]
  },
  {
   "cell_type": "code",
   "execution_count": 7,
   "metadata": {},
   "outputs": [
    {
     "name": "stdout",
     "output_type": "stream",
     "text": [
      "start shape: torch.Size([32, 4, 340, 100])\n",
      "after reshaping: torch.Size([128, 1, 340, 100])\n",
      "start shape: torch.Size([32, 4, 340, 100])\n",
      "after reshaping: torch.Size([128, 1, 340, 100])\n",
      "start shape: torch.Size([32, 4, 340, 100])\n",
      "after reshaping: torch.Size([128, 1, 340, 100])\n",
      "start shape: torch.Size([32, 4, 340, 100])\n",
      "after reshaping: torch.Size([128, 1, 340, 100])\n"
     ]
    }
   ],
   "source": [
    "device = 'cpu'\n",
    "model = SimCLR(128)\n",
    "\n",
    "for i, batch in enumerate(dataset_csi_train):\n",
    "    batch_x, batch_y = batch\n",
    "    print('start shape:',batch_x.shape)\n",
    "\n",
    "    # Here the input is different from the self supervised case: batch_x is not a list of two,\n",
    "    # rather a unique tensor with four channels. Therefore it has to be reshaped \n",
    "    # TO BE CHECKED\n",
    "    \n",
    "    batch_x_resh = batch_x.reshape(-1, 1, 340, 100)\n",
    "    print('after reshaping:', batch_x_resh.shape)\n",
    "\n",
    "    if i>= 3: break\n",
    "\n",
    "    # Compute the features\n",
    "    #features = model(cat_imgs)"
   ]
  },
  {
   "cell_type": "code",
   "execution_count": 25,
   "metadata": {},
   "outputs": [
    {
     "name": "stdout",
     "output_type": "stream",
     "text": [
      "Cosine Similarity Matrix:\n",
      "tensor([[1.0000, 0.0000, 0.0000, 0.7071],\n",
      "        [0.0000, 1.0000, 0.0000, 0.7071],\n",
      "        [0.0000, 0.0000, 1.0000, 0.0000],\n",
      "        [0.7071, 0.7071, 0.0000, 1.0000]])\n",
      "\n",
      "Cosine Similarity Matrix after Masking Self-Similarity:\n",
      "tensor([[-9.0000e+15,  0.0000e+00,  0.0000e+00,  7.0711e-01],\n",
      "        [ 0.0000e+00, -9.0000e+15,  0.0000e+00,  7.0711e-01],\n",
      "        [ 0.0000e+00,  0.0000e+00, -9.0000e+15,  0.0000e+00],\n",
      "        [ 7.0711e-01,  7.0711e-01,  0.0000e+00, -9.0000e+15]])\n",
      "\n",
      "Positive Example Mask:\n",
      "tensor([[False, False,  True, False],\n",
      "        [False, False, False,  True],\n",
      "        [ True, False, False, False],\n",
      "        [False,  True, False, False]])\n",
      "\n",
      "Negative Log-Likelihood (NLL) Loss:\n",
      "tensor([1.8105, 0.3962, 1.0986, 0.8079])\n",
      "\n",
      "Ranking Position of Positive Example:\n",
      "tensor([1, 0, 0, 0])\n",
      "\n",
      "Top-1 Accuracy:\n",
      "tensor(0.7500)\n",
      "\n",
      "Top-5 Accuracy:\n",
      "tensor(1.)\n"
     ]
    }
   ],
   "source": [
    "import torch\n",
    "import torch.nn.functional as F\n",
    "\n",
    "# Example feature batch\n",
    "# 4*3\n",
    "features_batch = torch.tensor([[1.0, 0.0, 0.0],\n",
    "                               [0.0, 1.0, 0.0],\n",
    "                               [0.0, 0.0, 1.0],\n",
    "                               [1.0, 1.0, 0.0]])\n",
    "\n",
    "temperature = 0.5\n",
    "\n",
    "# Compute Cosine Similarity\n",
    "cos_sim = F.cosine_similarity(features_batch[:, None, :], features_batch[None, :, :], dim=-1)\n",
    "print(\"Cosine Similarity Matrix:\")\n",
    "print(cos_sim)\n",
    "\n",
    "# Mask out cosine similarity to itself\n",
    "self_mask = torch.eye(cos_sim.shape[0], dtype=torch.bool, device=cos_sim.device)\n",
    "cos_sim.masked_fill_(self_mask, -9e15)\n",
    "print(\"\\nCosine Similarity Matrix after Masking Self-Similarity:\")\n",
    "print(cos_sim)\n",
    "\n",
    "# Find the positive example mask\n",
    "pos_mask = self_mask.roll(shifts=cos_sim.shape[0] // 2, dims=0)\n",
    "print(\"\\nPositive Example Mask:\")\n",
    "print(pos_mask)\n",
    "\n",
    "# NT_Xent loss\n",
    "cos_sim = cos_sim / temperature\n",
    "nll = -cos_sim[pos_mask] + torch.logsumexp(cos_sim, dim=-1)\n",
    "#nll = nll.mean()\n",
    "print(\"\\nNegative Log-Likelihood (NLL) Loss:\")\n",
    "print(nll)\n",
    "\n",
    "# Get ranking position of positive example\n",
    "# for a perfect classification the ranking of the positives is 0\n",
    "comb_sim = torch.cat([cos_sim[pos_mask][:, None], cos_sim.masked_fill(pos_mask, -9e15)], dim=-1)\n",
    "sim_argsort = comb_sim.argsort(dim=-1, descending=True).argmin(dim=-1)\n",
    "print(\"\\nRanking Position of Positive Example:\")\n",
    "print(sim_argsort)\n",
    "\n",
    "acc_top1 = (sim_argsort == 0).float().mean()\n",
    "acc_top5 = (sim_argsort < 5).float().mean()\n",
    "print(\"\\nTop-1 Accuracy:\")\n",
    "print(acc_top1)\n",
    "print(\"\\nTop-5 Accuracy:\")\n",
    "print(acc_top5)"
   ]
  },
  {
   "cell_type": "code",
   "execution_count": 28,
   "metadata": {},
   "outputs": [
    {
     "data": {
      "text/plain": [
       "tensor([False,  True,  True,  True])"
      ]
     },
     "execution_count": 28,
     "metadata": {},
     "output_type": "execute_result"
    }
   ],
   "source": [
    "sim_argsort == 0"
   ]
  },
  {
   "cell_type": "code",
   "execution_count": 60,
   "metadata": {},
   "outputs": [
    {
     "name": "stdout",
     "output_type": "stream",
     "text": [
      "tensor([[-1.8000e+16,  0.0000e+00,  0.0000e+00,  1.4142e+00],\n",
      "        [ 0.0000e+00, -1.8000e+16,  0.0000e+00,  1.4142e+00],\n",
      "        [ 0.0000e+00,  0.0000e+00, -1.8000e+16,  0.0000e+00],\n",
      "        [ 1.4142e+00,  1.4142e+00,  0.0000e+00, -1.8000e+16]])\n",
      "tensor([[False, False,  True, False],\n",
      "        [False, False, False,  True],\n",
      "        [ True, False, False, False],\n",
      "        [False,  True, False, False]])\n",
      "tensor([0.0000, 1.4142, 0.0000, 1.4142])\n",
      "tensor([[0.0000],\n",
      "        [1.4142],\n",
      "        [0.0000],\n",
      "        [1.4142]])\n"
     ]
    },
    {
     "data": {
      "text/plain": [
       "tensor([1.8105, 1.8105, 1.0986, 2.2221])"
      ]
     },
     "execution_count": 60,
     "metadata": {},
     "output_type": "execute_result"
    }
   ],
   "source": [
    "print(cos_sim)\n",
    "print(pos_mask)\n",
    "print(cos_sim[pos_mask])\n",
    "print(cos_sim[pos_mask][:, None])\n",
    "t.logsumexp(cos_sim, dim=0)"
   ]
  },
  {
   "cell_type": "code",
   "execution_count": 64,
   "metadata": {},
   "outputs": [
    {
     "name": "stdout",
     "output_type": "stream",
     "text": [
      "tensor([[ 0.0000e+00, -1.8000e+16,  0.0000e+00, -9.0000e+15,  1.4142e+00],\n",
      "        [ 1.4142e+00,  0.0000e+00, -1.8000e+16,  0.0000e+00, -9.0000e+15],\n",
      "        [ 0.0000e+00, -9.0000e+15,  0.0000e+00, -1.8000e+16,  0.0000e+00],\n",
      "        [ 1.4142e+00,  1.4142e+00, -9.0000e+15,  0.0000e+00, -1.8000e+16]])\n",
      "tensor([[4, 0, 2, 3, 1],\n",
      "        [0, 1, 3, 4, 2],\n",
      "        [0, 2, 4, 1, 3],\n",
      "        [0, 1, 3, 2, 4]])\n",
      "\n",
      "Ranking Position of Positive Example:\n",
      "tensor([1, 0, 0, 0])\n",
      "\n",
      "Top-1 Accuracy:\n",
      "tensor(0.7500)\n",
      "\n",
      "Top-5 Accuracy:\n",
      "tensor(1.)\n"
     ]
    }
   ],
   "source": [
    "comb_sim = torch.cat([cos_sim[pos_mask][:, None], cos_sim.masked_fill(pos_mask, -9e15)], dim=-1)\n",
    "print(comb_sim)\n",
    "sim_argsort = comb_sim.argsort(dim=-1, descending=True).argmin(dim=-1)\n",
    "print(comb_sim.argsort(dim=-1, descending=True))\n",
    "print(\"\\nRanking Position of Positive Example:\")\n",
    "print(sim_argsort)\n",
    "\n",
    "acc_top1 = (sim_argsort == 0).float().mean()\n",
    "acc_top5 = (sim_argsort < 5).float().mean()\n",
    "print(\"\\nTop-1 Accuracy:\")\n",
    "print(acc_top1)\n",
    "print(\"\\nTop-5 Accuracy:\")\n",
    "print(acc_top5)\n",
    "\n",
    "# sostanzialmente vogliamo vedere se gli elementi della colonna stanno dove sono!"
   ]
  },
  {
   "cell_type": "markdown",
   "metadata": {},
   "source": [
    "Come si generalizza al caso di più positive keys?"
   ]
  },
  {
   "cell_type": "code",
   "execution_count": 24,
   "metadata": {},
   "outputs": [
    {
     "name": "stdout",
     "output_type": "stream",
     "text": [
      "\n",
      "Cosine Similarity Matrix after Masking Self-Similarity:\n",
      "tensor([[-9.0000e+15, -1.4598e+00, -2.8293e-01,  1.0803e+00,  1.3399e-01,\n",
      "         -2.8742e-01, -7.2608e-01,  1.1453e+00],\n",
      "        [-1.5653e+00, -9.0000e+15,  9.2967e-01,  3.2157e-01,  2.5125e-01,\n",
      "          1.2050e+00, -6.5705e-01,  1.9692e+00],\n",
      "        [-1.0314e+00,  3.8276e-02, -9.0000e+15,  6.5880e-02, -5.8850e-01,\n",
      "         -7.0798e-01,  5.4116e-01, -2.5975e-01],\n",
      "        [ 8.1121e-01,  2.0937e-01, -2.6811e-02, -9.0000e+15,  8.6760e-02,\n",
      "         -9.6729e-01,  6.7711e-01,  3.1482e-01],\n",
      "        [ 1.3140e+00, -1.9555e-01,  1.3681e+00, -1.2858e+00, -9.0000e+15,\n",
      "          9.6381e-01,  7.1739e-01,  5.0893e-01],\n",
      "        [-1.1161e+00,  6.0131e-01,  6.3219e-02,  8.1579e-01, -8.3342e-01,\n",
      "         -9.0000e+15, -2.9551e-02,  5.2883e-01],\n",
      "        [-1.0231e+00, -1.6313e+00, -7.5080e-01, -4.4043e-01, -1.3270e+00,\n",
      "          7.3080e-01, -9.0000e+15,  7.9917e-01],\n",
      "        [ 2.3706e+00,  8.6014e-01, -8.7056e-01,  3.6237e-01,  2.5977e-01,\n",
      "          1.5167e-01,  2.1960e-01, -9.0000e+15]])\n",
      "\n",
      "Positive Example Mask:\n",
      "tensor([[False, False,  True, False,  True, False,  True, False],\n",
      "        [False, False, False,  True, False,  True, False,  True],\n",
      "        [ True, False, False, False,  True, False,  True, False],\n",
      "        [False,  True, False, False, False,  True, False,  True],\n",
      "        [ True, False,  True, False, False, False,  True, False],\n",
      "        [False,  True, False,  True, False, False, False,  True],\n",
      "        [ True, False,  True, False,  True, False, False, False],\n",
      "        [False,  True, False,  True, False,  True, False, False]])\n"
     ]
    }
   ],
   "source": [
    "trial = torch.randn(8, 8)\n",
    "\n",
    "self_mask = torch.eye(trial.shape[0], dtype=torch.bool)\n",
    "trial.masked_fill_(self_mask, -9e15)\n",
    "print(\"\\nCosine Similarity Matrix after Masking Self-Similarity:\")\n",
    "print(trial)\n",
    "\n",
    "batch_size = self_mask.shape[0] // 4\n",
    "for i in range(1, 4):\n",
    "    pos_mask |= self_mask.roll(shifts=batch_size * i, dims=0)\n",
    "print(\"\\nPositive Example Mask:\")\n",
    "print(pos_mask)"
   ]
  },
  {
   "cell_type": "code",
   "execution_count": 78,
   "metadata": {},
   "outputs": [
    {
     "name": "stdout",
     "output_type": "stream",
     "text": [
      "tensor([[-2.8293e-01,  1.3399e-01, -7.2608e-01, -9.0000e+15, -1.4598e+00,\n",
      "         -9.0000e+15,  1.0803e+00, -9.0000e+15, -2.8742e-01, -9.0000e+15,\n",
      "          1.1453e+00],\n",
      "        [ 3.2157e-01,  1.2050e+00,  1.9692e+00, -1.5653e+00, -9.0000e+15,\n",
      "          9.2967e-01, -9.0000e+15,  2.5125e-01, -9.0000e+15, -6.5705e-01,\n",
      "         -9.0000e+15],\n",
      "        [-1.0314e+00, -5.8850e-01,  5.4116e-01, -9.0000e+15,  3.8276e-02,\n",
      "         -9.0000e+15,  6.5880e-02, -9.0000e+15, -7.0798e-01, -9.0000e+15,\n",
      "         -2.5975e-01],\n",
      "        [ 2.0937e-01, -9.6729e-01,  3.1482e-01,  8.1121e-01, -9.0000e+15,\n",
      "         -2.6811e-02, -9.0000e+15,  8.6760e-02, -9.0000e+15,  6.7711e-01,\n",
      "         -9.0000e+15],\n",
      "        [ 1.3140e+00,  1.3681e+00,  7.1739e-01, -9.0000e+15, -1.9555e-01,\n",
      "         -9.0000e+15, -1.2858e+00, -9.0000e+15,  9.6381e-01, -9.0000e+15,\n",
      "          5.0893e-01],\n",
      "        [ 6.0131e-01,  8.1579e-01,  5.2883e-01, -1.1161e+00, -9.0000e+15,\n",
      "          6.3219e-02, -9.0000e+15, -8.3342e-01, -9.0000e+15, -2.9551e-02,\n",
      "         -9.0000e+15],\n",
      "        [-1.0231e+00, -7.5080e-01, -1.3270e+00, -9.0000e+15, -1.6313e+00,\n",
      "         -9.0000e+15, -4.4043e-01, -9.0000e+15,  7.3080e-01, -9.0000e+15,\n",
      "          7.9917e-01],\n",
      "        [ 8.6014e-01,  3.6237e-01,  1.5167e-01,  2.3706e+00, -9.0000e+15,\n",
      "         -8.7056e-01, -9.0000e+15,  2.5977e-01, -9.0000e+15,  2.1960e-01,\n",
      "         -9.0000e+15]])\n",
      "tensor([[10,  6,  1,  0,  8,  2,  4,  3,  5,  7,  9],\n",
      "        [ 2,  1,  5,  0,  7,  9,  3,  4,  6,  8, 10],\n",
      "        [ 2,  6,  4, 10,  1,  8,  0,  3,  5,  7,  9],\n",
      "        [ 3,  9,  2,  0,  7,  5,  1,  4,  6,  8, 10],\n",
      "        [ 1,  0,  8,  2, 10,  4,  6,  3,  5,  7,  9],\n",
      "        [ 1,  0,  2,  5,  9,  7,  3,  4,  6,  8, 10],\n",
      "        [10,  8,  6,  1,  0,  2,  4,  3,  5,  7,  9],\n",
      "        [ 3,  0,  1,  7,  9,  2,  5,  4,  6,  8, 10]])\n",
      "tensor([3, 3, 6, 3, 1, 1, 4, 1]) \n",
      " tensor([2, 1, 4, 6, 0, 0, 3, 2]) \n",
      " tensor([5, 0, 0, 2, 3, 2, 5, 5])\n",
      "\n",
      "Ranking Position of Positive1 Example:\n",
      "tensor([3, 3, 6, 3, 1, 1, 4, 1])\n"
     ]
    }
   ],
   "source": [
    "#print(trial[pos_mask].reshape(-1,3))\n",
    "\n",
    "comb_sim = torch.cat([trial[pos_mask].reshape(-1,3), trial.masked_fill(pos_mask, -9e15)], dim=-1)\n",
    "print(comb_sim)\n",
    "sim_argsort = comb_sim.argsort(dim=-1, descending=True)\n",
    "print(sim_argsort)\n",
    "inx0 = sim_argsort.argmin(dim=-1)\n",
    "inx0 = torch.tensor([np.where(row == 0)[0][0] for row in sim_argsort])\n",
    "inx1 = torch.tensor([np.where(row == 1)[0][0] for row in sim_argsort]) # we need the 0,0 because it returns a tuple\n",
    "inx2 = torch.tensor([np.where(row == 2)[0][0] for row in sim_argsort]) # we need the 0,0 because it returns a tuple\n",
    "print(inx0, \"\\n\", inx1, \"\\n\", inx2)\n",
    "\n",
    "print(\"\\nRanking Position of Positive1 Example:\")\n",
    "print(inx0)"
   ]
  },
  {
   "cell_type": "code",
   "execution_count": 71,
   "metadata": {},
   "outputs": [
    {
     "name": "stdout",
     "output_type": "stream",
     "text": [
      "[1 0]\n"
     ]
    }
   ],
   "source": [
    "test = np.array([[2,  1,  5,  0,  7,  9,  3,  4,  6,  8, 10],[1,  0,  5,  5,  2,  3,  3,  4,  6,  8, 10]])\n",
    "\n",
    "inx1 = np.array([np.where(row == 1)[0][0] for row in test]) # we need the 0,0 because it returns a tuple\n",
    "print(inx1)"
   ]
  },
  {
   "cell_type": "code",
   "execution_count": 67,
   "metadata": {},
   "outputs": [
    {
     "data": {
      "text/plain": [
       "10"
      ]
     },
     "execution_count": 67,
     "metadata": {},
     "output_type": "execute_result"
    }
   ],
   "source": [
    "test2 = np.array([2,  1,  5,  0,  7,  9,  3,  4,  6,  8, 10])\n",
    "idx1 = np.where(test2 == 10)\n",
    "idx1[0][0]"
   ]
  },
  {
   "cell_type": "code",
   "execution_count": 82,
   "metadata": {},
   "outputs": [
    {
     "name": "stdout",
     "output_type": "stream",
     "text": [
      "tensor([[3, 2, 5],\n",
      "        [3, 1, 0],\n",
      "        [6, 4, 0],\n",
      "        [3, 6, 2],\n",
      "        [1, 0, 3],\n",
      "        [1, 0, 2],\n",
      "        [4, 3, 5],\n",
      "        [1, 2, 5]])\n"
     ]
    }
   ],
   "source": [
    "# stack the tensors along a new dimension\n",
    "pos_indices = torch.stack((inx0, inx1, inx2), dim=-1)\n",
    "print(pos_indices)"
   ]
  },
  {
   "cell_type": "code",
   "execution_count": 99,
   "metadata": {},
   "outputs": [
    {
     "ename": "RuntimeError",
     "evalue": "Could not infer dtype of set",
     "output_type": "error",
     "traceback": [
      "\u001b[0;31m---------------------------------------------------------------------------\u001b[0m",
      "\u001b[0;31mRuntimeError\u001b[0m                              Traceback (most recent call last)",
      "Cell \u001b[0;32mIn[99], line 5\u001b[0m\n\u001b[1;32m      2\u001b[0m pos_idx \u001b[38;5;241m=\u001b[39m np\u001b[38;5;241m.\u001b[39marray([[\u001b[38;5;241m0\u001b[39m,\u001b[38;5;241m2\u001b[39m,\u001b[38;5;241m1\u001b[39m],[\u001b[38;5;241m1\u001b[39m,\u001b[38;5;241m2\u001b[39m,\u001b[38;5;241m3\u001b[39m],[\u001b[38;5;241m1\u001b[39m,\u001b[38;5;241m2\u001b[39m,\u001b[38;5;241m4\u001b[39m]])\n\u001b[1;32m      4\u001b[0m \u001b[38;5;66;03m# Define the target set\u001b[39;00m\n\u001b[0;32m----> 5\u001b[0m target_set \u001b[38;5;241m=\u001b[39m \u001b[43mtorch\u001b[49m\u001b[38;5;241;43m.\u001b[39;49m\u001b[43mtensor\u001b[49m\u001b[43m(\u001b[49m\u001b[43m{\u001b[49m\u001b[38;5;241;43m0\u001b[39;49m\u001b[43m,\u001b[49m\u001b[43m \u001b[49m\u001b[38;5;241;43m1\u001b[39;49m\u001b[43m,\u001b[49m\u001b[43m \u001b[49m\u001b[38;5;241;43m2\u001b[39;49m\u001b[43m}\u001b[49m\u001b[43m)\u001b[49m\n\u001b[1;32m      7\u001b[0m \u001b[38;5;66;03m# Check each row in the array\u001b[39;00m\n\u001b[1;32m      8\u001b[0m results \u001b[38;5;241m=\u001b[39m np\u001b[38;5;241m.\u001b[39marray([\u001b[38;5;28mset\u001b[39m(row) \u001b[38;5;241m==\u001b[39m target_set \u001b[38;5;28;01mfor\u001b[39;00m row \u001b[38;5;129;01min\u001b[39;00m pos_idx])\n",
      "\u001b[0;31mRuntimeError\u001b[0m: Could not infer dtype of set"
     ]
    }
   ],
   "source": [
    "# check if the positions of the positive indices are among the first three\n",
    "pos_idx = np.array([[0,2,1],[1,2,3],[1,2,4]])\n",
    "\n",
    "# Define the target set\n",
    "target_set = torch.tensor({0, 1, 2})\n",
    "\n",
    "# Check each row in the array\n",
    "results = np.array([set(row) == target_set for row in pos_idx])\n",
    "\n",
    "# Print the results\n",
    "print(torch.tensor(results).float().mean())"
   ]
  },
  {
   "cell_type": "code",
   "execution_count": 98,
   "metadata": {},
   "outputs": [
    {
     "data": {
      "text/plain": [
       "tensor([3, 2, 5])"
      ]
     },
     "execution_count": 98,
     "metadata": {},
     "output_type": "execute_result"
    }
   ],
   "source": [
    "pos_indices = pos_indices"
   ]
  },
  {
   "cell_type": "code",
   "execution_count": 90,
   "metadata": {},
   "outputs": [
    {
     "ename": "TypeError",
     "evalue": "'builtin_function_or_method' object is not iterable",
     "output_type": "error",
     "traceback": [
      "\u001b[0;31m---------------------------------------------------------------------------\u001b[0m",
      "\u001b[0;31mTypeError\u001b[0m                                 Traceback (most recent call last)",
      "Cell \u001b[0;32mIn[90], line 1\u001b[0m\n\u001b[0;32m----> 1\u001b[0m \u001b[38;5;28;43mset\u001b[39;49m\u001b[43m(\u001b[49m\u001b[43mpos_indices\u001b[49m\u001b[43m[\u001b[49m\u001b[38;5;241;43m-\u001b[39;49m\u001b[38;5;241;43m3\u001b[39;49m\u001b[43m]\u001b[49m\u001b[38;5;241;43m.\u001b[39;49m\u001b[43mvalues\u001b[49m\u001b[43m)\u001b[49m \u001b[38;5;241m==\u001b[39m target_set\n",
      "\u001b[0;31mTypeError\u001b[0m: 'builtin_function_or_method' object is not iterable"
     ]
    }
   ],
   "source": [
    "set(pos_indices[-3]) == target_set"
   ]
  },
  {
   "cell_type": "code",
   "execution_count": 108,
   "metadata": {},
   "outputs": [
    {
     "name": "stdout",
     "output_type": "stream",
     "text": [
      "{0, 1, 2}\n",
      "{0, 1, 2}\n"
     ]
    },
    {
     "data": {
      "text/plain": [
       "True"
      ]
     },
     "execution_count": 108,
     "metadata": {},
     "output_type": "execute_result"
    }
   ],
   "source": [
    "target_set = {0,1,2}\n",
    "print(target_set)\n",
    "a = torch.tensor([0,2,1]).tolist()\n",
    "print(set(a))\n",
    "\n",
    "set(a) == target_set"
   ]
  },
  {
   "cell_type": "code",
   "execution_count": 114,
   "metadata": {},
   "outputs": [
    {
     "name": "stdout",
     "output_type": "stream",
     "text": [
      "tensor([[3, 2, 5],\n",
      "        [3, 1, 0],\n",
      "        [6, 4, 0],\n",
      "        [3, 6, 2],\n",
      "        [1, 0, 3],\n",
      "        [1, 0, 2],\n",
      "        [4, 3, 5],\n",
      "        [1, 2, 5]])\n",
      "{0, 1, 2}\n",
      "[[3 2 5]\n",
      " [3 1 0]\n",
      " [6 4 0]\n",
      " [3 6 2]\n",
      " [1 0 3]\n",
      " [1 0 2]\n",
      " [4 3 5]\n",
      " [1 2 5]]\n",
      "tensor([False, False, False, False, False,  True, False, False])\n"
     ]
    }
   ],
   "source": [
    "print(pos_indices)\n",
    "print(target_set)\n",
    "\n",
    "n_pos_indices = pos_indices.numpy() # dont know if it is necessary to move this to cpu\n",
    "print(n_pos_indices)\n",
    "# Check each row in the array\n",
    "results2 = [set(row) == target_set for row in n_pos_indices]\n",
    "\n",
    "# Print the results\n",
    "print(torch.tensor(results2))"
   ]
  },
  {
   "cell_type": "code",
   "execution_count": null,
   "metadata": {},
   "outputs": [],
   "source": []
  }
 ],
 "metadata": {
  "kernelspec": {
   "display_name": "dlproject",
   "language": "python",
   "name": "python3"
  },
  "language_info": {
   "codemirror_mode": {
    "name": "ipython",
    "version": 3
   },
   "file_extension": ".py",
   "mimetype": "text/x-python",
   "name": "python",
   "nbconvert_exporter": "python",
   "pygments_lexer": "ipython3",
   "version": "3.12.4"
  }
 },
 "nbformat": 4,
 "nbformat_minor": 2
}
