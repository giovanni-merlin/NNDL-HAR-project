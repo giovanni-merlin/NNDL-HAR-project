{
 "cells": [
  {
   "cell_type": "markdown",
   "metadata": {},
   "source": [
    "Use Optuna to optimize the hyperparameters of the projection head for HAR."
   ]
  },
  {
   "cell_type": "markdown",
   "metadata": {},
   "source": [
    "- architecture: N hidden layers (1 to 2), N neurons (4 to 256), dropout (0 to 0.5)\n",
    "- optimizer: lr, weight decay"
   ]
  },
  {
   "cell_type": "code",
   "execution_count": null,
   "metadata": {},
   "outputs": [
    {
     "data": {
      "text/plain": [
       "<torch._C.Generator at 0x750fce1c78b0>"
      ]
     },
     "execution_count": 1,
     "metadata": {},
     "output_type": "execute_result"
    }
   ],
   "source": [
    "import torch as t\n",
    "import torch.nn as nn\n",
    "import torch.nn.functional as F\n",
    "from torch.utils.data import DataLoader#, #Dataset, \n",
    "import torch.optim as optim\n",
    "\n",
    "#from torch.nn import Module, Sequential, Conv2d, BatchNorm2d, ReLU, MaxPool2d, AvgPool2d, Linear, Dropout, ZeroPad2d, CrossEntropyLoss\n",
    "#from torch.optim import SGD, Adam, AdamW, lr_scheduler\n",
    "#from tqdm import tqdm\n",
    "\n",
    "import optuna\n",
    "from optuna.trial import TrialState\n",
    "from optuna.visualization import plot_param_importances, plot_optimization_history\n",
    "import plotly\n",
    "from plotly.io import show\n",
    "\n",
    "from utils_preprocess import *\n",
    "from utils_traintest import *\n",
    "from models.ResNet18 import ResNet18\n",
    "\n",
    "seed = 203345656\n",
    "torch.manual_seed(seed)"
   ]
  },
  {
   "cell_type": "code",
   "execution_count": 81,
   "metadata": {},
   "outputs": [],
   "source": [
    "# define the model to optimize\n",
    "# a FFNN, optimize the number of layers, hidden units, dropout \n",
    "def define_model(trial, num_classes):\n",
    "    n_layers = trial.suggest_int(\"n_layers\", 1, 2)\n",
    "    layers = []\n",
    "\n",
    "    in_features = 2560\n",
    "    for i in range(n_layers):\n",
    "        out_features = trial.suggest_int(\"n_units_l{}\".format(i), 4, 256)\n",
    "        layers.append(nn.Linear(in_features, out_features))\n",
    "        layers.append(nn.ReLU(inplace=True))\n",
    "        p = trial.suggest_float(\"dropout_l{}\".format(i), 0, 0.5)\n",
    "        layers.append(nn.Dropout(p))\n",
    "\n",
    "        in_features = out_features\n",
    "    layers.append(nn.Linear(in_features, num_classes))\n",
    "\n",
    "    return nn.Sequential(*layers)\n",
    "\n",
    "def objective(trial, save_model=False, **kwargs):\n",
    "    \n",
    "    num_classes = kwargs['num_classes']\n",
    "    train_feats_data = kwargs['train_feats']\n",
    "    val_feats_data = kwargs['val_feats']\n",
    "    batch_size = kwargs['batch_size']\n",
    "    device = kwargs['device']\n",
    "    epochs = kwargs['epochs']\n",
    "    save_dir = kwargs['save_dir']\n",
    "    save_name = kwargs['save_name']\n",
    "    \n",
    "    # Generate the model\n",
    "    model = define_model(trial, num_classes).to(device)\n",
    "\n",
    "    # generate the optimizer\n",
    "    lr = trial.suggest_float(\"lr\", 1e-5, 1e-1, log=True)\n",
    "    weight_decay = trial.suggest_float(\"weight_decay\", 1e-4, 1e-1, log=True)\n",
    "    optimizer = optim.AdamW(model.parameters(), lr=lr, weight_decay=weight_decay)\n",
    "\n",
    "    train_loader = DataLoader(train_feats_data, batch_size=batch_size, shuffle=True, drop_last=False)\n",
    "    val_loader = DataLoader(val_feats_data, batch_size=batch_size, shuffle=False, drop_last=False)\n",
    "\n",
    "    best_val = np.inf\n",
    "    for epoch in range(epochs):\n",
    "        #print(\"Epoch {}\".format(epoch))\n",
    "        model.train()\n",
    "        for batch in train_loader:\n",
    "            feats, labels = batch\n",
    "            feats = feats.to(device)\n",
    "            labels = labels.to(device)\n",
    "            labels = labels.squeeze(dim=1)\n",
    "            preds = model(feats)\n",
    "            loss = F.cross_entropy(preds, labels)\n",
    "            optimizer.zero_grad()\n",
    "            loss.backward()\n",
    "            optimizer.step()\n",
    "\n",
    "        model.eval()\n",
    "        with torch.no_grad():\n",
    "            vlosses = []\n",
    "            model.eval()\n",
    "            for batch in val_loader:\n",
    "                feats, labels = batch\n",
    "                feats = feats.to(device)\n",
    "                labels = labels.to(device)\n",
    "                labels = labels.squeeze(dim=1)\n",
    "                preds = model(feats)\n",
    "                loss = F.cross_entropy(preds, labels)\n",
    "                vlosses.append(loss.item())\n",
    "\n",
    "            val_loss = np.mean(vlosses)\n",
    "\n",
    "        if save_model:\n",
    "            if val_loss < best_val:\n",
    "                model_scripted = torch.jit.script(model) \n",
    "                model_scripted.save(os.path.join(save_dir, save_name))\n",
    "                best_val = val_loss\n",
    "\n",
    "        trial.report(val_loss, epoch)\n",
    "\n",
    "        # Handle pruning based on the intermediate value.\n",
    "        if trial.should_prune():\n",
    "            raise optuna.exceptions.TrialPruned()\n",
    "\n",
    "    return val_loss"
   ]
  },
  {
   "cell_type": "code",
   "execution_count": null,
   "metadata": {},
   "outputs": [
    {
     "data": {
      "text/plain": [
       "<All keys matched successfully>"
      ]
     },
     "execution_count": 3,
     "metadata": {},
     "output_type": "execute_result"
    }
   ],
   "source": [
    "# call the trained encoder\n",
    "simclr_model = ResNet18(hidden_dimension=16)\n",
    "path_model = 'models/ResNet18/My_ResNet18_hd16_bs128.ckpt'\n",
    "device = 'cuda' if torch.cuda.is_available() else 'cpu'\n",
    "simclr_model.load_state_dict(torch.load(path_model, map_location=torch.device(device), weights_only=True))"
   ]
  },
  {
   "cell_type": "markdown",
   "metadata": {},
   "source": [
    "#### HAR projection head optimization\n",
    "NB: Optuna optimizes the hyperparameters, but does not (straightforwardly) save the network models and weights. Thus, once the hyperparameters are chosen, it is necessary to re-train the model to test it."
   ]
  },
  {
   "cell_type": "code",
   "execution_count": 4,
   "metadata": {},
   "outputs": [
    {
     "name": "stderr",
     "output_type": "stream",
     "text": [
      "100%|██████████| 677/677 [05:09<00:00,  2.19it/s]\n",
      "100%|██████████| 210/210 [01:33<00:00,  2.26it/s]\n"
     ]
    }
   ],
   "source": [
    "# prepare the training and validation data\n",
    "num_classes = 5\n",
    "dir_init = './doppler_traces/' #Directory of data\n",
    "subdirs_init = 'S1a,S1b,S1c' #Subdirs for training\n",
    "\n",
    "dataset_csi_train_class = create_training_set(dir_init=dir_init, subdirs_init=subdirs_init)\n",
    "dataset_csi_val_class = create_validation_set(dir_init=dir_init, subdirs_init=subdirs_init)\n",
    "\n",
    "# prepare the features\n",
    "train_feats = prepare_data_features(simclr_model, dataset_csi_train_class, device=device)\n",
    "val_feats = prepare_data_features(simclr_model, dataset_csi_val_class, device=device)"
   ]
  },
  {
   "cell_type": "code",
   "execution_count": 88,
   "metadata": {},
   "outputs": [
    {
     "name": "stderr",
     "output_type": "stream",
     "text": [
      "[I 2025-01-15 19:22:44,666] A new study created in memory with name: no-name-175a1b23-84fb-49dd-ada2-b7cdb32e8012\n"
     ]
    },
    {
     "name": "stdout",
     "output_type": "stream",
     "text": [
      "Epoch 0\n",
      "Epoch 1\n",
      "Epoch 2\n",
      "Epoch 3\n",
      "Epoch 4\n",
      "Epoch 5\n",
      "Epoch 6\n",
      "Epoch 7\n",
      "Epoch 8\n",
      "Epoch 9\n"
     ]
    },
    {
     "name": "stderr",
     "output_type": "stream",
     "text": [
      "[I 2025-01-15 19:23:25,092] Trial 0 finished with value: 0.6528741044199197 and parameters: {'n_units_l0': 256, 'dropout_l0': 0.0, 'lr': 0.01474729343840819, 'weight_decay': 0.008280680964559136}. Best is trial 0 with value: 0.6528741044199197.\n"
     ]
    },
    {
     "name": "stdout",
     "output_type": "stream",
     "text": [
      "Epoch 0\n",
      "Epoch 1\n",
      "Epoch 2\n",
      "Epoch 3\n",
      "Epoch 4\n",
      "Epoch 5\n",
      "Epoch 6\n",
      "Epoch 7\n",
      "Epoch 8\n",
      "Epoch 9\n"
     ]
    },
    {
     "name": "stderr",
     "output_type": "stream",
     "text": [
      "[I 2025-01-15 19:24:02,442] Trial 1 finished with value: 0.5364990374109391 and parameters: {'n_units_l0': 256, 'dropout_l0': 0.0, 'lr': 2.2255904940562358e-05, 'weight_decay': 0.0006099262666660295}. Best is trial 1 with value: 0.5364990374109391.\n"
     ]
    },
    {
     "name": "stdout",
     "output_type": "stream",
     "text": [
      "Epoch 0\n",
      "Epoch 1\n",
      "Epoch 2\n",
      "Epoch 3\n",
      "Epoch 4\n",
      "Epoch 5\n",
      "Epoch 6\n",
      "Epoch 7\n",
      "Epoch 8\n",
      "Epoch 9\n"
     ]
    },
    {
     "name": "stderr",
     "output_type": "stream",
     "text": [
      "[I 2025-01-15 19:24:39,041] Trial 2 finished with value: 0.7227133529627064 and parameters: {'n_units_l0': 256, 'dropout_l0': 0.0, 'lr': 0.02113049284753265, 'weight_decay': 0.014902912566074112}. Best is trial 1 with value: 0.5364990374109391.\n"
     ]
    },
    {
     "name": "stdout",
     "output_type": "stream",
     "text": [
      "Epoch 0\n",
      "Epoch 1\n",
      "Epoch 2\n",
      "Epoch 3\n",
      "Epoch 4\n",
      "Epoch 5\n",
      "Epoch 6\n",
      "Epoch 7\n",
      "Epoch 8\n",
      "Epoch 9\n"
     ]
    },
    {
     "name": "stderr",
     "output_type": "stream",
     "text": [
      "[I 2025-01-15 19:25:16,403] Trial 3 finished with value: 1.176174545696094 and parameters: {'n_units_l0': 256, 'dropout_l0': 0.0, 'lr': 0.037521210419948464, 'weight_decay': 0.01797758877755618}. Best is trial 1 with value: 0.5364990374109391.\n"
     ]
    },
    {
     "name": "stdout",
     "output_type": "stream",
     "text": [
      "Epoch 0\n",
      "Epoch 1\n",
      "Epoch 2\n",
      "Epoch 3\n",
      "Epoch 4\n",
      "Epoch 5\n",
      "Epoch 6\n",
      "Epoch 7\n",
      "Epoch 8\n",
      "Epoch 9\n"
     ]
    },
    {
     "name": "stderr",
     "output_type": "stream",
     "text": [
      "[I 2025-01-15 19:25:48,253] Trial 4 finished with value: 0.4908310715638306 and parameters: {'n_units_l0': 256, 'dropout_l0': 0.0, 'lr': 0.0015532976177085546, 'weight_decay': 0.00416355106334974}. Best is trial 4 with value: 0.4908310715638306.\n"
     ]
    },
    {
     "name": "stdout",
     "output_type": "stream",
     "text": [
      "Study statistics: \n",
      "  Number of finished trials:  5\n",
      "  Number of pruned trials:  0\n",
      "  Number of complete trials:  5\n",
      "Best trial:\n",
      "  Value:  0.4908310715638306\n",
      "  Params: \n",
      "    n_units_l0: 256\n",
      "    dropout_l0: 0.0\n",
      "    lr: 0.0015532976177085546\n",
      "    weight_decay: 0.00416355106334974\n"
     ]
    },
    {
     "data": {
      "application/vnd.plotly.v1+json": {
       "config": {
        "plotlyServerURL": "https://plot.ly"
       },
       "data": [
        {
         "cliponaxis": false,
         "hovertemplate": [
          "dropout_l0 (FloatDistribution): 0.0<extra></extra>",
          "n_units_l0 (IntDistribution): 0.0<extra></extra>",
          "weight_decay (FloatDistribution): 0.4625793807341817<extra></extra>",
          "lr (FloatDistribution): 0.5374206192658183<extra></extra>"
         ],
         "name": "Objective Value",
         "orientation": "h",
         "text": [
          "<0.01",
          "<0.01",
          "0.46",
          "0.54"
         ],
         "textposition": "outside",
         "type": "bar",
         "x": [
          0,
          0,
          0.4625793807341817,
          0.5374206192658183
         ],
         "y": [
          "dropout_l0",
          "n_units_l0",
          "weight_decay",
          "lr"
         ]
        }
       ],
       "layout": {
        "template": {
         "data": {
          "bar": [
           {
            "error_x": {
             "color": "#2a3f5f"
            },
            "error_y": {
             "color": "#2a3f5f"
            },
            "marker": {
             "line": {
              "color": "#E5ECF6",
              "width": 0.5
             },
             "pattern": {
              "fillmode": "overlay",
              "size": 10,
              "solidity": 0.2
             }
            },
            "type": "bar"
           }
          ],
          "barpolar": [
           {
            "marker": {
             "line": {
              "color": "#E5ECF6",
              "width": 0.5
             },
             "pattern": {
              "fillmode": "overlay",
              "size": 10,
              "solidity": 0.2
             }
            },
            "type": "barpolar"
           }
          ],
          "carpet": [
           {
            "aaxis": {
             "endlinecolor": "#2a3f5f",
             "gridcolor": "white",
             "linecolor": "white",
             "minorgridcolor": "white",
             "startlinecolor": "#2a3f5f"
            },
            "baxis": {
             "endlinecolor": "#2a3f5f",
             "gridcolor": "white",
             "linecolor": "white",
             "minorgridcolor": "white",
             "startlinecolor": "#2a3f5f"
            },
            "type": "carpet"
           }
          ],
          "choropleth": [
           {
            "colorbar": {
             "outlinewidth": 0,
             "ticks": ""
            },
            "type": "choropleth"
           }
          ],
          "contour": [
           {
            "colorbar": {
             "outlinewidth": 0,
             "ticks": ""
            },
            "colorscale": [
             [
              0,
              "#0d0887"
             ],
             [
              0.1111111111111111,
              "#46039f"
             ],
             [
              0.2222222222222222,
              "#7201a8"
             ],
             [
              0.3333333333333333,
              "#9c179e"
             ],
             [
              0.4444444444444444,
              "#bd3786"
             ],
             [
              0.5555555555555556,
              "#d8576b"
             ],
             [
              0.6666666666666666,
              "#ed7953"
             ],
             [
              0.7777777777777778,
              "#fb9f3a"
             ],
             [
              0.8888888888888888,
              "#fdca26"
             ],
             [
              1,
              "#f0f921"
             ]
            ],
            "type": "contour"
           }
          ],
          "contourcarpet": [
           {
            "colorbar": {
             "outlinewidth": 0,
             "ticks": ""
            },
            "type": "contourcarpet"
           }
          ],
          "heatmap": [
           {
            "colorbar": {
             "outlinewidth": 0,
             "ticks": ""
            },
            "colorscale": [
             [
              0,
              "#0d0887"
             ],
             [
              0.1111111111111111,
              "#46039f"
             ],
             [
              0.2222222222222222,
              "#7201a8"
             ],
             [
              0.3333333333333333,
              "#9c179e"
             ],
             [
              0.4444444444444444,
              "#bd3786"
             ],
             [
              0.5555555555555556,
              "#d8576b"
             ],
             [
              0.6666666666666666,
              "#ed7953"
             ],
             [
              0.7777777777777778,
              "#fb9f3a"
             ],
             [
              0.8888888888888888,
              "#fdca26"
             ],
             [
              1,
              "#f0f921"
             ]
            ],
            "type": "heatmap"
           }
          ],
          "heatmapgl": [
           {
            "colorbar": {
             "outlinewidth": 0,
             "ticks": ""
            },
            "colorscale": [
             [
              0,
              "#0d0887"
             ],
             [
              0.1111111111111111,
              "#46039f"
             ],
             [
              0.2222222222222222,
              "#7201a8"
             ],
             [
              0.3333333333333333,
              "#9c179e"
             ],
             [
              0.4444444444444444,
              "#bd3786"
             ],
             [
              0.5555555555555556,
              "#d8576b"
             ],
             [
              0.6666666666666666,
              "#ed7953"
             ],
             [
              0.7777777777777778,
              "#fb9f3a"
             ],
             [
              0.8888888888888888,
              "#fdca26"
             ],
             [
              1,
              "#f0f921"
             ]
            ],
            "type": "heatmapgl"
           }
          ],
          "histogram": [
           {
            "marker": {
             "pattern": {
              "fillmode": "overlay",
              "size": 10,
              "solidity": 0.2
             }
            },
            "type": "histogram"
           }
          ],
          "histogram2d": [
           {
            "colorbar": {
             "outlinewidth": 0,
             "ticks": ""
            },
            "colorscale": [
             [
              0,
              "#0d0887"
             ],
             [
              0.1111111111111111,
              "#46039f"
             ],
             [
              0.2222222222222222,
              "#7201a8"
             ],
             [
              0.3333333333333333,
              "#9c179e"
             ],
             [
              0.4444444444444444,
              "#bd3786"
             ],
             [
              0.5555555555555556,
              "#d8576b"
             ],
             [
              0.6666666666666666,
              "#ed7953"
             ],
             [
              0.7777777777777778,
              "#fb9f3a"
             ],
             [
              0.8888888888888888,
              "#fdca26"
             ],
             [
              1,
              "#f0f921"
             ]
            ],
            "type": "histogram2d"
           }
          ],
          "histogram2dcontour": [
           {
            "colorbar": {
             "outlinewidth": 0,
             "ticks": ""
            },
            "colorscale": [
             [
              0,
              "#0d0887"
             ],
             [
              0.1111111111111111,
              "#46039f"
             ],
             [
              0.2222222222222222,
              "#7201a8"
             ],
             [
              0.3333333333333333,
              "#9c179e"
             ],
             [
              0.4444444444444444,
              "#bd3786"
             ],
             [
              0.5555555555555556,
              "#d8576b"
             ],
             [
              0.6666666666666666,
              "#ed7953"
             ],
             [
              0.7777777777777778,
              "#fb9f3a"
             ],
             [
              0.8888888888888888,
              "#fdca26"
             ],
             [
              1,
              "#f0f921"
             ]
            ],
            "type": "histogram2dcontour"
           }
          ],
          "mesh3d": [
           {
            "colorbar": {
             "outlinewidth": 0,
             "ticks": ""
            },
            "type": "mesh3d"
           }
          ],
          "parcoords": [
           {
            "line": {
             "colorbar": {
              "outlinewidth": 0,
              "ticks": ""
             }
            },
            "type": "parcoords"
           }
          ],
          "pie": [
           {
            "automargin": true,
            "type": "pie"
           }
          ],
          "scatter": [
           {
            "fillpattern": {
             "fillmode": "overlay",
             "size": 10,
             "solidity": 0.2
            },
            "type": "scatter"
           }
          ],
          "scatter3d": [
           {
            "line": {
             "colorbar": {
              "outlinewidth": 0,
              "ticks": ""
             }
            },
            "marker": {
             "colorbar": {
              "outlinewidth": 0,
              "ticks": ""
             }
            },
            "type": "scatter3d"
           }
          ],
          "scattercarpet": [
           {
            "marker": {
             "colorbar": {
              "outlinewidth": 0,
              "ticks": ""
             }
            },
            "type": "scattercarpet"
           }
          ],
          "scattergeo": [
           {
            "marker": {
             "colorbar": {
              "outlinewidth": 0,
              "ticks": ""
             }
            },
            "type": "scattergeo"
           }
          ],
          "scattergl": [
           {
            "marker": {
             "colorbar": {
              "outlinewidth": 0,
              "ticks": ""
             }
            },
            "type": "scattergl"
           }
          ],
          "scattermapbox": [
           {
            "marker": {
             "colorbar": {
              "outlinewidth": 0,
              "ticks": ""
             }
            },
            "type": "scattermapbox"
           }
          ],
          "scatterpolar": [
           {
            "marker": {
             "colorbar": {
              "outlinewidth": 0,
              "ticks": ""
             }
            },
            "type": "scatterpolar"
           }
          ],
          "scatterpolargl": [
           {
            "marker": {
             "colorbar": {
              "outlinewidth": 0,
              "ticks": ""
             }
            },
            "type": "scatterpolargl"
           }
          ],
          "scatterternary": [
           {
            "marker": {
             "colorbar": {
              "outlinewidth": 0,
              "ticks": ""
             }
            },
            "type": "scatterternary"
           }
          ],
          "surface": [
           {
            "colorbar": {
             "outlinewidth": 0,
             "ticks": ""
            },
            "colorscale": [
             [
              0,
              "#0d0887"
             ],
             [
              0.1111111111111111,
              "#46039f"
             ],
             [
              0.2222222222222222,
              "#7201a8"
             ],
             [
              0.3333333333333333,
              "#9c179e"
             ],
             [
              0.4444444444444444,
              "#bd3786"
             ],
             [
              0.5555555555555556,
              "#d8576b"
             ],
             [
              0.6666666666666666,
              "#ed7953"
             ],
             [
              0.7777777777777778,
              "#fb9f3a"
             ],
             [
              0.8888888888888888,
              "#fdca26"
             ],
             [
              1,
              "#f0f921"
             ]
            ],
            "type": "surface"
           }
          ],
          "table": [
           {
            "cells": {
             "fill": {
              "color": "#EBF0F8"
             },
             "line": {
              "color": "white"
             }
            },
            "header": {
             "fill": {
              "color": "#C8D4E3"
             },
             "line": {
              "color": "white"
             }
            },
            "type": "table"
           }
          ]
         },
         "layout": {
          "annotationdefaults": {
           "arrowcolor": "#2a3f5f",
           "arrowhead": 0,
           "arrowwidth": 1
          },
          "autotypenumbers": "strict",
          "coloraxis": {
           "colorbar": {
            "outlinewidth": 0,
            "ticks": ""
           }
          },
          "colorscale": {
           "diverging": [
            [
             0,
             "#8e0152"
            ],
            [
             0.1,
             "#c51b7d"
            ],
            [
             0.2,
             "#de77ae"
            ],
            [
             0.3,
             "#f1b6da"
            ],
            [
             0.4,
             "#fde0ef"
            ],
            [
             0.5,
             "#f7f7f7"
            ],
            [
             0.6,
             "#e6f5d0"
            ],
            [
             0.7,
             "#b8e186"
            ],
            [
             0.8,
             "#7fbc41"
            ],
            [
             0.9,
             "#4d9221"
            ],
            [
             1,
             "#276419"
            ]
           ],
           "sequential": [
            [
             0,
             "#0d0887"
            ],
            [
             0.1111111111111111,
             "#46039f"
            ],
            [
             0.2222222222222222,
             "#7201a8"
            ],
            [
             0.3333333333333333,
             "#9c179e"
            ],
            [
             0.4444444444444444,
             "#bd3786"
            ],
            [
             0.5555555555555556,
             "#d8576b"
            ],
            [
             0.6666666666666666,
             "#ed7953"
            ],
            [
             0.7777777777777778,
             "#fb9f3a"
            ],
            [
             0.8888888888888888,
             "#fdca26"
            ],
            [
             1,
             "#f0f921"
            ]
           ],
           "sequentialminus": [
            [
             0,
             "#0d0887"
            ],
            [
             0.1111111111111111,
             "#46039f"
            ],
            [
             0.2222222222222222,
             "#7201a8"
            ],
            [
             0.3333333333333333,
             "#9c179e"
            ],
            [
             0.4444444444444444,
             "#bd3786"
            ],
            [
             0.5555555555555556,
             "#d8576b"
            ],
            [
             0.6666666666666666,
             "#ed7953"
            ],
            [
             0.7777777777777778,
             "#fb9f3a"
            ],
            [
             0.8888888888888888,
             "#fdca26"
            ],
            [
             1,
             "#f0f921"
            ]
           ]
          },
          "colorway": [
           "#636efa",
           "#EF553B",
           "#00cc96",
           "#ab63fa",
           "#FFA15A",
           "#19d3f3",
           "#FF6692",
           "#B6E880",
           "#FF97FF",
           "#FECB52"
          ],
          "font": {
           "color": "#2a3f5f"
          },
          "geo": {
           "bgcolor": "white",
           "lakecolor": "white",
           "landcolor": "#E5ECF6",
           "showlakes": true,
           "showland": true,
           "subunitcolor": "white"
          },
          "hoverlabel": {
           "align": "left"
          },
          "hovermode": "closest",
          "mapbox": {
           "style": "light"
          },
          "paper_bgcolor": "white",
          "plot_bgcolor": "#E5ECF6",
          "polar": {
           "angularaxis": {
            "gridcolor": "white",
            "linecolor": "white",
            "ticks": ""
           },
           "bgcolor": "#E5ECF6",
           "radialaxis": {
            "gridcolor": "white",
            "linecolor": "white",
            "ticks": ""
           }
          },
          "scene": {
           "xaxis": {
            "backgroundcolor": "#E5ECF6",
            "gridcolor": "white",
            "gridwidth": 2,
            "linecolor": "white",
            "showbackground": true,
            "ticks": "",
            "zerolinecolor": "white"
           },
           "yaxis": {
            "backgroundcolor": "#E5ECF6",
            "gridcolor": "white",
            "gridwidth": 2,
            "linecolor": "white",
            "showbackground": true,
            "ticks": "",
            "zerolinecolor": "white"
           },
           "zaxis": {
            "backgroundcolor": "#E5ECF6",
            "gridcolor": "white",
            "gridwidth": 2,
            "linecolor": "white",
            "showbackground": true,
            "ticks": "",
            "zerolinecolor": "white"
           }
          },
          "shapedefaults": {
           "line": {
            "color": "#2a3f5f"
           }
          },
          "ternary": {
           "aaxis": {
            "gridcolor": "white",
            "linecolor": "white",
            "ticks": ""
           },
           "baxis": {
            "gridcolor": "white",
            "linecolor": "white",
            "ticks": ""
           },
           "bgcolor": "#E5ECF6",
           "caxis": {
            "gridcolor": "white",
            "linecolor": "white",
            "ticks": ""
           }
          },
          "title": {
           "x": 0.05
          },
          "xaxis": {
           "automargin": true,
           "gridcolor": "white",
           "linecolor": "white",
           "ticks": "",
           "title": {
            "standoff": 15
           },
           "zerolinecolor": "white",
           "zerolinewidth": 2
          },
          "yaxis": {
           "automargin": true,
           "gridcolor": "white",
           "linecolor": "white",
           "ticks": "",
           "title": {
            "standoff": 15
           },
           "zerolinecolor": "white",
           "zerolinewidth": 2
          }
         }
        },
        "title": {
         "text": "Hyperparameter Importances"
        },
        "xaxis": {
         "title": {
          "text": "Hyperparameter Importance"
         }
        },
        "yaxis": {
         "title": {
          "text": "Hyperparameter"
         }
        }
       }
      }
     },
     "metadata": {},
     "output_type": "display_data"
    }
   ],
   "source": [
    "batch_size = 64\n",
    "epochs = 100\n",
    "save_dir = 'models/ResNet18/My_ResNet18_hd16_bs128'\n",
    "save_name = 'SimpleClassifierOptimized_HAR.pt'\n",
    "\n",
    "kwargs = {'num_classes': num_classes,\n",
    "          'train_feats':train_feats,\n",
    "          'val_feats': val_feats,\n",
    "          'device': device,\n",
    "          'batch_size': batch_size,\n",
    "          'epochs': epochs,\n",
    "          'save_dir': save_dir,\n",
    "          'save_name': save_name}\n",
    "\n",
    "# run the optimizer\n",
    "study = optuna.create_study(direction=\"minimize\")\n",
    "study.optimize(lambda trial: objective(trial, save_model=False, **kwargs), n_trials=200, n_jobs=-1)\n",
    "\n",
    "pruned_trials = study.get_trials(deepcopy=False, states=[TrialState.PRUNED])\n",
    "complete_trials = study.get_trials(deepcopy=False, states=[TrialState.COMPLETE])\n",
    "\n",
    "print(\"Study statistics: \")\n",
    "print(\"  Number of finished trials: \", len(study.trials))\n",
    "print(\"  Number of pruned trials: \", len(pruned_trials))\n",
    "print(\"  Number of complete trials: \", len(complete_trials))\n",
    "\n",
    "print(\"Best trial:\")\n",
    "best_trial = study.best_trial\n",
    "\n",
    "print(\"  Value: \", best_trial.value)\n",
    "\n",
    "print(\"  Params: \")\n",
    "for key, value in best_trial.params.items():\n",
    "    print(\"    {}: {}\".format(key, value))\n",
    "\n",
    "fig = plot_param_importances(study)\n",
    "show(fig)\n",
    "\n",
    "### (RE)TRAIN THE BEST MODEL\n",
    "objective(best_trial, save_model=True, **kwargs)"
   ]
  },
  {
   "cell_type": "code",
   "execution_count": null,
   "metadata": {},
   "outputs": [
    {
     "name": "stderr",
     "output_type": "stream",
     "text": [
      "100%|██████████| 205/205 [02:04<00:00,  1.65it/s]\n"
     ]
    }
   ],
   "source": [
    "#### TEST THE BEST MODEL\n",
    "dir_init = './doppler_traces/' #Directory of data\n",
    "subdirs_init = 'S1a,S1b,S1c' #Subdirs for training\n",
    "\n",
    "dataset_csi_test_class, labels_true_test = create_test_set(dir_init=dir_init, subdirs_init=subdirs_init)\n",
    "test_feats = prepare_data_features(simclr_model, dataset_csi_test_class, device=device)\n",
    "labels_considered = np.arange(5)"
   ]
  },
  {
   "cell_type": "code",
   "execution_count": 90,
   "metadata": {},
   "outputs": [
    {
     "name": "stderr",
     "output_type": "stream",
     "text": [
      "100%|██████████| 103/103 [00:00<00:00, 176.12it/s]\n"
     ]
    },
    {
     "name": "stdout",
     "output_type": "stream",
     "text": [
      "shape of the predicted labels list: torch.Size([6544, 5])\n",
      "shape of the true labels: torch.Size([6544])\n",
      "loss: 0.5089306831359863, accuracy: 0.792940080165863\n"
     ]
    },
    {
     "name": "stderr",
     "output_type": "stream",
     "text": [
      "/home/giovanni/Desktop/Deep Learning/project/NNDL HAR project/utils_traintest.py:456: UserWarning:\n",
      "\n",
      "There are no gridspecs with layoutgrids. Possibly did not call parent GridSpec with the \"figure\" keyword\n",
      "\n",
      "/home/giovanni/miniconda3/envs/dlproject/lib/python3.12/site-packages/IPython/core/pylabtools.py:170: UserWarning:\n",
      "\n",
      "There are no gridspecs with layoutgrids. Possibly did not call parent GridSpec with the \"figure\" keyword\n",
      "\n"
     ]
    },
    {
     "data": {
      "image/png": "[encoded data removed]",
      "text/plain": [
       "<Figure size 550x400 with 2 Axes>"
      ]
     },
     "metadata": {},
     "output_type": "display_data"
    }
   ],
   "source": [
    "best_model = torch.jit.load(save_dir+save_name)\n",
    "classifier_model = best_model\n",
    "device = 'cuda' if torch.cuda.is_available() else 'cpu'\n",
    "classifier_model.to(device)\n",
    "classifier_model.eval()\n",
    "batch_size = 64\n",
    "loss_fn = torch.nn.CrossEntropyLoss()\n",
    "\n",
    "with torch.no_grad():\n",
    "    predictions = []\n",
    "    true = []\n",
    "\n",
    "    test_loader = DataLoader(test_feats, batch_size=batch_size, shuffle=False, drop_last=False)\n",
    "\n",
    "    for batch in tqdm(test_loader):\n",
    "        feats, labels = batch\n",
    "        feats = feats.to(device)\n",
    "        labels = labels.to(device)\n",
    "        labels = labels.squeeze(dim=1)\n",
    "        preds = classifier_model(feats)\n",
    "        predictions.append(preds)\n",
    "        true.append(labels)\n",
    "\n",
    "    predictions = torch.cat(predictions, axis=0) # concatenate the predictions for all batches\n",
    "    true = torch.cat(true, axis=0)\n",
    "    print(\"shape of the predicted labels list:\", predictions.shape)\n",
    "    print(\"shape of the true labels:\", true.shape)\n",
    "    test_loss = loss_fn(predictions, true)\n",
    "    true = true.detach().cpu()\n",
    "    labels_pred_list_test = torch.softmax(predictions, dim=1).detach().cpu()\n",
    "    labels_pred_test = labels_pred_list_test.argmax(dim=1) # restituisce l'indice del valore maggiore\n",
    "    test_acc = (labels_pred_test == true).float().mean()\n",
    "    conf_matrix = confusion_matrix(true, labels_pred_test)\n",
    "    print(f\"loss: {test_loss}, accuracy: {test_acc}\")\n",
    "\n",
    "labels_pred_max_merged = merge_predictions(labels_true_test, labels_pred_list_test, labels_pred_test)\n",
    "conf_matrix_max_merged = confusion_matrix(labels_true_test, labels_pred_max_merged, labels=labels_considered)\n",
    "activities = np.array(['E','L','W','R','J'])\n",
    "plt_confusion_matrix(activities.shape[0], conf_matrix_max_merged, lables=activities, title='SimpleClassifierOptimized_HAR_'+str(subdirs_init), save_dir=save_dir, save_name='SimpleClassifierOptimized_HAR')"
   ]
  },
  {
   "cell_type": "markdown",
   "metadata": {},
   "source": [
    "#### PI projection head optimization"
   ]
  },
  {
   "cell_type": "code",
   "execution_count": 4,
   "metadata": {},
   "outputs": [
    {
     "name": "stderr",
     "output_type": "stream",
     "text": [
      "100%|██████████| 226/226 [01:32<00:00,  2.44it/s]\n",
      "100%|██████████| 70/70 [00:26<00:00,  2.61it/s]\n"
     ]
    }
   ],
   "source": [
    "# prepare the training and validation data\n",
    "num_classes = 3\n",
    "dir_init = './doppler_traces/' #Directory of data\n",
    "subdirs_init = 'S1a,S1b,S1c' #Subdirs for training\n",
    "\n",
    "dataset_PI_train_class = create_training_set(dir_init=dir_init, subdirs_init=subdirs_init, PI=num_classes)\n",
    "dataset_PI_val_class = create_validation_set(dir_init=dir_init, subdirs_init=subdirs_init, PI=num_classes)\n",
    "\n",
    "# prepare the features\n",
    "train_feats_PI = prepare_data_features(simclr_model, dataset_PI_train_class, device=device)\n",
    "val_feats_PI = prepare_data_features(simclr_model, dataset_PI_val_class, device=device)"
   ]
  },
  {
   "cell_type": "code",
   "execution_count": 27,
   "metadata": {},
   "outputs": [
    {
     "name": "stderr",
     "output_type": "stream",
     "text": [
      "[I 2025-01-13 15:16:00,295] A new study created in memory with name: no-name-89f54140-65dc-4216-8594-7031ce622554\n",
      "[I 2025-01-13 15:16:05,567] Trial 7 finished with value: 0.0 and parameters: {'n_layers': 1, 'n_units_l0': 158, 'dropout_l0': 0.0962617721398194, 'lr': 0.01082450055977514, 'weight_decay': 0.01908820960235018}. Best is trial 7 with value: 0.0.\n",
      "[I 2025-01-13 15:16:05,959] Trial 2 finished with value: 0.0 and parameters: {'n_layers': 1, 'n_units_l0': 254, 'dropout_l0': 0.21939382899486504, 'lr': 0.0007315344018283189, 'weight_decay': 0.011006334237649363}. Best is trial 7 with value: 0.0.\n",
      "[I 2025-01-13 15:16:06,174] Trial 3 finished with value: 0.2023182477269854 and parameters: {'n_layers': 2, 'n_units_l0': 61, 'dropout_l0': 0.4827216989953583, 'n_units_l1': 48, 'dropout_l1': 0.4954513606474351, 'lr': 1.5032906327758673e-05, 'weight_decay': 0.026505335270966716}. Best is trial 7 with value: 0.0.\n",
      "[I 2025-01-13 15:16:06,480] Trial 4 finished with value: 0.011173562306378568 and parameters: {'n_layers': 2, 'n_units_l0': 212, 'dropout_l0': 0.1723173778531234, 'n_units_l1': 24, 'dropout_l1': 0.1911471732881313, 'lr': 3.3571571669686796e-05, 'weight_decay': 0.002282143621646434}. Best is trial 7 with value: 0.0.\n",
      "[I 2025-01-13 15:16:06,922] Trial 5 finished with value: 0.0 and parameters: {'n_layers': 3, 'n_units_l0': 18, 'dropout_l0': 0.12689551234293567, 'n_units_l1': 245, 'dropout_l1': 0.013307012251461081, 'n_units_l2': 96, 'dropout_l2': 0.22418839635326943, 'lr': 0.009940616625242635, 'weight_decay': 0.013643320697813273}. Best is trial 7 with value: 0.0.\n",
      "[I 2025-01-13 15:16:07,075] Trial 1 pruned. \n",
      "[I 2025-01-13 15:16:07,125] Trial 0 pruned. \n",
      "[I 2025-01-13 15:16:07,169] Trial 6 pruned. \n",
      "[I 2025-01-13 15:16:07,849] Trial 9 pruned. \n",
      "[I 2025-01-13 15:16:08,051] Trial 8 finished with value: 0.0 and parameters: {'n_layers': 2, 'n_units_l0': 252, 'dropout_l0': 0.17742918607722796, 'n_units_l1': 75, 'dropout_l1': 0.4553505346859133, 'lr': 0.027811141805356987, 'weight_decay': 0.006273970965618682}. Best is trial 7 with value: 0.0.\n"
     ]
    },
    {
     "name": "stdout",
     "output_type": "stream",
     "text": [
      "Study statistics: \n",
      "  Number of finished trials:  10\n",
      "  Number of pruned trials:  4\n",
      "  Number of complete trials:  6\n",
      "Best trial:\n",
      "  Value:  0.0\n",
      "  Params: \n",
      "    n_layers: 1\n",
      "    n_units_l0: 158\n",
      "    dropout_l0: 0.0962617721398194\n",
      "    lr: 0.01082450055977514\n",
      "    weight_decay: 0.01908820960235018\n"
     ]
    },
    {
     "data": {
      "application/vnd.plotly.v1+json": {
       "config": {
        "plotlyServerURL": "https://plot.ly"
       },
       "data": [
        {
         "cliponaxis": false,
         "hovertemplate": [
          "n_layers (IntDistribution): 0.01851954169002643<extra></extra>",
          "n_units_l0 (IntDistribution): 0.09257183800190008<extra></extra>",
          "lr (FloatDistribution): 0.2931455964543651<extra></extra>",
          "dropout_l0 (FloatDistribution): 0.29623029472521134<extra></extra>",
          "weight_decay (FloatDistribution): 0.29953272912849704<extra></extra>"
         ],
         "name": "Objective Value",
         "orientation": "h",
         "text": [
          "0.02",
          "0.09",
          "0.29",
          "0.30",
          "0.30"
         ],
         "textposition": "outside",
         "type": "bar",
         "x": [
          0.01851954169002643,
          0.09257183800190008,
          0.2931455964543651,
          0.29623029472521134,
          0.29953272912849704
         ],
         "y": [
          "n_layers",
          "n_units_l0",
          "lr",
          "dropout_l0",
          "weight_decay"
         ]
        }
       ],
       "layout": {
        "template": {
         "data": {
          "bar": [
           {
            "error_x": {
             "color": "#2a3f5f"
            },
            "error_y": {
             "color": "#2a3f5f"
            },
            "marker": {
             "line": {
              "color": "#E5ECF6",
              "width": 0.5
             },
             "pattern": {
              "fillmode": "overlay",
              "size": 10,
              "solidity": 0.2
             }
            },
            "type": "bar"
           }
          ],
          "barpolar": [
           {
            "marker": {
             "line": {
              "color": "#E5ECF6",
              "width": 0.5
             },
             "pattern": {
              "fillmode": "overlay",
              "size": 10,
              "solidity": 0.2
             }
            },
            "type": "barpolar"
           }
          ],
          "carpet": [
           {
            "aaxis": {
             "endlinecolor": "#2a3f5f",
             "gridcolor": "white",
             "linecolor": "white",
             "minorgridcolor": "white",
             "startlinecolor": "#2a3f5f"
            },
            "baxis": {
             "endlinecolor": "#2a3f5f",
             "gridcolor": "white",
             "linecolor": "white",
             "minorgridcolor": "white",
             "startlinecolor": "#2a3f5f"
            },
            "type": "carpet"
           }
          ],
          "choropleth": [
           {
            "colorbar": {
             "outlinewidth": 0,
             "ticks": ""
            },
            "type": "choropleth"
           }
          ],
          "contour": [
           {
            "colorbar": {
             "outlinewidth": 0,
             "ticks": ""
            },
            "colorscale": [
             [
              0,
              "#0d0887"
             ],
             [
              0.1111111111111111,
              "#46039f"
             ],
             [
              0.2222222222222222,
              "#7201a8"
             ],
             [
              0.3333333333333333,
              "#9c179e"
             ],
             [
              0.4444444444444444,
              "#bd3786"
             ],
             [
              0.5555555555555556,
              "#d8576b"
             ],
             [
              0.6666666666666666,
              "#ed7953"
             ],
             [
              0.7777777777777778,
              "#fb9f3a"
             ],
             [
              0.8888888888888888,
              "#fdca26"
             ],
             [
              1,
              "#f0f921"
             ]
            ],
            "type": "contour"
           }
          ],
          "contourcarpet": [
           {
            "colorbar": {
             "outlinewidth": 0,
             "ticks": ""
            },
            "type": "contourcarpet"
           }
          ],
          "heatmap": [
           {
            "colorbar": {
             "outlinewidth": 0,
             "ticks": ""
            },
            "colorscale": [
             [
              0,
              "#0d0887"
             ],
             [
              0.1111111111111111,
              "#46039f"
             ],
             [
              0.2222222222222222,
              "#7201a8"
             ],
             [
              0.3333333333333333,
              "#9c179e"
             ],
             [
              0.4444444444444444,
              "#bd3786"
             ],
             [
              0.5555555555555556,
              "#d8576b"
             ],
             [
              0.6666666666666666,
              "#ed7953"
             ],
             [
              0.7777777777777778,
              "#fb9f3a"
             ],
             [
              0.8888888888888888,
              "#fdca26"
             ],
             [
              1,
              "#f0f921"
             ]
            ],
            "type": "heatmap"
           }
          ],
          "heatmapgl": [
           {
            "colorbar": {
             "outlinewidth": 0,
             "ticks": ""
            },
            "colorscale": [
             [
              0,
              "#0d0887"
             ],
             [
              0.1111111111111111,
              "#46039f"
             ],
             [
              0.2222222222222222,
              "#7201a8"
             ],
             [
              0.3333333333333333,
              "#9c179e"
             ],
             [
              0.4444444444444444,
              "#bd3786"
             ],
             [
              0.5555555555555556,
              "#d8576b"
             ],
             [
              0.6666666666666666,
              "#ed7953"
             ],
             [
              0.7777777777777778,
              "#fb9f3a"
             ],
             [
              0.8888888888888888,
              "#fdca26"
             ],
             [
              1,
              "#f0f921"
             ]
            ],
            "type": "heatmapgl"
           }
          ],
          "histogram": [
           {
            "marker": {
             "pattern": {
              "fillmode": "overlay",
              "size": 10,
              "solidity": 0.2
             }
            },
            "type": "histogram"
           }
          ],
          "histogram2d": [
           {
            "colorbar": {
             "outlinewidth": 0,
             "ticks": ""
            },
            "colorscale": [
             [
              0,
              "#0d0887"
             ],
             [
              0.1111111111111111,
              "#46039f"
             ],
             [
              0.2222222222222222,
              "#7201a8"
             ],
             [
              0.3333333333333333,
              "#9c179e"
             ],
             [
              0.4444444444444444,
              "#bd3786"
             ],
             [
              0.5555555555555556,
              "#d8576b"
             ],
             [
              0.6666666666666666,
              "#ed7953"
             ],
             [
              0.7777777777777778,
              "#fb9f3a"
             ],
             [
              0.8888888888888888,
              "#fdca26"
             ],
             [
              1,
              "#f0f921"
             ]
            ],
            "type": "histogram2d"
           }
          ],
          "histogram2dcontour": [
           {
            "colorbar": {
             "outlinewidth": 0,
             "ticks": ""
            },
            "colorscale": [
             [
              0,
              "#0d0887"
             ],
             [
              0.1111111111111111,
              "#46039f"
             ],
             [
              0.2222222222222222,
              "#7201a8"
             ],
             [
              0.3333333333333333,
              "#9c179e"
             ],
             [
              0.4444444444444444,
              "#bd3786"
             ],
             [
              0.5555555555555556,
              "#d8576b"
             ],
             [
              0.6666666666666666,
              "#ed7953"
             ],
             [
              0.7777777777777778,
              "#fb9f3a"
             ],
             [
              0.8888888888888888,
              "#fdca26"
             ],
             [
              1,
              "#f0f921"
             ]
            ],
            "type": "histogram2dcontour"
           }
          ],
          "mesh3d": [
           {
            "colorbar": {
             "outlinewidth": 0,
             "ticks": ""
            },
            "type": "mesh3d"
           }
          ],
          "parcoords": [
           {
            "line": {
             "colorbar": {
              "outlinewidth": 0,
              "ticks": ""
             }
            },
            "type": "parcoords"
           }
          ],
          "pie": [
           {
            "automargin": true,
            "type": "pie"
           }
          ],
          "scatter": [
           {
            "fillpattern": {
             "fillmode": "overlay",
             "size": 10,
             "solidity": 0.2
            },
            "type": "scatter"
           }
          ],
          "scatter3d": [
           {
            "line": {
             "colorbar": {
              "outlinewidth": 0,
              "ticks": ""
             }
            },
            "marker": {
             "colorbar": {
              "outlinewidth": 0,
              "ticks": ""
             }
            },
            "type": "scatter3d"
           }
          ],
          "scattercarpet": [
           {
            "marker": {
             "colorbar": {
              "outlinewidth": 0,
              "ticks": ""
             }
            },
            "type": "scattercarpet"
           }
          ],
          "scattergeo": [
           {
            "marker": {
             "colorbar": {
              "outlinewidth": 0,
              "ticks": ""
             }
            },
            "type": "scattergeo"
           }
          ],
          "scattergl": [
           {
            "marker": {
             "colorbar": {
              "outlinewidth": 0,
              "ticks": ""
             }
            },
            "type": "scattergl"
           }
          ],
          "scattermapbox": [
           {
            "marker": {
             "colorbar": {
              "outlinewidth": 0,
              "ticks": ""
             }
            },
            "type": "scattermapbox"
           }
          ],
          "scatterpolar": [
           {
            "marker": {
             "colorbar": {
              "outlinewidth": 0,
              "ticks": ""
             }
            },
            "type": "scatterpolar"
           }
          ],
          "scatterpolargl": [
           {
            "marker": {
             "colorbar": {
              "outlinewidth": 0,
              "ticks": ""
             }
            },
            "type": "scatterpolargl"
           }
          ],
          "scatterternary": [
           {
            "marker": {
             "colorbar": {
              "outlinewidth": 0,
              "ticks": ""
             }
            },
            "type": "scatterternary"
           }
          ],
          "surface": [
           {
            "colorbar": {
             "outlinewidth": 0,
             "ticks": ""
            },
            "colorscale": [
             [
              0,
              "#0d0887"
             ],
             [
              0.1111111111111111,
              "#46039f"
             ],
             [
              0.2222222222222222,
              "#7201a8"
             ],
             [
              0.3333333333333333,
              "#9c179e"
             ],
             [
              0.4444444444444444,
              "#bd3786"
             ],
             [
              0.5555555555555556,
              "#d8576b"
             ],
             [
              0.6666666666666666,
              "#ed7953"
             ],
             [
              0.7777777777777778,
              "#fb9f3a"
             ],
             [
              0.8888888888888888,
              "#fdca26"
             ],
             [
              1,
              "#f0f921"
             ]
            ],
            "type": "surface"
           }
          ],
          "table": [
           {
            "cells": {
             "fill": {
              "color": "#EBF0F8"
             },
             "line": {
              "color": "white"
             }
            },
            "header": {
             "fill": {
              "color": "#C8D4E3"
             },
             "line": {
              "color": "white"
             }
            },
            "type": "table"
           }
          ]
         },
         "layout": {
          "annotationdefaults": {
           "arrowcolor": "#2a3f5f",
           "arrowhead": 0,
           "arrowwidth": 1
          },
          "autotypenumbers": "strict",
          "coloraxis": {
           "colorbar": {
            "outlinewidth": 0,
            "ticks": ""
           }
          },
          "colorscale": {
           "diverging": [
            [
             0,
             "#8e0152"
            ],
            [
             0.1,
             "#c51b7d"
            ],
            [
             0.2,
             "#de77ae"
            ],
            [
             0.3,
             "#f1b6da"
            ],
            [
             0.4,
             "#fde0ef"
            ],
            [
             0.5,
             "#f7f7f7"
            ],
            [
             0.6,
             "#e6f5d0"
            ],
            [
             0.7,
             "#b8e186"
            ],
            [
             0.8,
             "#7fbc41"
            ],
            [
             0.9,
             "#4d9221"
            ],
            [
             1,
             "#276419"
            ]
           ],
           "sequential": [
            [
             0,
             "#0d0887"
            ],
            [
             0.1111111111111111,
             "#46039f"
            ],
            [
             0.2222222222222222,
             "#7201a8"
            ],
            [
             0.3333333333333333,
             "#9c179e"
            ],
            [
             0.4444444444444444,
             "#bd3786"
            ],
            [
             0.5555555555555556,
             "#d8576b"
            ],
            [
             0.6666666666666666,
             "#ed7953"
            ],
            [
             0.7777777777777778,
             "#fb9f3a"
            ],
            [
             0.8888888888888888,
             "#fdca26"
            ],
            [
             1,
             "#f0f921"
            ]
           ],
           "sequentialminus": [
            [
             0,
             "#0d0887"
            ],
            [
             0.1111111111111111,
             "#46039f"
            ],
            [
             0.2222222222222222,
             "#7201a8"
            ],
            [
             0.3333333333333333,
             "#9c179e"
            ],
            [
             0.4444444444444444,
             "#bd3786"
            ],
            [
             0.5555555555555556,
             "#d8576b"
            ],
            [
             0.6666666666666666,
             "#ed7953"
            ],
            [
             0.7777777777777778,
             "#fb9f3a"
            ],
            [
             0.8888888888888888,
             "#fdca26"
            ],
            [
             1,
             "#f0f921"
            ]
           ]
          },
          "colorway": [
           "#636efa",
           "#EF553B",
           "#00cc96",
           "#ab63fa",
           "#FFA15A",
           "#19d3f3",
           "#FF6692",
           "#B6E880",
           "#FF97FF",
           "#FECB52"
          ],
          "font": {
           "color": "#2a3f5f"
          },
          "geo": {
           "bgcolor": "white",
           "lakecolor": "white",
           "landcolor": "#E5ECF6",
           "showlakes": true,
           "showland": true,
           "subunitcolor": "white"
          },
          "hoverlabel": {
           "align": "left"
          },
          "hovermode": "closest",
          "mapbox": {
           "style": "light"
          },
          "paper_bgcolor": "white",
          "plot_bgcolor": "#E5ECF6",
          "polar": {
           "angularaxis": {
            "gridcolor": "white",
            "linecolor": "white",
            "ticks": ""
           },
           "bgcolor": "#E5ECF6",
           "radialaxis": {
            "gridcolor": "white",
            "linecolor": "white",
            "ticks": ""
           }
          },
          "scene": {
           "xaxis": {
            "backgroundcolor": "#E5ECF6",
            "gridcolor": "white",
            "gridwidth": 2,
            "linecolor": "white",
            "showbackground": true,
            "ticks": "",
            "zerolinecolor": "white"
           },
           "yaxis": {
            "backgroundcolor": "#E5ECF6",
            "gridcolor": "white",
            "gridwidth": 2,
            "linecolor": "white",
            "showbackground": true,
            "ticks": "",
            "zerolinecolor": "white"
           },
           "zaxis": {
            "backgroundcolor": "#E5ECF6",
            "gridcolor": "white",
            "gridwidth": 2,
            "linecolor": "white",
            "showbackground": true,
            "ticks": "",
            "zerolinecolor": "white"
           }
          },
          "shapedefaults": {
           "line": {
            "color": "#2a3f5f"
           }
          },
          "ternary": {
           "aaxis": {
            "gridcolor": "white",
            "linecolor": "white",
            "ticks": ""
           },
           "baxis": {
            "gridcolor": "white",
            "linecolor": "white",
            "ticks": ""
           },
           "bgcolor": "#E5ECF6",
           "caxis": {
            "gridcolor": "white",
            "linecolor": "white",
            "ticks": ""
           }
          },
          "title": {
           "x": 0.05
          },
          "xaxis": {
           "automargin": true,
           "gridcolor": "white",
           "linecolor": "white",
           "ticks": "",
           "title": {
            "standoff": 15
           },
           "zerolinecolor": "white",
           "zerolinewidth": 2
          },
          "yaxis": {
           "automargin": true,
           "gridcolor": "white",
           "linecolor": "white",
           "ticks": "",
           "title": {
            "standoff": 15
           },
           "zerolinecolor": "white",
           "zerolinewidth": 2
          }
         }
        },
        "title": {
         "text": "Hyperparameter Importances"
        },
        "xaxis": {
         "title": {
          "text": "Hyperparameter Importance"
         }
        },
        "yaxis": {
         "title": {
          "text": "Hyperparameter"
         }
        }
       }
      }
     },
     "metadata": {},
     "output_type": "display_data"
    }
   ],
   "source": [
    "batch_size = 64\n",
    "epochs = 100\n",
    "save_dir = 'models/ResNet18/My_ResNet18_hd16_bs128'\n",
    "save_name = 'SimpleClassifierOptimized_PI.pt'\n",
    "\n",
    "kwargs = {'num_classes': num_classes,\n",
    "          'train_feats':train_feats_PI,\n",
    "          'val_feats': val_feats_PI,\n",
    "          'device': device,\n",
    "          'batch_size': batch_size,\n",
    "          'epochs': epochs,\n",
    "          'save_dir': save_dir,\n",
    "          'save_name': save_name}\n",
    "\n",
    "# run the optimizer\n",
    "study = optuna.create_study(direction=\"minimize\")\n",
    "study.optimize(lambda trial: objective(trial, save_model=False, **kwargs), n_trials=200, n_jobs=-1)\n",
    "\n",
    "pruned_trials = study.get_trials(deepcopy=False, states=[TrialState.PRUNED])\n",
    "complete_trials = study.get_trials(deepcopy=False, states=[TrialState.COMPLETE])\n",
    "\n",
    "print(\"Study statistics: \")\n",
    "print(\"  Number of finished trials: \", len(study.trials))\n",
    "print(\"  Number of pruned trials: \", len(pruned_trials))\n",
    "print(\"  Number of complete trials: \", len(complete_trials))\n",
    "\n",
    "print(\"Best trial:\")\n",
    "trial = study.best_trial\n",
    "\n",
    "print(\"  Value: \", trial.value)\n",
    "\n",
    "print(\"  Params: \")\n",
    "for key, value in trial.params.items():\n",
    "    print(\"    {}: {}\".format(key, value))\n",
    "\n",
    "fig = plot_param_importances(study)\n",
    "show(fig)\n",
    "\n",
    "### (RE)TRAIN THE BEST MODEL\n",
    "objective(best_trial, save_model=True, **kwargs)"
   ]
  },
  {
   "cell_type": "code",
   "execution_count": null,
   "metadata": {},
   "outputs": [],
   "source": [
    "#### TEST\n",
    "dir_init = './doppler_traces/' #Directory of data\n",
    "subdirs_init = 'S1a,S1b,S1c' #Subdirs for training\n",
    "\n",
    "dataset_PI_test_class, labels_PI_true_test = create_test_set(dir_init=dir_init, subdirs_init=subdirs_init)\n",
    "test_feats_PI = prepare_data_features(simclr_model, dataset_PI_test_class, device=device)\n",
    "labels_considered = np.arange(3)"
   ]
  },
  {
   "cell_type": "code",
   "execution_count": null,
   "metadata": {},
   "outputs": [],
   "source": [
    "best_classifier = torch.jit.load('models/ResNet18/My_ResNet18_hd16_bs128/SimpleClassifierOptimized_PI.pt')\n",
    "\n",
    "classifier_model = best_classifier\n",
    "device = 'cuda' if torch.cuda.is_available() else 'cpu'\n",
    "classifier_model.to(device)\n",
    "classifier_model.eval()\n",
    "batch_size = 64\n",
    "loss_fn = torch.nn.CrossEntropyLoss()\n",
    "\n",
    "with torch.no_grad():\n",
    "    predictions = []\n",
    "    true = []\n",
    "\n",
    "    test_loader = DataLoader(test_feats_PI, batch_size=batch_size, shuffle=False, drop_last=False)\n",
    "\n",
    "    for batch in tqdm(test_loader):\n",
    "        feats, labels = batch\n",
    "        feats = feats.to(device)\n",
    "        labels = labels.to(device)\n",
    "        labels = labels.squeeze(dim=1)\n",
    "        preds = classifier_model(feats)\n",
    "        predictions.append(preds)\n",
    "        true.append(labels)\n",
    "\n",
    "    predictions = torch.cat(predictions, axis=0) # concatenate the predictions for all batches\n",
    "    true = torch.cat(true, axis=0)\n",
    "    print(\"shape of the predicted labels list:\", predictions.shape)\n",
    "    print(\"shape of the true labels:\", true.shape)\n",
    "    test_loss = loss_fn(predictions, true)\n",
    "    true = true.detach().cpu()\n",
    "    labels_pred_list_test = torch.softmax(predictions, dim=1).detach().cpu()\n",
    "    labels_pred_test = labels_pred_list_test.argmax(dim=1) # restituisce l'indice del valore maggiore\n",
    "    test_acc = (labels_pred_test == true).float().mean()\n",
    "    conf_matrix = confusion_matrix(true, labels_pred_test)\n",
    "    print(f\"loss: {test_loss}, accuracy: {test_acc}\")\n",
    "\n",
    "labels_pred_max_merged = merge_predictions(labels_PI_true_test, labels_pred_list_test, labels_pred_test)\n",
    "conf_matrix_max_merged = confusion_matrix(labels_PI_true_test, labels_pred_max_merged, labels=labels_considered)\n",
    "people = np.array(['1','2','3'])\n",
    "plt_confusion_matrix(activities.shape[0], conf_matrix_max_merged, lables=people, title='SimpleClassifierOptimized_PI_'+str(subdirs_init), save_dir=save_dir, save_name='SimpleClassifierOptimized_PI')"
   ]
  },
  {
   "cell_type": "markdown",
   "metadata": {},
   "source": [
    "### Ratatuja"
   ]
  },
  {
   "cell_type": "code",
   "execution_count": null,
   "metadata": {},
   "outputs": [],
   "source": [
    "# define the objective function to maximize (or minimize)\n",
    "# in our case is the accuracy on the validation set\n",
    "def objective2(trial, **kwargs):\n",
    "    \n",
    "    num_classes = kwargs['num_classes']\n",
    "    train_feats_data = kwargs['train_feats']\n",
    "    val_feats_data = kwargs['val_feats']\n",
    "    batch_size = kwargs['batch_size']\n",
    "    device = kwargs['device']\n",
    "    epochs = kwargs['epochs']\n",
    "    \n",
    "    # Generate the model\n",
    "    model = define_model(trial, num_classes).to(device)\n",
    "\n",
    "    # generate the optimizers\n",
    "    lr = trial.suggest_float(\"lr\", 1e-5, 1e-1, log=True)\n",
    "    #weight_decay = trial.suggest_float(\"weight_decay\", 1e-4, 1e-1, log=True)\n",
    "    weight_decay = 1e-3\n",
    "    optimizer = optim.AdamW(model.parameters(), lr=lr, weight_decay=weight_decay)\n",
    "\n",
    "    train_loader = DataLoader(train_feats_data, batch_size=batch_size, shuffle=True, drop_last=False)\n",
    "    val_loader = DataLoader(val_feats_data, batch_size=batch_size, shuffle=False, drop_last=False)\n",
    "\n",
    "    for epoch in range(epochs):\n",
    "        print(\"Epoch {}\".format(epoch))\n",
    "        model.train()\n",
    "        for batch in train_loader:\n",
    "            feats, labels = batch\n",
    "            feats = feats.to(device)\n",
    "            labels = labels.to(device)\n",
    "            labels = labels.squeeze(dim=1)\n",
    "            preds = model(feats)\n",
    "            loss = F.cross_entropy(preds, labels)\n",
    "            optimizer.zero_grad()\n",
    "            loss.backward()\n",
    "            optimizer.step()\n",
    "\n",
    "        model.eval()\n",
    "        with torch.no_grad():\n",
    "            vaccs = []\n",
    "            model.eval()\n",
    "            for batch in val_loader:\n",
    "                feats, labels = batch\n",
    "                feats = feats.to(device)\n",
    "                labels = labels.to(device)\n",
    "                labels = labels.squeeze(dim=1)\n",
    "                preds = model(feats)\n",
    "                acc = (preds.argmax(dim=-1) == labels).float().mean()\n",
    "                vaccs.append(acc.item())\n",
    "\n",
    "            val_acc = np.mean(vaccs)\n",
    "        \n",
    "        trial.report(val_acc, epoch)\n",
    "\n",
    "        # Handle pruning based on the intermediate value.\n",
    "        if trial.should_prune():\n",
    "            raise optuna.exceptions.TrialPruned()\n",
    "\n",
    "    return val_acc"
   ]
  }
 ],
 "metadata": {
  "kernelspec": {
   "display_name": "dlproject",
   "language": "python",
   "name": "python3"
  },
  "language_info": {
   "codemirror_mode": {
    "name": "ipython",
    "version": 3
   },
   "file_extension": ".py",
   "mimetype": "text/x-python",
   "name": "python",
   "nbconvert_exporter": "python",
   "pygments_lexer": "ipython3",
   "version": "3.12.4"
  }
 },
 "nbformat": 4,
 "nbformat_minor": 2
}
