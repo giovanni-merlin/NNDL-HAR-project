{
 "cells": [
  {
   "cell_type": "markdown",
   "metadata": {},
   "source": [
    "Use Optuna to optimize the hyperparameters of the projection head for HAR."
   ]
  },
  {
   "cell_type": "markdown",
   "metadata": {},
   "source": [
    "- architecture: N layers (1 to 3), N neurons (4 to 256), dropout (0 to 0.5)\n",
    "- optimizer: (AdamW, Adam, RMSprop, SGD), lr\n",
    "- others: batch size\n",
    "\n",
    "look at the difference wrt AdamW"
   ]
  },
  {
   "cell_type": "code",
   "execution_count": 1,
   "metadata": {},
   "outputs": [
    {
     "data": {
      "text/plain": [
       "<torch._C.Generator at 0x7424cc0df8b0>"
      ]
     },
     "execution_count": 1,
     "metadata": {},
     "output_type": "execute_result"
    }
   ],
   "source": [
    "import torch as t\n",
    "import torch.nn as nn\n",
    "import torch.nn.functional as F\n",
    "from torch.utils.data import DataLoader#, #Dataset, \n",
    "import torch.optim as optim\n",
    "\n",
    "#from torch.nn import Module, Sequential, Conv2d, BatchNorm2d, ReLU, MaxPool2d, AvgPool2d, Linear, Dropout, ZeroPad2d, CrossEntropyLoss\n",
    "#from torch.optim import SGD, Adam, AdamW, lr_scheduler\n",
    "#from tqdm import tqdm\n",
    "\n",
    "import optuna\n",
    "from optuna.trial import TrialState\n",
    "from optuna.visualization import plot_param_importances\n",
    "import plotly\n",
    "from plotly.io import show\n",
    "\n",
    "from utils_preprocess import *\n",
    "from utils_traintest import *\n",
    "from models.ResNet18 import ResNet18\n",
    "\n",
    "seed = 203345656\n",
    "torch.manual_seed(seed)"
   ]
  },
  {
   "cell_type": "code",
   "execution_count": 3,
   "metadata": {},
   "outputs": [],
   "source": [
    "# define the model to optimize\n",
    "# a FFNN, optimize the number of layers, hidden units, dropout \n",
    "def define_model(trial, num_classes):\n",
    "    n_layers = trial.suggest_int(\"n_layers\", 1, 3)\n",
    "    layers = []\n",
    "\n",
    "    in_features = 2560\n",
    "    for i in range(n_layers):\n",
    "        out_features = trial.suggest_int(\"n_units_l{}\".format(i), 4, 256)\n",
    "        layers.append(nn.Linear(in_features, out_features))\n",
    "        layers.append(nn.ReLU(inplace=True))\n",
    "        p = trial.suggest_float(\"dropout_l{}\".format(i), 0, 0.5)\n",
    "        layers.append(nn.Dropout(p))\n",
    "\n",
    "        in_features = out_features\n",
    "    layers.append(nn.Linear(in_features, num_classes))\n",
    "\n",
    "    return nn.Sequential(*layers)\n",
    "\n",
    "# define the objective function to maximize (or minimize)\n",
    "# in our case is the accuracy on the validation set\n",
    "def objective(trial, **kwargs):\n",
    "    \n",
    "    num_classes = kwargs['num_classes']\n",
    "    train_feats_data = kwargs['train_feats']\n",
    "    val_feats_data = kwargs['val_feats']\n",
    "    batch_size = kwargs['batch_size']\n",
    "    device = kwargs['device']\n",
    "    epochs = kwargs['epochs']\n",
    "    \n",
    "    # Generate the model\n",
    "    model = define_model(trial, num_classes).to(device)\n",
    "\n",
    "    # generate the optimizers\n",
    "    optimizer_name = trial.suggest_categorical(\"optimizer\", [\"Adam\", \"AdamW\"])    \n",
    "    lr = trial.suggest_float(\"lr\", 1e-5, 1e-1, log=True)\n",
    "    optimizer = getattr(optim, optimizer_name)(model.parameters(), lr=lr)\n",
    "\n",
    "    train_loader = DataLoader(train_feats_data, batch_size=batch_size, shuffle=True, drop_last=False)\n",
    "    val_loader = DataLoader(val_feats_data, batch_size=batch_size, shuffle=False, drop_last=False)\n",
    "\n",
    "    for epoch in range(epochs):\n",
    "        model.train()\n",
    "        for batch in train_loader:\n",
    "            feats, labels = batch\n",
    "            feats = feats.to(device)\n",
    "            labels = labels.to(device)\n",
    "            labels = labels.squeeze(dim=1)\n",
    "            preds = model(feats)\n",
    "            loss = F.cross_entropy(preds, labels)\n",
    "            optimizer.zero_grad()\n",
    "            loss.backward()\n",
    "            optimizer.step()\n",
    "\n",
    "        model.eval()\n",
    "        with torch.no_grad():\n",
    "            vaccs = []\n",
    "            model.eval()\n",
    "            for batch in val_loader:\n",
    "                feats, labels = batch\n",
    "                feats = feats.to(device)\n",
    "                labels = labels.to(device)\n",
    "                labels = labels.squeeze(dim=1)\n",
    "                preds = model(feats)\n",
    "                acc = (preds.argmax(dim=-1) == labels).float().mean()\n",
    "                vaccs.append(acc.item())\n",
    "\n",
    "            val_acc = np.mean(vaccs)\n",
    "        \n",
    "        trial.report(val_acc, epoch)\n",
    "\n",
    "        # Handle pruning based on the intermediate value.\n",
    "        if trial.should_prune():\n",
    "            raise optuna.exceptions.TrialPruned()\n",
    "\n",
    "    return val_acc"
   ]
  },
  {
   "cell_type": "code",
   "execution_count": null,
   "metadata": {},
   "outputs": [],
   "source": [
    "# call the trained encoder\n",
    "simclr_model = ResNet18(hidden_dimension=16)\n",
    "path_model = 'models/ResNet18/My_ResNet18_hd16_bs128.ckpt'\n",
    "device = 'cuda' if torch.cuda.is_available() else 'cpu'\n",
    "simclr_model.load_state_dict(torch.load(path_model, map_location=torch.device(device), weights_only=True))"
   ]
  },
  {
   "cell_type": "markdown",
   "metadata": {},
   "source": [
    "#### HAR projection head optimization"
   ]
  },
  {
   "cell_type": "code",
   "execution_count": null,
   "metadata": {},
   "outputs": [],
   "source": [
    "# prepare the training and validation data\n",
    "num_classes = 5\n",
    "dir_init = './doppler_traces/' #Directory of data\n",
    "subdirs_init = 'S1a,S1b,S1c' #Subdirs for training\n",
    "\n",
    "dataset_csi_train_class = create_training_set(dir_init=dir_init, subdirs_init=subdirs_init)\n",
    "dataset_csi_val_class = create_validation_set(dir_init=dir_init, subdirs_init=subdirs_init)\n",
    "\n",
    "# prepare the features\n",
    "train_feats = prepare_data_features(simclr_model, dataset_csi_train_class, device=device)\n",
    "val_feats = prepare_data_features(simclr_model, dataset_csi_val_class, device=device)"
   ]
  },
  {
   "cell_type": "code",
   "execution_count": null,
   "metadata": {},
   "outputs": [
    {
     "name": "stderr",
     "output_type": "stream",
     "text": [
      "[I 2025-01-12 16:03:13,698] A new study created in memory with name: no-name-15f42a35-d8e9-4b34-acc9-df4faddb0570\n",
      "[I 2025-01-12 16:03:21,265] Trial 0 finished with value: 0.6495535714285714 and parameters: {'n_layers': 2, 'n_units_l0': 138, 'dropout_l0': 0.46657928738397914, 'n_units_l1': 213, 'dropout_l1': 0.19782568174112125, 'optimizer': 'Adam', 'lr': 0.016066052663014866}. Best is trial 0 with value: 0.6495535714285714.\n",
      "[I 2025-01-12 16:03:25,750] Trial 1 finished with value: 0.8221130950110299 and parameters: {'n_layers': 1, 'n_units_l0': 118, 'dropout_l0': 0.2995020868593735, 'optimizer': 'AdamW', 'lr': 0.004391559942566321}. Best is trial 1 with value: 0.8221130950110299.\n",
      "[I 2025-01-12 16:03:31,950] Trial 2 finished with value: 0.20357142857142857 and parameters: {'n_layers': 3, 'n_units_l0': 126, 'dropout_l0': 0.1841574669097248, 'n_units_l1': 30, 'dropout_l1': 0.31881937161926244, 'n_units_l2': 128, 'dropout_l2': 0.12068684556807063, 'optimizer': 'Adam', 'lr': 0.04571496822308213}. Best is trial 1 with value: 0.8221130950110299.\n",
      "[I 2025-01-12 16:03:36,685] Trial 3 finished with value: 0.8719345246042524 and parameters: {'n_layers': 1, 'n_units_l0': 120, 'dropout_l0': 0.2630538939516411, 'optimizer': 'Adam', 'lr': 0.0012429680599979171}. Best is trial 3 with value: 0.8719345246042524.\n",
      "[I 2025-01-12 16:03:45,852] Trial 4 finished with value: 0.7591964278902327 and parameters: {'n_layers': 2, 'n_units_l0': 255, 'dropout_l0': 0.22902429837564087, 'n_units_l1': 31, 'dropout_l1': 0.20822837396036786, 'optimizer': 'Adam', 'lr': 1.0234633762876372e-05}. Best is trial 3 with value: 0.8719345246042524.\n",
      "[I 2025-01-12 16:03:49,771] Trial 5 finished with value: 0.862619047505515 and parameters: {'n_layers': 2, 'n_units_l0': 69, 'dropout_l0': 0.2071878628168386, 'n_units_l1': 237, 'dropout_l1': 0.0721556408938469, 'optimizer': 'AdamW', 'lr': 0.001808789711528274}. Best is trial 3 with value: 0.8719345246042524.\n",
      "[I 2025-01-12 16:03:58,259] Trial 6 finished with value: 0.8383928571428572 and parameters: {'n_layers': 1, 'n_units_l0': 227, 'dropout_l0': 0.19346921006779105, 'optimizer': 'Adam', 'lr': 0.002736192902591201}. Best is trial 3 with value: 0.8719345246042524.\n",
      "[I 2025-01-12 16:03:59,037] Trial 7 pruned. \n",
      "[I 2025-01-12 16:03:59,431] Trial 8 pruned. \n",
      "[I 2025-01-12 16:04:00,163] Trial 9 pruned. \n"
     ]
    },
    {
     "name": "stdout",
     "output_type": "stream",
     "text": [
      "Study statistics: \n",
      "  Number of finished trials:  10\n",
      "  Number of pruned trials:  3\n",
      "  Number of complete trials:  7\n",
      "Best trial:\n",
      "  Value:  0.8719345246042524\n",
      "  Params: \n",
      "    n_layers: 1\n",
      "    n_units_l0: 120\n",
      "    dropout_l0: 0.2630538939516411\n",
      "    optimizer: Adam\n",
      "    lr: 0.0012429680599979171\n"
     ]
    }
   ],
   "source": [
    "batch_size = 64 # may optimize that as well...\n",
    "epochs = 10\n",
    "\n",
    "kwargs = {'num_classes': num_classes,\n",
    "          'train_feats':train_feats,\n",
    "          'val_feats': val_feats,\n",
    "          'device': device,\n",
    "          'batch_size': batch_size,\n",
    "          'epochs': epochs}\n",
    "\n",
    "# run the optimizer\n",
    "study = optuna.create_study(direction=\"maximize\")\n",
    "study.optimize(lambda trial: objective(trial, **kwargs), n_trials=10, timeout=600)\n",
    "\n",
    "pruned_trials = study.get_trials(deepcopy=False, states=[TrialState.PRUNED])\n",
    "complete_trials = study.get_trials(deepcopy=False, states=[TrialState.COMPLETE])\n",
    "\n",
    "print(\"Study statistics: \")\n",
    "print(\"  Number of finished trials: \", len(study.trials))\n",
    "print(\"  Number of pruned trials: \", len(pruned_trials))\n",
    "print(\"  Number of complete trials: \", len(complete_trials))\n",
    "\n",
    "print(\"Best trial:\")\n",
    "trial = study.best_trial\n",
    "\n",
    "print(\"  Value: \", trial.value)\n",
    "\n",
    "print(\"  Params: \")\n",
    "for key, value in trial.params.items():\n",
    "    print(\"    {}: {}\".format(key, value))\n",
    "\n",
    "fig = plot_param_importances(study)\n",
    "show(fig)"
   ]
  },
  {
   "cell_type": "code",
   "execution_count": null,
   "metadata": {},
   "outputs": [
    {
     "data": {
      "application/vnd.plotly.v1+json": {
       "config": {
        "plotlyServerURL": "https://plot.ly"
       },
       "data": [
        {
         "cliponaxis": false,
         "hovertemplate": [
          "optimizer (CategoricalDistribution): 0.01132958964248468<extra></extra>",
          "n_units_l0 (IntDistribution): 0.11256356614301478<extra></extra>",
          "lr (FloatDistribution): 0.24049110731640805<extra></extra>",
          "n_layers (IntDistribution): 0.2945656384469997<extra></extra>",
          "dropout_l0 (FloatDistribution): 0.34105009845109274<extra></extra>"
         ],
         "name": "Objective Value",
         "orientation": "h",
         "text": [
          "0.01",
          "0.11",
          "0.24",
          "0.29",
          "0.34"
         ],
         "textposition": "outside",
         "type": "bar",
         "x": [
          0.01132958964248468,
          0.11256356614301478,
          0.24049110731640805,
          0.2945656384469997,
          0.34105009845109274
         ],
         "y": [
          "optimizer",
          "n_units_l0",
          "lr",
          "n_layers",
          "dropout_l0"
         ]
        }
       ],
       "layout": {
        "template": {
         "data": {
          "bar": [
           {
            "error_x": {
             "color": "#2a3f5f"
            },
            "error_y": {
             "color": "#2a3f5f"
            },
            "marker": {
             "line": {
              "color": "#E5ECF6",
              "width": 0.5
             },
             "pattern": {
              "fillmode": "overlay",
              "size": 10,
              "solidity": 0.2
             }
            },
            "type": "bar"
           }
          ],
          "barpolar": [
           {
            "marker": {
             "line": {
              "color": "#E5ECF6",
              "width": 0.5
             },
             "pattern": {
              "fillmode": "overlay",
              "size": 10,
              "solidity": 0.2
             }
            },
            "type": "barpolar"
           }
          ],
          "carpet": [
           {
            "aaxis": {
             "endlinecolor": "#2a3f5f",
             "gridcolor": "white",
             "linecolor": "white",
             "minorgridcolor": "white",
             "startlinecolor": "#2a3f5f"
            },
            "baxis": {
             "endlinecolor": "#2a3f5f",
             "gridcolor": "white",
             "linecolor": "white",
             "minorgridcolor": "white",
             "startlinecolor": "#2a3f5f"
            },
            "type": "carpet"
           }
          ],
          "choropleth": [
           {
            "colorbar": {
             "outlinewidth": 0,
             "ticks": ""
            },
            "type": "choropleth"
           }
          ],
          "contour": [
           {
            "colorbar": {
             "outlinewidth": 0,
             "ticks": ""
            },
            "colorscale": [
             [
              0,
              "#0d0887"
             ],
             [
              0.1111111111111111,
              "#46039f"
             ],
             [
              0.2222222222222222,
              "#7201a8"
             ],
             [
              0.3333333333333333,
              "#9c179e"
             ],
             [
              0.4444444444444444,
              "#bd3786"
             ],
             [
              0.5555555555555556,
              "#d8576b"
             ],
             [
              0.6666666666666666,
              "#ed7953"
             ],
             [
              0.7777777777777778,
              "#fb9f3a"
             ],
             [
              0.8888888888888888,
              "#fdca26"
             ],
             [
              1,
              "#f0f921"
             ]
            ],
            "type": "contour"
           }
          ],
          "contourcarpet": [
           {
            "colorbar": {
             "outlinewidth": 0,
             "ticks": ""
            },
            "type": "contourcarpet"
           }
          ],
          "heatmap": [
           {
            "colorbar": {
             "outlinewidth": 0,
             "ticks": ""
            },
            "colorscale": [
             [
              0,
              "#0d0887"
             ],
             [
              0.1111111111111111,
              "#46039f"
             ],
             [
              0.2222222222222222,
              "#7201a8"
             ],
             [
              0.3333333333333333,
              "#9c179e"
             ],
             [
              0.4444444444444444,
              "#bd3786"
             ],
             [
              0.5555555555555556,
              "#d8576b"
             ],
             [
              0.6666666666666666,
              "#ed7953"
             ],
             [
              0.7777777777777778,
              "#fb9f3a"
             ],
             [
              0.8888888888888888,
              "#fdca26"
             ],
             [
              1,
              "#f0f921"
             ]
            ],
            "type": "heatmap"
           }
          ],
          "heatmapgl": [
           {
            "colorbar": {
             "outlinewidth": 0,
             "ticks": ""
            },
            "colorscale": [
             [
              0,
              "#0d0887"
             ],
             [
              0.1111111111111111,
              "#46039f"
             ],
             [
              0.2222222222222222,
              "#7201a8"
             ],
             [
              0.3333333333333333,
              "#9c179e"
             ],
             [
              0.4444444444444444,
              "#bd3786"
             ],
             [
              0.5555555555555556,
              "#d8576b"
             ],
             [
              0.6666666666666666,
              "#ed7953"
             ],
             [
              0.7777777777777778,
              "#fb9f3a"
             ],
             [
              0.8888888888888888,
              "#fdca26"
             ],
             [
              1,
              "#f0f921"
             ]
            ],
            "type": "heatmapgl"
           }
          ],
          "histogram": [
           {
            "marker": {
             "pattern": {
              "fillmode": "overlay",
              "size": 10,
              "solidity": 0.2
             }
            },
            "type": "histogram"
           }
          ],
          "histogram2d": [
           {
            "colorbar": {
             "outlinewidth": 0,
             "ticks": ""
            },
            "colorscale": [
             [
              0,
              "#0d0887"
             ],
             [
              0.1111111111111111,
              "#46039f"
             ],
             [
              0.2222222222222222,
              "#7201a8"
             ],
             [
              0.3333333333333333,
              "#9c179e"
             ],
             [
              0.4444444444444444,
              "#bd3786"
             ],
             [
              0.5555555555555556,
              "#d8576b"
             ],
             [
              0.6666666666666666,
              "#ed7953"
             ],
             [
              0.7777777777777778,
              "#fb9f3a"
             ],
             [
              0.8888888888888888,
              "#fdca26"
             ],
             [
              1,
              "#f0f921"
             ]
            ],
            "type": "histogram2d"
           }
          ],
          "histogram2dcontour": [
           {
            "colorbar": {
             "outlinewidth": 0,
             "ticks": ""
            },
            "colorscale": [
             [
              0,
              "#0d0887"
             ],
             [
              0.1111111111111111,
              "#46039f"
             ],
             [
              0.2222222222222222,
              "#7201a8"
             ],
             [
              0.3333333333333333,
              "#9c179e"
             ],
             [
              0.4444444444444444,
              "#bd3786"
             ],
             [
              0.5555555555555556,
              "#d8576b"
             ],
             [
              0.6666666666666666,
              "#ed7953"
             ],
             [
              0.7777777777777778,
              "#fb9f3a"
             ],
             [
              0.8888888888888888,
              "#fdca26"
             ],
             [
              1,
              "#f0f921"
             ]
            ],
            "type": "histogram2dcontour"
           }
          ],
          "mesh3d": [
           {
            "colorbar": {
             "outlinewidth": 0,
             "ticks": ""
            },
            "type": "mesh3d"
           }
          ],
          "parcoords": [
           {
            "line": {
             "colorbar": {
              "outlinewidth": 0,
              "ticks": ""
             }
            },
            "type": "parcoords"
           }
          ],
          "pie": [
           {
            "automargin": true,
            "type": "pie"
           }
          ],
          "scatter": [
           {
            "fillpattern": {
             "fillmode": "overlay",
             "size": 10,
             "solidity": 0.2
            },
            "type": "scatter"
           }
          ],
          "scatter3d": [
           {
            "line": {
             "colorbar": {
              "outlinewidth": 0,
              "ticks": ""
             }
            },
            "marker": {
             "colorbar": {
              "outlinewidth": 0,
              "ticks": ""
             }
            },
            "type": "scatter3d"
           }
          ],
          "scattercarpet": [
           {
            "marker": {
             "colorbar": {
              "outlinewidth": 0,
              "ticks": ""
             }
            },
            "type": "scattercarpet"
           }
          ],
          "scattergeo": [
           {
            "marker": {
             "colorbar": {
              "outlinewidth": 0,
              "ticks": ""
             }
            },
            "type": "scattergeo"
           }
          ],
          "scattergl": [
           {
            "marker": {
             "colorbar": {
              "outlinewidth": 0,
              "ticks": ""
             }
            },
            "type": "scattergl"
           }
          ],
          "scattermapbox": [
           {
            "marker": {
             "colorbar": {
              "outlinewidth": 0,
              "ticks": ""
             }
            },
            "type": "scattermapbox"
           }
          ],
          "scatterpolar": [
           {
            "marker": {
             "colorbar": {
              "outlinewidth": 0,
              "ticks": ""
             }
            },
            "type": "scatterpolar"
           }
          ],
          "scatterpolargl": [
           {
            "marker": {
             "colorbar": {
              "outlinewidth": 0,
              "ticks": ""
             }
            },
            "type": "scatterpolargl"
           }
          ],
          "scatterternary": [
           {
            "marker": {
             "colorbar": {
              "outlinewidth": 0,
              "ticks": ""
             }
            },
            "type": "scatterternary"
           }
          ],
          "surface": [
           {
            "colorbar": {
             "outlinewidth": 0,
             "ticks": ""
            },
            "colorscale": [
             [
              0,
              "#0d0887"
             ],
             [
              0.1111111111111111,
              "#46039f"
             ],
             [
              0.2222222222222222,
              "#7201a8"
             ],
             [
              0.3333333333333333,
              "#9c179e"
             ],
             [
              0.4444444444444444,
              "#bd3786"
             ],
             [
              0.5555555555555556,
              "#d8576b"
             ],
             [
              0.6666666666666666,
              "#ed7953"
             ],
             [
              0.7777777777777778,
              "#fb9f3a"
             ],
             [
              0.8888888888888888,
              "#fdca26"
             ],
             [
              1,
              "#f0f921"
             ]
            ],
            "type": "surface"
           }
          ],
          "table": [
           {
            "cells": {
             "fill": {
              "color": "#EBF0F8"
             },
             "line": {
              "color": "white"
             }
            },
            "header": {
             "fill": {
              "color": "#C8D4E3"
             },
             "line": {
              "color": "white"
             }
            },
            "type": "table"
           }
          ]
         },
         "layout": {
          "annotationdefaults": {
           "arrowcolor": "#2a3f5f",
           "arrowhead": 0,
           "arrowwidth": 1
          },
          "autotypenumbers": "strict",
          "coloraxis": {
           "colorbar": {
            "outlinewidth": 0,
            "ticks": ""
           }
          },
          "colorscale": {
           "diverging": [
            [
             0,
             "#8e0152"
            ],
            [
             0.1,
             "#c51b7d"
            ],
            [
             0.2,
             "#de77ae"
            ],
            [
             0.3,
             "#f1b6da"
            ],
            [
             0.4,
             "#fde0ef"
            ],
            [
             0.5,
             "#f7f7f7"
            ],
            [
             0.6,
             "#e6f5d0"
            ],
            [
             0.7,
             "#b8e186"
            ],
            [
             0.8,
             "#7fbc41"
            ],
            [
             0.9,
             "#4d9221"
            ],
            [
             1,
             "#276419"
            ]
           ],
           "sequential": [
            [
             0,
             "#0d0887"
            ],
            [
             0.1111111111111111,
             "#46039f"
            ],
            [
             0.2222222222222222,
             "#7201a8"
            ],
            [
             0.3333333333333333,
             "#9c179e"
            ],
            [
             0.4444444444444444,
             "#bd3786"
            ],
            [
             0.5555555555555556,
             "#d8576b"
            ],
            [
             0.6666666666666666,
             "#ed7953"
            ],
            [
             0.7777777777777778,
             "#fb9f3a"
            ],
            [
             0.8888888888888888,
             "#fdca26"
            ],
            [
             1,
             "#f0f921"
            ]
           ],
           "sequentialminus": [
            [
             0,
             "#0d0887"
            ],
            [
             0.1111111111111111,
             "#46039f"
            ],
            [
             0.2222222222222222,
             "#7201a8"
            ],
            [
             0.3333333333333333,
             "#9c179e"
            ],
            [
             0.4444444444444444,
             "#bd3786"
            ],
            [
             0.5555555555555556,
             "#d8576b"
            ],
            [
             0.6666666666666666,
             "#ed7953"
            ],
            [
             0.7777777777777778,
             "#fb9f3a"
            ],
            [
             0.8888888888888888,
             "#fdca26"
            ],
            [
             1,
             "#f0f921"
            ]
           ]
          },
          "colorway": [
           "#636efa",
           "#EF553B",
           "#00cc96",
           "#ab63fa",
           "#FFA15A",
           "#19d3f3",
           "#FF6692",
           "#B6E880",
           "#FF97FF",
           "#FECB52"
          ],
          "font": {
           "color": "#2a3f5f"
          },
          "geo": {
           "bgcolor": "white",
           "lakecolor": "white",
           "landcolor": "#E5ECF6",
           "showlakes": true,
           "showland": true,
           "subunitcolor": "white"
          },
          "hoverlabel": {
           "align": "left"
          },
          "hovermode": "closest",
          "mapbox": {
           "style": "light"
          },
          "paper_bgcolor": "white",
          "plot_bgcolor": "#E5ECF6",
          "polar": {
           "angularaxis": {
            "gridcolor": "white",
            "linecolor": "white",
            "ticks": ""
           },
           "bgcolor": "#E5ECF6",
           "radialaxis": {
            "gridcolor": "white",
            "linecolor": "white",
            "ticks": ""
           }
          },
          "scene": {
           "xaxis": {
            "backgroundcolor": "#E5ECF6",
            "gridcolor": "white",
            "gridwidth": 2,
            "linecolor": "white",
            "showbackground": true,
            "ticks": "",
            "zerolinecolor": "white"
           },
           "yaxis": {
            "backgroundcolor": "#E5ECF6",
            "gridcolor": "white",
            "gridwidth": 2,
            "linecolor": "white",
            "showbackground": true,
            "ticks": "",
            "zerolinecolor": "white"
           },
           "zaxis": {
            "backgroundcolor": "#E5ECF6",
            "gridcolor": "white",
            "gridwidth": 2,
            "linecolor": "white",
            "showbackground": true,
            "ticks": "",
            "zerolinecolor": "white"
           }
          },
          "shapedefaults": {
           "line": {
            "color": "#2a3f5f"
           }
          },
          "ternary": {
           "aaxis": {
            "gridcolor": "white",
            "linecolor": "white",
            "ticks": ""
           },
           "baxis": {
            "gridcolor": "white",
            "linecolor": "white",
            "ticks": ""
           },
           "bgcolor": "#E5ECF6",
           "caxis": {
            "gridcolor": "white",
            "linecolor": "white",
            "ticks": ""
           }
          },
          "title": {
           "x": 0.05
          },
          "xaxis": {
           "automargin": true,
           "gridcolor": "white",
           "linecolor": "white",
           "ticks": "",
           "title": {
            "standoff": 15
           },
           "zerolinecolor": "white",
           "zerolinewidth": 2
          },
          "yaxis": {
           "automargin": true,
           "gridcolor": "white",
           "linecolor": "white",
           "ticks": "",
           "title": {
            "standoff": 15
           },
           "zerolinecolor": "white",
           "zerolinewidth": 2
          }
         }
        },
        "title": {
         "text": "Hyperparameter Importances"
        },
        "xaxis": {
         "title": {
          "text": "Hyperparameter Importance"
         }
        },
        "yaxis": {
         "title": {
          "text": "Hyperparameter"
         }
        }
       }
      }
     },
     "metadata": {},
     "output_type": "display_data"
    }
   ],
   "source": []
  },
  {
   "cell_type": "markdown",
   "metadata": {},
   "source": [
    "#### PI projection head optimization"
   ]
  },
  {
   "cell_type": "code",
   "execution_count": null,
   "metadata": {},
   "outputs": [],
   "source": [
    "# prepare the training and validation data\n",
    "num_classes = 3\n",
    "dir_init = './doppler_traces/' #Directory of data\n",
    "subdirs_init = 'S1a,S3a,S7a' #Subdirs for training\n",
    "\n",
    "dataset_PI_train_class = create_training_set(dir_init=dir_init, subdirs_init=subdirs_init, PI=num_classes)\n",
    "dataset_PI_val_class = create_validation_set(dir_init=dir_init, subdirs_init=subdirs_init, PI=num_classes)\n",
    "\n",
    "# prepare the features\n",
    "train_feats_PI = prepare_data_features(simclr_model, dataset_csi_train_class, device=device)\n",
    "val_feats_PI = prepare_data_features(simclr_model, dataset_csi_val_class, device=device)"
   ]
  },
  {
   "cell_type": "code",
   "execution_count": null,
   "metadata": {},
   "outputs": [],
   "source": [
    "batch_size = 64 # may optimize that as well...\n",
    "epochs = 10\n",
    "\n",
    "kwargs = {'num_classes': num_classes,\n",
    "          'train_feats':train_feats,\n",
    "          'val_feats': val_feats,\n",
    "          'device': device,\n",
    "          'batch_size': batch_size,\n",
    "          'epochs': epochs}\n",
    "\n",
    "# run the optimizer\n",
    "study = optuna.create_study(direction=\"maximize\")\n",
    "study.optimize(lambda trial: objective(trial, **kwargs), n_trials=10, timeout=600)\n",
    "\n",
    "pruned_trials = study.get_trials(deepcopy=False, states=[TrialState.PRUNED])\n",
    "complete_trials = study.get_trials(deepcopy=False, states=[TrialState.COMPLETE])\n",
    "\n",
    "print(\"Study statistics: \")\n",
    "print(\"  Number of finished trials: \", len(study.trials))\n",
    "print(\"  Number of pruned trials: \", len(pruned_trials))\n",
    "print(\"  Number of complete trials: \", len(complete_trials))\n",
    "\n",
    "print(\"Best trial:\")\n",
    "trial = study.best_trial\n",
    "\n",
    "print(\"  Value: \", trial.value)\n",
    "\n",
    "print(\"  Params: \")\n",
    "for key, value in trial.params.items():\n",
    "    print(\"    {}: {}\".format(key, value))\n",
    "\n",
    "fig = plot_param_importances(study)\n",
    "show(fig)"
   ]
  }
 ],
 "metadata": {
  "kernelspec": {
   "display_name": "dlproject",
   "language": "python",
   "name": "python3"
  },
  "language_info": {
   "codemirror_mode": {
    "name": "ipython",
    "version": 3
   },
   "file_extension": ".py",
   "mimetype": "text/x-python",
   "name": "python",
   "nbconvert_exporter": "python",
   "pygments_lexer": "ipython3",
   "version": "3.12.4"
  }
 },
 "nbformat": 4,
 "nbformat_minor": 2
}
