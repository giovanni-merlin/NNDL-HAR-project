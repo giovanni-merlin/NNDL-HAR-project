{
 "cells": [
  {
   "cell_type": "code",
   "execution_count": 43,
   "id": "de59843b-8773-4307-951a-c76b4b6aa2e4",
   "metadata": {},
   "outputs": [
    {
     "data": {
      "text/plain": [
       "'\\n    Copyright (C) 2022 Francesca Meneghello\\n    contact: meneghello@dei.unipd.it\\n    This program is free software: you can redistribute it and/or modify\\n    it under the terms of the GNU General Public License as published by\\n    the Free Software Foundation, either version 3 of the License, or\\n    (at your option) any later version.\\n    This program is distributed in the hope that it will be useful,\\n    but WITHOUT ANY WARRANTY; without even the implied warranty of\\n    MERCHANTABILITY or FITNESS FOR A PARTICULAR PURPOSE.  See the\\n    GNU General Public License for more details.\\n    You should have received a copy of the GNU General Public License\\n    along with this program.  If not, see <https://www.gnu.org/licenses/>.\\n'"
      ]
     },
     "execution_count": 43,
     "metadata": {},
     "output_type": "execute_result"
    }
   ],
   "source": [
    "\"\"\"\n",
    "    Copyright (C) 2022 Francesca Meneghello\n",
    "    contact: meneghello@dei.unipd.it\n",
    "    This program is free software: you can redistribute it and/or modify\n",
    "    it under the terms of the GNU General Public License as published by\n",
    "    the Free Software Foundation, either version 3 of the License, or\n",
    "    (at your option) any later version.\n",
    "    This program is distributed in the hope that it will be useful,\n",
    "    but WITHOUT ANY WARRANTY; without even the implied warranty of\n",
    "    MERCHANTABILITY or FITNESS FOR A PARTICULAR PURPOSE.  See the\n",
    "    GNU General Public License for more details.\n",
    "    You should have received a copy of the GNU General Public License\n",
    "    along with this program.  If not, see <https://www.gnu.org/licenses/>.\n",
    "\"\"\""
   ]
  },
  {
   "cell_type": "code",
   "execution_count": 73,
   "id": "2cac8964-8444-4522-bff0-a9a855420fc9",
   "metadata": {},
   "outputs": [],
   "source": [
    "import torch as t\n",
    "import torch.nn as nn\n",
    "import torch.nn.functional as F\n",
    "from torch.utils.data import Dataset, DataLoader\n",
    "import numpy as np\n",
    "import pickle\n",
    "from sklearn.metrics import confusion_matrix\n",
    "import os\n",
    "from sklearn.metrics import precision_recall_fscore_support, accuracy_score\n",
    "import matplotlib.pyplot as plt\n",
    "\n",
    "from utilities import *\n",
    "from torch.nn import Module, Sequential, Conv2d, BatchNorm2d, ReLU, MaxPool2d, AvgPool2d, Linear, Dropout, CrossEntropyLoss\n",
    "from torch.optim import SGD, Adam\n",
    "from tqdm import tqdm"
   ]
  },
  {
   "cell_type": "code",
   "execution_count": 74,
   "id": "8e9d693e",
   "metadata": {},
   "outputs": [],
   "source": [
    "dir_init = './doppler_traces/' #Directory of data\n",
    "subdirs_init = 'S1a' #Subdirs for training\n",
    "feature_length_init = 100 #Length along the feature dimension (height)\n",
    "sample_length_init = 340 #Length along the time dimension (width)\n",
    "channels_init = 1 #Number of channels\n",
    "batch_size_init = 32 #Number of samples in a batch\n",
    "num_tot_init = 4 #Number of antenna * number of spatial streams\n",
    "name_base_init = 'single_ant' #Name base for the files\n",
    "activities_init = 'E,L,W,R,J' #Activities to be considered\n",
    "bandwidth_init = 80 #Bandwidth in [MHz] to select the subcarriers, can be 20, 40, 80 (default 80)\n",
    "sub_band_init = 1 #Sub_band idx in [1, 2, 3, 4] for 20 MHz, [1, 2] for 40 MHz (default 1)"
   ]
  },
  {
   "cell_type": "code",
   "execution_count": 75,
   "id": "3c91245a-f916-4f76-8529-79850130f7cb",
   "metadata": {},
   "outputs": [
    {
     "name": "stdout",
     "output_type": "stream",
     "text": [
      "cuda\n"
     ]
    }
   ],
   "source": [
    "device = \"cuda\" if torch.cuda.is_available() else \"cpu\"\n",
    "print(device)"
   ]
  },
  {
   "cell_type": "markdown",
   "id": "d800e987",
   "metadata": {},
   "source": [
    "#### Create datasets for training, validation and test\n",
    "Generate the datasets using the ``create dataset single`` function which returns a DataLoader object"
   ]
  },
  {
   "cell_type": "code",
   "execution_count": 76,
   "id": "2aa315e0-c34d-40aa-960b-678d106d2b20",
   "metadata": {},
   "outputs": [],
   "source": [
    "bandwidth = bandwidth_init\n",
    "sub_band = sub_band_init\n",
    "\n",
    "csi_act = activities_init\n",
    "activities = []\n",
    "for lab_act in csi_act.split(','):\n",
    "    activities.append(lab_act)\n",
    "activities = np.asarray(activities)\n",
    "\n",
    "name_base = name_base_init\n",
    "if os.path.exists(name_base + '_' + str(csi_act) + '_cache_train.data-00000-of-00001'):\n",
    "    os.remove(name_base + '_' + str(csi_act) + '_cache_train.data-00000-of-00001')\n",
    "    os.remove(name_base + '_' + str(csi_act) + '_cache_train.index')\n",
    "if os.path.exists(name_base + '_' + str(csi_act) + '_cache_val.data-00000-of-00001'):\n",
    "    os.remove(name_base + '_' + str(csi_act) + '_cache_val.data-00000-of-00001')\n",
    "    os.remove(name_base + '_' + str(csi_act) + '_cache_val.index')\n",
    "if os.path.exists(name_base + '_' + str(csi_act) + '_cache_train_test.data-00000-of-00001'):\n",
    "    os.remove(name_base + '_' + str(csi_act) + '_cache_train_test.data-00000-of-00001')\n",
    "    os.remove(name_base + '_' + str(csi_act) + '_cache_train_test.index')\n",
    "if os.path.exists(name_base + '_' + str(csi_act) + '_cache_test.data-00000-of-00001'):\n",
    "    os.remove(name_base + '_' + str(csi_act) + '_cache_test.data-00000-of-00001')\n",
    "    os.remove(name_base + '_' + str(csi_act) + '_cache_test.index')\n",
    "\n",
    "subdirs_training = subdirs_init  # string\n",
    "labels_train = []\n",
    "all_files_train = []\n",
    "labels_val = []\n",
    "all_files_val = []\n",
    "labels_test = []\n",
    "all_files_test = []\n",
    "sample_length = sample_length_init\n",
    "feature_length = feature_length_init\n",
    "channels = channels_init\n",
    "num_antennas = num_tot_init\n",
    "input_shape = (num_antennas, sample_length, feature_length, channels)\n",
    "input_network = (sample_length, feature_length, channels)\n",
    "batch_size = batch_size_init\n",
    "output_shape = activities.shape[0]\n",
    "labels_considered = np.arange(output_shape)\n",
    "activities = activities[labels_considered]\n",
    "\n",
    "suffix = '.txt'\n",
    "\n",
    "for sdir in subdirs_training.split(','):\n",
    "    exp_save_dir = dir_init + sdir + '/'\n",
    "    \n",
    "    dir_train = dir_init + sdir + '/train_antennas_' + str(csi_act) + '/'\n",
    "    name_labels = dir_init + sdir + '/labels_train_antennas_' + str(csi_act) + suffix\n",
    "    with open(name_labels, \"rb\") as fp:  # Unpickling\n",
    "        labels_train.extend(pickle.load(fp))\n",
    "    name_f = dir_init + sdir + '/files_train_antennas_' + str(csi_act) + suffix\n",
    "    with open(name_f, \"rb\") as fp:  # Unpickling\n",
    "        all_files_train.extend(pickle.load(fp))\n",
    "\n",
    "    dir_val = dir_init + sdir + '/val_antennas_' + str(csi_act) + '/'\n",
    "    name_labels = dir_init + sdir + '/labels_val_antennas_' + str(csi_act) + suffix\n",
    "    with open(name_labels, \"rb\") as fp:  # Unpickling\n",
    "        labels_val.extend(pickle.load(fp))\n",
    "    name_f = dir_init + sdir + '/files_val_antennas_' + str(csi_act) + suffix\n",
    "    with open(name_f, \"rb\") as fp:  # Unpickling\n",
    "        all_files_val.extend(pickle.load(fp))\n",
    "\n",
    "    dir_test = dir_init + sdir + '/test_antennas_' + str(csi_act) + '/'\n",
    "    name_labels = dir_init + sdir + '/labels_test_antennas_' + str(csi_act) + suffix\n",
    "    with open(name_labels, \"rb\") as fp:  # Unpickling\n",
    "        labels_test.extend(pickle.load(fp))\n",
    "    name_f = dir_init + sdir + '/files_test_antennas_' + str(csi_act) + suffix\n",
    "    with open(name_f, \"rb\") as fp:  # Unpickling\n",
    "        all_files_test.extend(pickle.load(fp))\n",
    "\n",
    "\n",
    "file_train_selected = [all_files_train[idx] for idx in range(len(labels_train)) if labels_train[idx] in\n",
    "                        labels_considered]\n",
    "labels_train_selected = [labels_train[idx] for idx in range(len(labels_train)) if labels_train[idx] in\n",
    "                            labels_considered]\n",
    "\n",
    "file_train_selected_expanded, labels_train_selected_expanded, stream_ant_train = \\\n",
    "    expand_antennas(file_train_selected, labels_train_selected, num_antennas)\n",
    "\n",
    "# create the batches\n",
    "name_cache = name_base + '_' + str(csi_act) + '_cache_train'\n",
    "dataset_csi_train = create_dataset_single(file_train_selected_expanded, labels_train_selected_expanded,\n",
    "                                            stream_ant_train, input_network, batch_size,\n",
    "                                            shuffle=True, cache_file=name_cache)\n",
    "\n",
    "file_val_selected = [all_files_val[idx] for idx in range(len(labels_val)) if labels_val[idx] in\n",
    "                        labels_considered]\n",
    "labels_val_selected = [labels_val[idx] for idx in range(len(labels_val)) if labels_val[idx] in\n",
    "                        labels_considered]\n",
    "\n",
    "file_val_selected_expanded, labels_val_selected_expanded, stream_ant_val = \\\n",
    "    expand_antennas(file_val_selected, labels_val_selected, num_antennas)\n",
    "\n",
    "name_cache_val = name_base + '_' + str(csi_act) + '_cache_val'\n",
    "dataset_csi_val = create_dataset_single(file_val_selected_expanded, labels_val_selected_expanded,\n",
    "                                        stream_ant_val, input_network, batch_size,\n",
    "                                        shuffle=False, cache_file=name_cache_val)\n",
    "\n",
    "file_test_selected = [all_files_test[idx] for idx in range(len(labels_test)) if labels_test[idx] in\n",
    "                        labels_considered]\n",
    "labels_test_selected = [labels_test[idx] for idx in range(len(labels_test)) if labels_test[idx] in\n",
    "                        labels_considered]\n",
    "\n",
    "file_test_selected_expanded, labels_test_selected_expanded, stream_ant_test = \\\n",
    "    expand_antennas(file_test_selected, labels_test_selected, num_antennas)\n",
    "\n",
    "name_cache_test = name_base + '_' + str(csi_act) + '_cache_test'\n",
    "dataset_csi_test = create_dataset_single(file_test_selected_expanded, labels_test_selected_expanded,\n",
    "                                            stream_ant_test, input_network, batch_size,\n",
    "                                            shuffle=False, cache_file=name_cache_test)"
   ]
  },
  {
   "cell_type": "code",
   "execution_count": 77,
   "id": "4e073aab",
   "metadata": {},
   "outputs": [
    {
     "data": {
      "text/plain": [
       "7232"
      ]
     },
     "execution_count": 77,
     "metadata": {},
     "output_type": "execute_result"
    }
   ],
   "source": [
    "226*32"
   ]
  },
  {
   "cell_type": "markdown",
   "id": "74224e5c",
   "metadata": {},
   "source": [
    "#### Define the model"
   ]
  },
  {
   "cell_type": "code",
   "execution_count": 78,
   "id": "27a60af2",
   "metadata": {},
   "outputs": [
    {
     "ename": "FileNotFoundError",
     "evalue": "[Errno 2] No such file or directory: '../baseline_model.png'",
     "output_type": "error",
     "traceback": [
      "\u001b[1;31m---------------------------------------------------------------------------\u001b[0m",
      "\u001b[1;31mFileNotFoundError\u001b[0m                         Traceback (most recent call last)",
      "Cell \u001b[1;32mIn[78], line 4\u001b[0m\n\u001b[0;32m      1\u001b[0m \u001b[38;5;28;01mfrom\u001b[39;00m \u001b[38;5;21;01mIPython\u001b[39;00m\u001b[38;5;21;01m.\u001b[39;00m\u001b[38;5;21;01mdisplay\u001b[39;00m \u001b[38;5;28;01mimport\u001b[39;00m Image\n\u001b[0;32m      3\u001b[0m \u001b[38;5;66;03m# Display the image\u001b[39;00m\n\u001b[1;32m----> 4\u001b[0m \u001b[43mImage\u001b[49m\u001b[43m(\u001b[49m\u001b[43mfilename\u001b[49m\u001b[38;5;241;43m=\u001b[39;49m\u001b[38;5;124;43m'\u001b[39;49m\u001b[38;5;124;43m../baseline_model.png\u001b[39;49m\u001b[38;5;124;43m'\u001b[39;49m\u001b[43m,\u001b[49m\u001b[43m \u001b[49m\u001b[43mwidth\u001b[49m\u001b[38;5;241;43m=\u001b[39;49m\u001b[38;5;241;43m700\u001b[39;49m\u001b[43m,\u001b[49m\u001b[43m \u001b[49m\u001b[43mheight\u001b[49m\u001b[38;5;241;43m=\u001b[39;49m\u001b[38;5;241;43m350\u001b[39;49m\u001b[43m)\u001b[49m\n",
      "File \u001b[1;32mc:\\Users\\feder\\anaconda3\\envs\\nnml\\lib\\site-packages\\IPython\\core\\display.py:970\u001b[0m, in \u001b[0;36mImage.__init__\u001b[1;34m(self, data, url, filename, format, embed, width, height, retina, unconfined, metadata, alt)\u001b[0m\n\u001b[0;32m    968\u001b[0m \u001b[38;5;28mself\u001b[39m\u001b[38;5;241m.\u001b[39munconfined \u001b[38;5;241m=\u001b[39m unconfined\n\u001b[0;32m    969\u001b[0m \u001b[38;5;28mself\u001b[39m\u001b[38;5;241m.\u001b[39malt \u001b[38;5;241m=\u001b[39m alt\n\u001b[1;32m--> 970\u001b[0m \u001b[38;5;28;43msuper\u001b[39;49m\u001b[43m(\u001b[49m\u001b[43mImage\u001b[49m\u001b[43m,\u001b[49m\u001b[43m \u001b[49m\u001b[38;5;28;43mself\u001b[39;49m\u001b[43m)\u001b[49m\u001b[38;5;241;43m.\u001b[39;49m\u001b[38;5;21;43m__init__\u001b[39;49m\u001b[43m(\u001b[49m\u001b[43mdata\u001b[49m\u001b[38;5;241;43m=\u001b[39;49m\u001b[43mdata\u001b[49m\u001b[43m,\u001b[49m\u001b[43m \u001b[49m\u001b[43murl\u001b[49m\u001b[38;5;241;43m=\u001b[39;49m\u001b[43murl\u001b[49m\u001b[43m,\u001b[49m\u001b[43m \u001b[49m\u001b[43mfilename\u001b[49m\u001b[38;5;241;43m=\u001b[39;49m\u001b[43mfilename\u001b[49m\u001b[43m,\u001b[49m\n\u001b[0;32m    971\u001b[0m \u001b[43m        \u001b[49m\u001b[43mmetadata\u001b[49m\u001b[38;5;241;43m=\u001b[39;49m\u001b[43mmetadata\u001b[49m\u001b[43m)\u001b[49m\n\u001b[0;32m    973\u001b[0m \u001b[38;5;28;01mif\u001b[39;00m \u001b[38;5;28mself\u001b[39m\u001b[38;5;241m.\u001b[39mwidth \u001b[38;5;129;01mis\u001b[39;00m \u001b[38;5;28;01mNone\u001b[39;00m \u001b[38;5;129;01mand\u001b[39;00m \u001b[38;5;28mself\u001b[39m\u001b[38;5;241m.\u001b[39mmetadata\u001b[38;5;241m.\u001b[39mget(\u001b[38;5;124m'\u001b[39m\u001b[38;5;124mwidth\u001b[39m\u001b[38;5;124m'\u001b[39m, {}):\n\u001b[0;32m    974\u001b[0m     \u001b[38;5;28mself\u001b[39m\u001b[38;5;241m.\u001b[39mwidth \u001b[38;5;241m=\u001b[39m metadata[\u001b[38;5;124m'\u001b[39m\u001b[38;5;124mwidth\u001b[39m\u001b[38;5;124m'\u001b[39m]\n",
      "File \u001b[1;32mc:\\Users\\feder\\anaconda3\\envs\\nnml\\lib\\site-packages\\IPython\\core\\display.py:327\u001b[0m, in \u001b[0;36mDisplayObject.__init__\u001b[1;34m(self, data, url, filename, metadata)\u001b[0m\n\u001b[0;32m    324\u001b[0m \u001b[38;5;28;01melif\u001b[39;00m \u001b[38;5;28mself\u001b[39m\u001b[38;5;241m.\u001b[39mmetadata \u001b[38;5;129;01mis\u001b[39;00m \u001b[38;5;28;01mNone\u001b[39;00m:\n\u001b[0;32m    325\u001b[0m     \u001b[38;5;28mself\u001b[39m\u001b[38;5;241m.\u001b[39mmetadata \u001b[38;5;241m=\u001b[39m {}\n\u001b[1;32m--> 327\u001b[0m \u001b[38;5;28;43mself\u001b[39;49m\u001b[38;5;241;43m.\u001b[39;49m\u001b[43mreload\u001b[49m\u001b[43m(\u001b[49m\u001b[43m)\u001b[49m\n\u001b[0;32m    328\u001b[0m \u001b[38;5;28mself\u001b[39m\u001b[38;5;241m.\u001b[39m_check_data()\n",
      "File \u001b[1;32mc:\\Users\\feder\\anaconda3\\envs\\nnml\\lib\\site-packages\\IPython\\core\\display.py:1005\u001b[0m, in \u001b[0;36mImage.reload\u001b[1;34m(self)\u001b[0m\n\u001b[0;32m   1003\u001b[0m \u001b[38;5;250m\u001b[39m\u001b[38;5;124;03m\"\"\"Reload the raw data from file or URL.\"\"\"\u001b[39;00m\n\u001b[0;32m   1004\u001b[0m \u001b[38;5;28;01mif\u001b[39;00m \u001b[38;5;28mself\u001b[39m\u001b[38;5;241m.\u001b[39membed:\n\u001b[1;32m-> 1005\u001b[0m     \u001b[38;5;28;43msuper\u001b[39;49m\u001b[43m(\u001b[49m\u001b[43mImage\u001b[49m\u001b[43m,\u001b[49m\u001b[38;5;28;43mself\u001b[39;49m\u001b[43m)\u001b[49m\u001b[38;5;241;43m.\u001b[39;49m\u001b[43mreload\u001b[49m\u001b[43m(\u001b[49m\u001b[43m)\u001b[49m\n\u001b[0;32m   1006\u001b[0m     \u001b[38;5;28;01mif\u001b[39;00m \u001b[38;5;28mself\u001b[39m\u001b[38;5;241m.\u001b[39mretina:\n\u001b[0;32m   1007\u001b[0m         \u001b[38;5;28mself\u001b[39m\u001b[38;5;241m.\u001b[39m_retina_shape()\n",
      "File \u001b[1;32mc:\\Users\\feder\\anaconda3\\envs\\nnml\\lib\\site-packages\\IPython\\core\\display.py:353\u001b[0m, in \u001b[0;36mDisplayObject.reload\u001b[1;34m(self)\u001b[0m\n\u001b[0;32m    351\u001b[0m \u001b[38;5;28;01mif\u001b[39;00m \u001b[38;5;28mself\u001b[39m\u001b[38;5;241m.\u001b[39mfilename \u001b[38;5;129;01mis\u001b[39;00m \u001b[38;5;129;01mnot\u001b[39;00m \u001b[38;5;28;01mNone\u001b[39;00m:\n\u001b[0;32m    352\u001b[0m     encoding \u001b[38;5;241m=\u001b[39m \u001b[38;5;28;01mNone\u001b[39;00m \u001b[38;5;28;01mif\u001b[39;00m \u001b[38;5;124m\"\u001b[39m\u001b[38;5;124mb\u001b[39m\u001b[38;5;124m\"\u001b[39m \u001b[38;5;129;01min\u001b[39;00m \u001b[38;5;28mself\u001b[39m\u001b[38;5;241m.\u001b[39m_read_flags \u001b[38;5;28;01melse\u001b[39;00m \u001b[38;5;124m\"\u001b[39m\u001b[38;5;124mutf-8\u001b[39m\u001b[38;5;124m\"\u001b[39m\n\u001b[1;32m--> 353\u001b[0m     \u001b[38;5;28;01mwith\u001b[39;00m \u001b[38;5;28;43mopen\u001b[39;49m\u001b[43m(\u001b[49m\u001b[38;5;28;43mself\u001b[39;49m\u001b[38;5;241;43m.\u001b[39;49m\u001b[43mfilename\u001b[49m\u001b[43m,\u001b[49m\u001b[43m \u001b[49m\u001b[38;5;28;43mself\u001b[39;49m\u001b[38;5;241;43m.\u001b[39;49m\u001b[43m_read_flags\u001b[49m\u001b[43m,\u001b[49m\u001b[43m \u001b[49m\u001b[43mencoding\u001b[49m\u001b[38;5;241;43m=\u001b[39;49m\u001b[43mencoding\u001b[49m\u001b[43m)\u001b[49m \u001b[38;5;28;01mas\u001b[39;00m f:\n\u001b[0;32m    354\u001b[0m         \u001b[38;5;28mself\u001b[39m\u001b[38;5;241m.\u001b[39mdata \u001b[38;5;241m=\u001b[39m f\u001b[38;5;241m.\u001b[39mread()\n\u001b[0;32m    355\u001b[0m \u001b[38;5;28;01melif\u001b[39;00m \u001b[38;5;28mself\u001b[39m\u001b[38;5;241m.\u001b[39murl \u001b[38;5;129;01mis\u001b[39;00m \u001b[38;5;129;01mnot\u001b[39;00m \u001b[38;5;28;01mNone\u001b[39;00m:\n\u001b[0;32m    356\u001b[0m     \u001b[38;5;66;03m# Deferred import\u001b[39;00m\n",
      "\u001b[1;31mFileNotFoundError\u001b[0m: [Errno 2] No such file or directory: '../baseline_model.png'"
     ]
    }
   ],
   "source": [
    "from IPython.display import Image\n",
    "\n",
    "# Display the image\n",
    "Image(filename='../baseline_model.png', width=700, height=350)"
   ]
  },
  {
   "cell_type": "markdown",
   "id": "be54d2dd",
   "metadata": {},
   "source": [
    "``Conv2d_bn`` helper module"
   ]
  },
  {
   "cell_type": "code",
   "execution_count": 79,
   "id": "cb608ee9",
   "metadata": {},
   "outputs": [
    {
     "data": {
      "text/plain": [
       "'\\nclass Conv2d_bn(Module):\\n    def __init__(self, in_filters, out_filters, kernel_size, strides, padding):\\n        super().__init__()\\n        self.conv = nn.Conv2d(in_filters, out_filters, kernel_size=kernel_size, stride=strides, padding=padding)\\n        self.relu = nn.ReLU()\\n\\n    def _init_weights(self, module):\\n        if isinstance(module, torch.nn.Conv2d):\\n            torch.nn.init.xavier_uniform_(module.weight)\\n            if module.bias is not None:\\n                module.bias.data.zero_()\\n\\n    def forward(self, x):\\n        x = self.conv(x)\\n        return self.relu(x)\\n'"
      ]
     },
     "execution_count": 79,
     "metadata": {},
     "output_type": "execute_result"
    }
   ],
   "source": [
    "'''\n",
    "class Conv2d_bn(Module):\n",
    "    def __init__(self, in_filters, out_filters, kernel_size, strides, padding):\n",
    "        super().__init__()\n",
    "        self.conv = nn.Conv2d(in_filters, out_filters, kernel_size=kernel_size, stride=strides, padding=padding)\n",
    "        self.relu = nn.ReLU()\n",
    "\n",
    "    def _init_weights(self, module):\n",
    "        if isinstance(module, torch.nn.Conv2d):\n",
    "            torch.nn.init.xavier_uniform_(module.weight)\n",
    "            if module.bias is not None:\n",
    "                module.bias.data.zero_()\n",
    "\n",
    "    def forward(self, x):\n",
    "        x = self.conv(x)\n",
    "        return self.relu(x)\n",
    "'''"
   ]
  },
  {
   "cell_type": "code",
   "execution_count": 80,
   "id": "ad42840d",
   "metadata": {},
   "outputs": [
    {
     "data": {
      "text/plain": [
       "\"class Conv2d_bn(nn.Module):\\n    def init(self, in_filters, out_filters, kernel_size, strides=(1, 1), padding='same'):\\n        super(Conv2d_bn, self).init()\\n        \\n        # Calcola il padding asimmetrico necessario per 'same' padding\\n        if padding == 'same':\\n            if isinstance(kernel_size, tuple):\\n                padding_val = [(k - 1) // 2 for k in kernel_size]\\n                padding_extra = [(k - 1) % 2 for k in kernel_size]\\n            else:\\n                padding_val = (kernel_size - 1) // 2\\n                padding_extra = (kernel_size - 1) % 2\\n        else:\\n            padding_val = 0\\n            padding_extra = 0\\n\\n        self.conv = nn.Conv2d(in_filters, out_filters, kernel_size=kernel_size, stride=strides, padding=padding_val)\\n        self.relu = nn.ReLU()\\n        self.padding = padding_val\\n        self.padding_extra = padding_extra\\n\\n    def forward(self, x):\\n        if self.padding_extra != 0:\\n            x = F.pad(x, [0, self.padding_extra[1], 0, self.padding_extra[0]])\\n        x = self.conv(x)\\n        return self.relu(x)\\n    \""
      ]
     },
     "execution_count": 80,
     "metadata": {},
     "output_type": "execute_result"
    }
   ],
   "source": [
    "\"\"\"class Conv2d_bn(nn.Module):\n",
    "    def init(self, in_filters, out_filters, kernel_size, strides=(1, 1), padding='same'):\n",
    "        super(Conv2d_bn, self).init()\n",
    "        \n",
    "        # Calcola il padding asimmetrico necessario per 'same' padding\n",
    "        if padding == 'same':\n",
    "            if isinstance(kernel_size, tuple):\n",
    "                padding_val = [(k - 1) // 2 for k in kernel_size]\n",
    "                padding_extra = [(k - 1) % 2 for k in kernel_size]\n",
    "            else:\n",
    "                padding_val = (kernel_size - 1) // 2\n",
    "                padding_extra = (kernel_size - 1) % 2\n",
    "        else:\n",
    "            padding_val = 0\n",
    "            padding_extra = 0\n",
    "\n",
    "        self.conv = nn.Conv2d(in_filters, out_filters, kernel_size=kernel_size, stride=strides, padding=padding_val)\n",
    "        self.relu = nn.ReLU()\n",
    "        self.padding = padding_val\n",
    "        self.padding_extra = padding_extra\n",
    "\n",
    "    def forward(self, x):\n",
    "        if self.padding_extra != 0:\n",
    "            x = F.pad(x, [0, self.padding_extra[1], 0, self.padding_extra[0]])\n",
    "        x = self.conv(x)\n",
    "        return self.relu(x)\n",
    "    \"\"\""
   ]
  },
  {
   "cell_type": "code",
   "execution_count": 81,
   "id": "1ca57529",
   "metadata": {},
   "outputs": [],
   "source": [
    "import math as m\n",
    "\n",
    "class Conv2d_bn(nn.Module):\n",
    "    def __init__(self, in_filters, out_filters, kernel_size, in_dimension=(0,0), strides=(1, 1), padding='valid'):\n",
    "        super(Conv2d_bn, self).__init__()\n",
    "\n",
    "        if isinstance(kernel_size, tuple):\n",
    "            kernel_height, kernel_width = kernel_size\n",
    "        else:\n",
    "            kernel_height = kernel_width = kernel_size\n",
    "\n",
    "        if isinstance(strides, tuple):\n",
    "            stride_height, stride_width = strides\n",
    "        else:\n",
    "            stride_height = stride_width = strides\n",
    "\n",
    "        in_height, in_width = in_dimension\n",
    "\n",
    "        # Calcola il padding totale necessario per mantenere le dimensioni in uscita uguali a quelle in ingresso\n",
    "        if padding == 'same':\n",
    "            # Calcolo per altezza (height)\n",
    "            total_padding_height = (m.ceil(in_height/stride_height) - 1)*stride_height - in_height + kernel_height #kernel_height - stride_height\n",
    "            pad_top = total_padding_height // 2\n",
    "            pad_bottom = total_padding_height - pad_top\n",
    "            \n",
    "            # Calcolo per larghezza (width)\n",
    "            total_padding_width = (m.ceil(in_width/stride_width) - 1)*stride_width - in_width + kernel_width\n",
    "            pad_left = total_padding_width // 2\n",
    "            pad_right = total_padding_width - pad_left\n",
    "\n",
    "            self.padding = (pad_left, pad_right, pad_top, pad_bottom)\n",
    "        else:\n",
    "            self.padding = (0, 0, 0, 0)\n",
    "\n",
    "        self.conv = nn.Conv2d(in_filters, out_filters, kernel_size=kernel_size, stride=strides, padding=0)\n",
    "        self.relu = nn.ReLU()\n",
    "        self.apply(self._init_weights)\n",
    "\n",
    "    def _init_weights(self, module):\n",
    "            if isinstance(module, torch.nn.Linear):\n",
    "                torch.nn.init.xavier_uniform_(module.weight)\n",
    "                if module.bias is not None:\n",
    "                    module.bias.data.zero_()\n",
    "            if isinstance(module, torch.nn.Conv2d):\n",
    "                torch.nn.init.xavier_uniform_(module.weight)\n",
    "                if module.bias is not None:\n",
    "                    module.bias.data.zero_()\n",
    "\n",
    "    def forward(self, x):\n",
    "        # Applica il padding asimmetrico se necessario\n",
    "        if self.padding != (0, 0, 0, 0):\n",
    "            x = F.pad(x, self.padding)\n",
    "        x = self.conv(x)\n",
    "        return self.relu(x)\n"
   ]
  },
  {
   "cell_type": "markdown",
   "id": "ee1f64ca",
   "metadata": {},
   "source": [
    "``Reduction`` block"
   ]
  },
  {
   "cell_type": "code",
   "execution_count": 82,
   "id": "29fa00ea",
   "metadata": {},
   "outputs": [],
   "source": [
    "class Reduction(Module):\n",
    "\n",
    "    def __init__(self, in_filters):\n",
    "        super().__init__()\n",
    "        self.max_pool = MaxPool2d(kernel_size=2, stride=2, padding=0)\n",
    "        self.central_block = Conv2d_bn(in_filters=in_filters, out_filters=5, kernel_size=2, strides=2, padding=\"valid\")\n",
    "        self.right_block =  Sequential(\n",
    "            Conv2d_bn(in_filters=in_filters, in_dimension=(340,100), out_filters=3, kernel_size=1, strides=1, padding=\"same\"), \n",
    "            Conv2d_bn(in_filters=3, in_dimension=(340,100), out_filters=6, kernel_size=2, strides=1, padding=\"same\"),  \n",
    "            Conv2d_bn(in_filters=6, in_dimension=(340,100), out_filters=9, kernel_size=4, strides=2, padding=\"same\"), #for the mthe padding is same also here?!\n",
    "        )\n",
    "        self.apply(self._init_weights)\n",
    "\n",
    "    def _init_weights(self, module):\n",
    "        if isinstance(module, torch.nn.Linear):\n",
    "            torch.nn.init.xavier_uniform_(module.weight)\n",
    "            if module.bias is not None:\n",
    "                module.bias.data.zero_()\n",
    "        if isinstance(module, torch.nn.Conv2d):\n",
    "            torch.nn.init.xavier_uniform_(module.weight)\n",
    "            if module.bias is not None:\n",
    "                module.bias.data.zero_()\n",
    "\n",
    "    def forward(self, x):\n",
    "        x_1 = self.max_pool(x)\n",
    "        x_2 = self.central_block(x)\n",
    "        x_3 = self.right_block(x)\n",
    "        x = torch.cat([x_1, x_2, x_3], axis=1)\n",
    "        return x"
   ]
  },
  {
   "cell_type": "markdown",
   "id": "8b301c38",
   "metadata": {},
   "source": [
    "``Inception`` network"
   ]
  },
  {
   "cell_type": "code",
   "execution_count": 83,
   "id": "7618d320",
   "metadata": {},
   "outputs": [],
   "source": [
    "class Inception(Module):\n",
    "\n",
    "    def __init__(self):\n",
    "        super().__init__()\n",
    "        self.reduction = Reduction(1)\n",
    "        self.conv = Conv2d_bn(in_filters=15, in_dimension=(170,50), out_filters=3, kernel_size=1, strides=1, padding=\"same\") #padding?\n",
    "        self.drop = Dropout(0.2)\n",
    "        self.classification_layer = Linear(25500, 5) #170*50*3\n",
    "        self.apply(self._init_weights)\n",
    "\n",
    "    def forward(self, x):\n",
    "        x = self.reduction(x)\n",
    "        x = self.conv(x)\n",
    "        x = t.flatten(x, start_dim=1) # keep the batch dimension \n",
    "        #x = x.reshape(x.shape[0], -1, 1536).mean(axis=1)\n",
    "        x = self.drop(x)\n",
    "        y = self.classification_layer(x)\n",
    "        return y\n",
    "\n",
    "    def _init_weights(self, module):\n",
    "        if isinstance(module, torch.nn.Linear):\n",
    "            torch.nn.init.xavier_uniform_(module.weight)\n",
    "            if module.bias is not None:\n",
    "                module.bias.data.zero_()\n",
    "        if isinstance(module, torch.nn.Conv2d):\n",
    "            torch.nn.init.xavier_uniform_(module.weight)\n",
    "            if module.bias is not None:\n",
    "                module.bias.data.zero_()"
   ]
  },
  {
   "cell_type": "markdown",
   "id": "5dd81670",
   "metadata": {},
   "source": [
    "#### Model training"
   ]
  },
  {
   "cell_type": "code",
   "execution_count": 84,
   "id": "afeadf78",
   "metadata": {},
   "outputs": [
    {
     "name": "stdout",
     "output_type": "stream",
     "text": [
      "Epoch: 1\n"
     ]
    },
    {
     "name": "stderr",
     "output_type": "stream",
     "text": [
      "Train loss: 1.2348915338516235: 100%|██████████| 226/226 [00:15<00:00, 14.33it/s]\n",
      "100%|██████████| 70/70 [00:03<00:00, 20.80it/s]\n"
     ]
    },
    {
     "name": "stdout",
     "output_type": "stream",
     "text": [
      "loss: 1.202080249786377, accuracy: 0.6203041076660156\n",
      "Saved Model\n",
      "Epoch: 2\n"
     ]
    },
    {
     "name": "stderr",
     "output_type": "stream",
     "text": [
      "Train loss: 0.6911140084266663: 100%|██████████| 226/226 [00:15<00:00, 14.49it/s]\n",
      "100%|██████████| 70/70 [00:03<00:00, 21.15it/s]\n"
     ]
    },
    {
     "name": "stdout",
     "output_type": "stream",
     "text": [
      "loss: 0.7295770049095154, accuracy: 0.7110912203788757\n",
      "Saved Model\n",
      "Epoch: 3\n"
     ]
    },
    {
     "name": "stderr",
     "output_type": "stream",
     "text": [
      "Train loss: 0.29721564054489136: 100%|██████████| 226/226 [00:15<00:00, 14.60it/s]\n",
      "100%|██████████| 70/70 [00:03<00:00, 21.26it/s]\n"
     ]
    },
    {
     "name": "stdout",
     "output_type": "stream",
     "text": [
      "loss: 0.4023771286010742, accuracy: 0.8613595366477966\n",
      "Saved Model\n",
      "Epoch: 4\n"
     ]
    },
    {
     "name": "stderr",
     "output_type": "stream",
     "text": [
      "Train loss: 0.2258649617433548: 100%|██████████| 226/226 [00:15<00:00, 14.61it/s] \n",
      "100%|██████████| 70/70 [00:03<00:00, 21.26it/s]\n"
     ]
    },
    {
     "name": "stdout",
     "output_type": "stream",
     "text": [
      "loss: 0.2666252553462982, accuracy: 0.9154740571975708\n",
      "Saved Model\n",
      "Epoch: 5\n"
     ]
    },
    {
     "name": "stderr",
     "output_type": "stream",
     "text": [
      "Train loss: 0.12320749461650848: 100%|██████████| 226/226 [00:15<00:00, 14.59it/s]\n",
      "100%|██████████| 70/70 [00:03<00:00, 21.38it/s]\n"
     ]
    },
    {
     "name": "stdout",
     "output_type": "stream",
     "text": [
      "loss: 0.18269658088684082, accuracy: 0.9843470454216003\n",
      "Saved Model\n",
      "Epoch: 6\n"
     ]
    },
    {
     "name": "stderr",
     "output_type": "stream",
     "text": [
      "Train loss: 0.18838129937648773: 100%|██████████| 226/226 [00:15<00:00, 14.55it/s] \n",
      "100%|██████████| 70/70 [00:03<00:00, 20.68it/s]\n"
     ]
    },
    {
     "name": "stdout",
     "output_type": "stream",
     "text": [
      "loss: 0.13920308649539948, accuracy: 0.9883720874786377\n",
      "Saved Model\n",
      "Epoch: 7\n"
     ]
    },
    {
     "name": "stderr",
     "output_type": "stream",
     "text": [
      "Train loss: 0.07114449888467789: 100%|██████████| 226/226 [00:15<00:00, 14.69it/s] \n",
      "100%|██████████| 70/70 [00:03<00:00, 21.33it/s]\n"
     ]
    },
    {
     "name": "stdout",
     "output_type": "stream",
     "text": [
      "loss: 0.09481818974018097, accuracy: 0.9928443431854248\n",
      "Saved Model\n",
      "Epoch: 8\n"
     ]
    },
    {
     "name": "stderr",
     "output_type": "stream",
     "text": [
      "Train loss: 0.05198826268315315: 100%|██████████| 226/226 [00:15<00:00, 14.57it/s] \n",
      "100%|██████████| 70/70 [00:03<00:00, 21.30it/s]\n"
     ]
    },
    {
     "name": "stdout",
     "output_type": "stream",
     "text": [
      "loss: 0.07166726887226105, accuracy: 0.9950804710388184\n",
      "Saved Model\n",
      "Epoch: 9\n"
     ]
    },
    {
     "name": "stderr",
     "output_type": "stream",
     "text": [
      "Train loss: 0.06236010044813156: 100%|██████████| 226/226 [00:15<00:00, 14.58it/s] \n",
      "100%|██████████| 70/70 [00:03<00:00, 22.06it/s]\n"
     ]
    },
    {
     "name": "stdout",
     "output_type": "stream",
     "text": [
      "loss: 0.056652434170246124, accuracy: 0.9959749579429626\n",
      "Saved Model\n",
      "Epoch: 10\n"
     ]
    },
    {
     "name": "stderr",
     "output_type": "stream",
     "text": [
      "Train loss: 0.04073449596762657: 100%|██████████| 226/226 [00:15<00:00, 14.65it/s] \n",
      "100%|██████████| 70/70 [00:03<00:00, 21.25it/s]\n"
     ]
    },
    {
     "name": "stdout",
     "output_type": "stream",
     "text": [
      "loss: 0.04186447709798813, accuracy: 0.9959749579429626\n",
      "Saved Model\n",
      "Epoch: 11\n"
     ]
    },
    {
     "name": "stderr",
     "output_type": "stream",
     "text": [
      "Train loss: 0.04316361993551254: 100%|██████████| 226/226 [00:15<00:00, 14.60it/s] \n",
      "100%|██████████| 70/70 [00:03<00:00, 21.32it/s]\n"
     ]
    },
    {
     "name": "stdout",
     "output_type": "stream",
     "text": [
      "loss: 0.033137861639261246, accuracy: 0.9977638721466064\n",
      "Saved Model\n",
      "Epoch: 12\n"
     ]
    },
    {
     "name": "stderr",
     "output_type": "stream",
     "text": [
      "Train loss: 0.03999948874115944: 100%|██████████| 226/226 [00:15<00:00, 14.57it/s] \n",
      "100%|██████████| 70/70 [00:03<00:00, 21.20it/s]\n"
     ]
    },
    {
     "name": "stdout",
     "output_type": "stream",
     "text": [
      "loss: 0.029308749362826347, accuracy: 0.9941860437393188\n",
      "Saved Model\n",
      "Epoch: 13\n"
     ]
    },
    {
     "name": "stderr",
     "output_type": "stream",
     "text": [
      "Train loss: 0.0103343166410923: 100%|██████████| 226/226 [00:15<00:00, 14.61it/s]   \n",
      "100%|██████████| 70/70 [00:03<00:00, 21.22it/s]\n"
     ]
    },
    {
     "name": "stdout",
     "output_type": "stream",
     "text": [
      "loss: 0.02665497362613678, accuracy: 0.9977638721466064\n",
      "Saved Model\n",
      "Epoch: 14\n"
     ]
    },
    {
     "name": "stderr",
     "output_type": "stream",
     "text": [
      "Train loss: 0.03172261267900467:   1%|▏         | 3/226 [00:11<11:33,  3.11s/it]Exception ignored in: <function _MultiProcessingDataLoaderIter.__del__ at 0x0000020EA06E0790>\n",
      "Traceback (most recent call last):\n",
      "  File \"c:\\Users\\feder\\anaconda3\\envs\\nnml\\lib\\site-packages\\torch\\utils\\data\\dataloader.py\", line 1477, in __del__\n",
      "    self._shutdown_workers()\n",
      "  File \"c:\\Users\\feder\\anaconda3\\envs\\nnml\\lib\\site-packages\\torch\\utils\\data\\dataloader.py\", line 1435, in _shutdown_workers\n",
      "    if self._persistent_workers or self._workers_status[worker_id]:\n",
      "AttributeError: '_MultiProcessingDataLoaderIter' object has no attribute '_workers_status'\n",
      "Train loss: 0.012642939575016499: 100%|██████████| 226/226 [00:15<00:00, 14.40it/s] \n",
      "100%|██████████| 70/70 [00:03<00:00, 21.23it/s]\n"
     ]
    },
    {
     "name": "stdout",
     "output_type": "stream",
     "text": [
      "loss: 0.02296227402985096, accuracy: 0.9968693852424622\n",
      "Saved Model\n",
      "Epoch: 15\n"
     ]
    },
    {
     "name": "stderr",
     "output_type": "stream",
     "text": [
      "Train loss: 0.00903190765529871: 100%|██████████| 226/226 [00:15<00:00, 14.60it/s]  \n",
      "100%|██████████| 70/70 [00:03<00:00, 21.19it/s]\n"
     ]
    },
    {
     "name": "stdout",
     "output_type": "stream",
     "text": [
      "loss: 0.014276357367634773, accuracy: 0.9991055130958557\n",
      "Saved Model\n",
      "Epoch: 16\n"
     ]
    },
    {
     "name": "stderr",
     "output_type": "stream",
     "text": [
      "Train loss: 0.0030247983522713184: 100%|██████████| 226/226 [00:15<00:00, 14.59it/s]\n",
      "100%|██████████| 70/70 [00:03<00:00, 21.36it/s]\n"
     ]
    },
    {
     "name": "stdout",
     "output_type": "stream",
     "text": [
      "loss: 0.012388987466692924, accuracy: 0.998658299446106\n",
      "Saved Model\n",
      "Epoch: 17\n"
     ]
    },
    {
     "name": "stderr",
     "output_type": "stream",
     "text": [
      "Train loss: 0.02334892377257347: 100%|██████████| 226/226 [00:15<00:00, 14.56it/s]  \n",
      "100%|██████████| 70/70 [00:03<00:00, 21.13it/s]\n"
     ]
    },
    {
     "name": "stdout",
     "output_type": "stream",
     "text": [
      "loss: 0.01205226220190525, accuracy: 0.9973165988922119\n",
      "Saved Model\n",
      "Epoch: 18\n"
     ]
    },
    {
     "name": "stderr",
     "output_type": "stream",
     "text": [
      "Train loss: 0.002208760241046548: 100%|██████████| 226/226 [00:15<00:00, 14.58it/s] \n",
      "100%|██████████| 70/70 [00:03<00:00, 21.49it/s]\n"
     ]
    },
    {
     "name": "stdout",
     "output_type": "stream",
     "text": [
      "loss: 0.010728547349572182, accuracy: 0.9964221715927124\n",
      "Saved Model\n",
      "Epoch: 19\n"
     ]
    },
    {
     "name": "stderr",
     "output_type": "stream",
     "text": [
      "Train loss: 0.005806994624435902: 100%|██████████| 226/226 [00:15<00:00, 14.57it/s] \n",
      "100%|██████████| 70/70 [00:03<00:00, 21.55it/s]\n"
     ]
    },
    {
     "name": "stdout",
     "output_type": "stream",
     "text": [
      "loss: 0.008530382998287678, accuracy: 0.9991055130958557\n",
      "Saved Model\n",
      "Epoch: 20\n"
     ]
    },
    {
     "name": "stderr",
     "output_type": "stream",
     "text": [
      "Train loss: 0.0034408201463520527: 100%|██████████| 226/226 [00:15<00:00, 14.55it/s]\n",
      "100%|██████████| 70/70 [00:03<00:00, 21.39it/s]\n"
     ]
    },
    {
     "name": "stdout",
     "output_type": "stream",
     "text": [
      "loss: 0.007658627349883318, accuracy: 0.9991055130958557\n",
      "Saved Model\n",
      "Epoch: 21\n"
     ]
    },
    {
     "name": "stderr",
     "output_type": "stream",
     "text": [
      "Train loss: 0.0037338766269385815: 100%|██████████| 226/226 [00:15<00:00, 14.57it/s]\n",
      "100%|██████████| 70/70 [00:03<00:00, 21.42it/s]\n"
     ]
    },
    {
     "name": "stdout",
     "output_type": "stream",
     "text": [
      "loss: 0.007149154786020517, accuracy: 0.998658299446106\n",
      "Saved Model\n",
      "Epoch: 22\n"
     ]
    },
    {
     "name": "stderr",
     "output_type": "stream",
     "text": [
      "Train loss: 0.0026158830150961876: 100%|██████████| 226/226 [00:15<00:00, 14.57it/s]\n",
      "100%|██████████| 70/70 [00:03<00:00, 21.09it/s]\n"
     ]
    },
    {
     "name": "stdout",
     "output_type": "stream",
     "text": [
      "loss: 0.006712315138429403, accuracy: 0.9991055130958557\n",
      "Saved Model\n",
      "Epoch: 23\n"
     ]
    },
    {
     "name": "stderr",
     "output_type": "stream",
     "text": [
      "Train loss: 0.0007539130747318268: 100%|██████████| 226/226 [00:15<00:00, 14.57it/s] \n",
      "100%|██████████| 70/70 [00:03<00:00, 20.55it/s]\n"
     ]
    },
    {
     "name": "stdout",
     "output_type": "stream",
     "text": [
      "loss: 0.0056740958243608475, accuracy: 0.9991055130958557\n",
      "Saved Model\n",
      "Epoch: 24\n"
     ]
    },
    {
     "name": "stderr",
     "output_type": "stream",
     "text": [
      "Train loss: 0.002417060313746333: 100%|██████████| 226/226 [00:15<00:00, 14.52it/s] \n",
      "100%|██████████| 70/70 [00:03<00:00, 21.25it/s]\n"
     ]
    },
    {
     "name": "stdout",
     "output_type": "stream",
     "text": [
      "loss: 0.006172600202262402, accuracy: 0.9991055130958557\n",
      "Epoch: 25\n"
     ]
    },
    {
     "name": "stderr",
     "output_type": "stream",
     "text": [
      "Train loss: 0.0011636398267000914: 100%|██████████| 226/226 [00:15<00:00, 14.58it/s] \n",
      "100%|██████████| 70/70 [00:03<00:00, 21.61it/s]"
     ]
    },
    {
     "name": "stdout",
     "output_type": "stream",
     "text": [
      "loss: 0.00535947410389781, accuracy: 0.998658299446106\n",
      "Saved Model\n"
     ]
    },
    {
     "name": "stderr",
     "output_type": "stream",
     "text": [
      "\n"
     ]
    }
   ],
   "source": [
    "# Set seeds for reproducibility\n",
    "# fix this\n",
    "seed = 203\n",
    "torch.manual_seed(seed)\n",
    "\n",
    "model = Inception()\n",
    "opt = Adam(model.parameters(), lr=0.0001)\n",
    "loss_fn = CrossEntropyLoss() # by default reduction=\"mean\" i.e. the output is a scalar\n",
    "device = \"cuda\" if torch.cuda.is_available() else \"cpu\"\n",
    "model.to(device)\n",
    "\n",
    "epochs=25\n",
    "best_val = np.inf\n",
    "train_error = []\n",
    "validation_error = []\n",
    "for epoch in range(epochs):\n",
    "    train_loss = []\n",
    "    model.train()\n",
    "    print(f\"Epoch: {epoch+1}\")\n",
    "    iterator = tqdm(dataset_csi_train) # iterate over the batches\n",
    "    for batch_x, batch_y in iterator:\n",
    "        batch_x = batch_x.to(device) # batch with the inputs\n",
    "        batch_y = batch_y.to(device) # batch with the labels\n",
    "        batch_y = t.squeeze(batch_y, dim=1)\n",
    "\n",
    "        y_pred = model(batch_x) \n",
    "\n",
    "        loss = loss_fn(y_pred, batch_y)\n",
    " \n",
    "        opt.zero_grad() \n",
    "        loss.backward() #how is it bound to the model?\n",
    "        opt.step()\n",
    "        train_loss.append(loss.detach().cpu().numpy())\n",
    "        iterator.set_description(f\"Train loss: {loss.detach().cpu().numpy()}\")\n",
    "    train_error.append(np.mean(train_loss))\n",
    "\n",
    "    # validation\n",
    "    model.eval() # what does this change?\n",
    "    with torch.no_grad():\n",
    "        predictions = []\n",
    "        true = []\n",
    "        for batch_x, batch_y in tqdm(dataset_csi_val):\n",
    "            batch_x = batch_x.to(device)\n",
    "            batch_y = batch_y.to(device)\n",
    "            batch_y = t.squeeze(batch_y, dim=1)\n",
    "\n",
    "            y_pred = model(batch_x)\n",
    "\n",
    "            predictions.append(y_pred)\n",
    "            true.append(batch_y)\n",
    "        predictions = torch.cat(predictions, axis=0) # concatenate the predictions for all batches\n",
    "        true = torch.cat(true, axis=0)\n",
    "        val_loss = loss_fn(predictions, true)\n",
    "        validation_error.append(val_loss.detach().cpu().numpy())\n",
    "\n",
    "        val_acc = (torch.softmax(predictions, dim=1).argmax(dim=1) == true).float().mean()\n",
    "        #if true in argsort[:N] per top-N score?\n",
    "        print(f\"loss: {val_loss}, accuracy: {val_acc}\")\n",
    "\n",
    "    if val_loss < best_val:\n",
    "        print(\"Saved Model\")\n",
    "        torch.save(model.state_dict(), \"model.pt\")\n",
    "        best_val = val_loss"
   ]
  },
  {
   "cell_type": "code",
   "execution_count": 85,
   "id": "2e4ba5cd",
   "metadata": {},
   "outputs": [
    {
     "data": {
      "image/png": "[encoded data removed]",
      "text/plain": [
       "<Figure size 1000x1000 with 1 Axes>"
      ]
     },
     "metadata": {},
     "output_type": "display_data"
    }
   ],
   "source": [
    "plt.figure(figsize=(10,10))\n",
    "plt.plot(train_error, label=\"Train loss\")\n",
    "plt.plot(validation_error, label=\"Validation loss\")\n",
    "plt.legend()\n",
    "plt.show()"
   ]
  },
  {
   "cell_type": "code",
   "execution_count": null,
   "id": "dc5b78a3",
   "metadata": {},
   "outputs": [
    {
     "name": "stdout",
     "output_type": "stream",
     "text": [
      "target tensor: tensor([4, 3, 1])\n",
      "target tensor: tensor([[0.0808, 0.2741, 0.1219, 0.4518, 0.0714],\n",
      "        [0.1243, 0.3703, 0.0939, 0.2450, 0.1664],\n",
      "        [0.2252, 0.1695, 0.1627, 0.2942, 0.1484]])\n"
     ]
    }
   ],
   "source": [
    "# Example of target with class indices\n",
    "# non capisco come funzioni tbh\n",
    "loss = nn.CrossEntropyLoss()\n",
    "input = torch.randn(3, 5, requires_grad=True)\n",
    "target = torch.empty(3, dtype=torch.long).random_(5)\n",
    "print(\"target tensor:\", target)\n",
    "output = loss(input, target)\n",
    "output.backward()\n",
    "\n",
    "# Example of target with class probabilities\n",
    "input = torch.randn(3, 5, requires_grad=True)\n",
    "target = torch.randn(3, 5).softmax(dim=1)\n",
    "print(\"target tensor:\", target)\n",
    "output = loss(input, target)\n",
    "output.backward()"
   ]
  },
  {
   "cell_type": "markdown",
   "id": "77fdb300",
   "metadata": {},
   "source": [
    "#### Ratatuja"
   ]
  },
  {
   "cell_type": "markdown",
   "id": "aedd5cbb",
   "metadata": {},
   "source": [
    "#### considerazioni\n",
    "- riguardo al padding per avere la corretta concatenazione: alla fine del Reduction block i vari branch devono essere concatenati, i.e. i layer vengono messi in successione lungo la terza dimensione. Per questo è necessario che abbiano tutti la stessa shape (che è facilmente fissata dal MaxPool). Il fattore determinante per ridurre la dimensione del layer è la stride: a stride n corrisponde una riduzione circa di un fattore n (al momento n=2). Una volta fissate la stride e la dimensione del kernel, per ottenere esattamente la shape desiderata è necessario scegliere accuratamente il padding. Pytorch supporta vari metodi per specificare il padding: \"same\", \"valid\" (no padding), int o tupla. Con stride=1 il padding per i vari lati è calcolato automaticamente in modo da ottenere in outout la stessa shape dell'input! Quindi ci è molto utile, però funziona solamente per stride=1. Con tupla si può specificare qual è il padding ma solo nelle due direzioni, i.e. NON SUPPPORTA PADDING ASIMMETRICO. In generale possiamo specificare per i singoli casi qual è il padding necessario, ma ciò non è esauriente. Nel caso in cui abbiamo stride>1, se è necessario padding asimmetrico, dobbiamo aggiungerlo manualmente probabilmente con un metodo di functional ad hoc...\n",
    "\n",
    "- nel right branch: i layer hanno kernel di dimensione crescente (FOV di dimensione crescente) per classificare features più estese man mano che si va più in profondità. Anche il numero delle feature maps cresce con la profondità.\\\n",
    "L'ultimo layer è quello che dimezza le dimensioni.\n",
    "\n",
    "- durante il training: 1. calcolare i label predetti per una batch 2. calcolare la loss per una batch 3. effettuare la backpropagation con loss.backward() per ottenere i gradienti della loss rispetto ai prametri della NN 4. ottimizzare i parametri con un ottimizzatore con opt.step(), che usa i gradienti calcolati al punto precedente."
   ]
  },
  {
   "cell_type": "markdown",
   "id": "8cbf02da",
   "metadata": {},
   "source": [
    "#### domande\n",
    "- perchè vi sono esattamente 3 layer nel right branch? Cambia significativamente se si modifica il numero?\n",
    "- come fa l'ottimizzatore a leggere i gradienti?"
   ]
  },
  {
   "cell_type": "markdown",
   "id": "0a21250c",
   "metadata": {},
   "source": [
    "#### TODO\n",
    "- eliminare ``cache file\" nella\n",
    "- provare a modificare l'ordine dei layers nell'ultimo branch per vedere se cambia? Forse inutile perchè perdo comprimerei l'informazione prima"
   ]
  },
  {
   "cell_type": "markdown",
   "id": "6d894acd",
   "metadata": {},
   "source": []
  }
 ],
 "metadata": {
  "kernelspec": {
   "display_name": "Python 3 (ipykernel)",
   "language": "python",
   "name": "python3"
  },
  "language_info": {
   "codemirror_mode": {
    "name": "ipython",
    "version": 3
   },
   "file_extension": ".py",
   "mimetype": "text/x-python",
   "name": "python",
   "nbconvert_exporter": "python",
   "pygments_lexer": "ipython3",
   "version": "3.10.13"
  }
 },
 "nbformat": 4,
 "nbformat_minor": 5
}
