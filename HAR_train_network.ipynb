{
 "cells": [
  {
   "cell_type": "code",
   "execution_count": 1,
   "id": "de59843b-8773-4307-951a-c76b4b6aa2e4",
   "metadata": {},
   "outputs": [
    {
     "data": {
      "text/plain": [
       "'\\n    Copyright (C) 2022 Francesca Meneghello\\n    contact: meneghello@dei.unipd.it\\n    This program is free software: you can redistribute it and/or modify\\n    it under the terms of the GNU General Public License as published by\\n    the Free Software Foundation, either version 3 of the License, or\\n    (at your option) any later version.\\n    This program is distributed in the hope that it will be useful,\\n    but WITHOUT ANY WARRANTY; without even the implied warranty of\\n    MERCHANTABILITY or FITNESS FOR A PARTICULAR PURPOSE.  See the\\n    GNU General Public License for more details.\\n    You should have received a copy of the GNU General Public License\\n    along with this program.  If not, see <https://www.gnu.org/licenses/>.\\n'"
      ]
     },
     "execution_count": 1,
     "metadata": {},
     "output_type": "execute_result"
    }
   ],
   "source": [
    "\"\"\"\n",
    "    Copyright (C) 2022 Francesca Meneghello\n",
    "    contact: meneghello@dei.unipd.it\n",
    "    This program is free software: you can redistribute it and/or modify\n",
    "    it under the terms of the GNU General Public License as published by\n",
    "    the Free Software Foundation, either version 3 of the License, or\n",
    "    (at your option) any later version.\n",
    "    This program is distributed in the hope that it will be useful,\n",
    "    but WITHOUT ANY WARRANTY; without even the implied warranty of\n",
    "    MERCHANTABILITY or FITNESS FOR A PARTICULAR PURPOSE.  See the\n",
    "    GNU General Public License for more details.\n",
    "    You should have received a copy of the GNU General Public License\n",
    "    along with this program.  If not, see <https://www.gnu.org/licenses/>.\n",
    "\"\"\""
   ]
  },
  {
   "cell_type": "code",
   "execution_count": 1,
   "id": "2cac8964-8444-4522-bff0-a9a855420fc9",
   "metadata": {},
   "outputs": [],
   "source": [
    "import torch as t\n",
    "import torch.nn as nn\n",
    "import torch.nn.functional as F\n",
    "from torch.utils.data import Dataset, DataLoader\n",
    "import numpy as np\n",
    "import pickle\n",
    "from sklearn.metrics import confusion_matrix\n",
    "import os\n",
    "from sklearn.metrics import precision_recall_fscore_support, accuracy_score\n",
    "import matplotlib.pyplot as plt\n",
    "\n",
    "from utilities import *\n",
    "from torch.nn import Module, Sequential, Conv2d, BatchNorm2d, ReLU, MaxPool2d, AvgPool2d, Linear, Dropout, CrossEntropyLoss\n",
    "from torch.optim import SGD, Adam\n",
    "from tqdm import tqdm"
   ]
  },
  {
   "cell_type": "code",
   "execution_count": 8,
   "id": "8e9d693e",
   "metadata": {},
   "outputs": [],
   "source": [
    "dir_init = './doppler_traces/' #Directory of data\n",
    "subdirs_init = 'S1a' #Subdirs for training\n",
    "feature_length_init = 100 #Length along the feature dimension (height)\n",
    "sample_length_init = 340 #Length along the time dimension (width)\n",
    "channels_init = 1 #Number of channels\n",
    "batch_size_init = 32 #Number of samples in a batch\n",
    "num_tot_init = 4 #Number of antenna * number of spatial streams\n",
    "name_base_init = 'single_ant' #Name base for the files\n",
    "activities_init = 'E,L,W,R,J' #Activities to be considered\n",
    "bandwidth_init = 80 #Bandwidth in [MHz] to select the subcarriers, can be 20, 40, 80 (default 80)\n",
    "sub_band_init = 1 #Sub_band idx in [1, 2, 3, 4] for 20 MHz, [1, 2] for 40 MHz (default 1)"
   ]
  },
  {
   "cell_type": "code",
   "execution_count": 9,
   "id": "3c91245a-f916-4f76-8529-79850130f7cb",
   "metadata": {},
   "outputs": [
    {
     "name": "stdout",
     "output_type": "stream",
     "text": [
      "cuda\n"
     ]
    }
   ],
   "source": [
    "device = \"cuda\" if torch.cuda.is_available() else \"cpu\"\n",
    "print(device)"
   ]
  },
  {
   "cell_type": "code",
   "execution_count": 4,
   "id": "50ef5a11",
   "metadata": {},
   "outputs": [
    {
     "data": {
      "text/plain": [
       "<torch._C.Generator at 0x1c6056875d0>"
      ]
     },
     "execution_count": 4,
     "metadata": {},
     "output_type": "execute_result"
    }
   ],
   "source": [
    "# Set seeds for reproducibility\n",
    "# fix this\n",
    "seed = 203\n",
    "torch.manual_seed(seed)"
   ]
  },
  {
   "cell_type": "markdown",
   "id": "d800e987",
   "metadata": {},
   "source": [
    "#### Create datasets for training, validation and test\n",
    "Generate the datasets using the ``create dataset single`` function which returns a DataLoader object"
   ]
  },
  {
   "cell_type": "code",
   "execution_count": 5,
   "id": "2aa315e0-c34d-40aa-960b-678d106d2b20",
   "metadata": {},
   "outputs": [],
   "source": [
    "bandwidth = bandwidth_init\n",
    "sub_band = sub_band_init\n",
    "doppler_transforms = DopplerTransformations(n_views=2)\n",
    "\n",
    "csi_act = activities_init\n",
    "activities = []\n",
    "for lab_act in csi_act.split(','):\n",
    "    activities.append(lab_act)\n",
    "activities = np.asarray(activities)\n",
    "\n",
    "name_base = name_base_init\n",
    "if os.path.exists(name_base + '_' + str(csi_act) + '_cache_train.data-00000-of-00001'):\n",
    "    os.remove(name_base + '_' + str(csi_act) + '_cache_train.data-00000-of-00001')\n",
    "    os.remove(name_base + '_' + str(csi_act) + '_cache_train.index')\n",
    "if os.path.exists(name_base + '_' + str(csi_act) + '_cache_val.data-00000-of-00001'):\n",
    "    os.remove(name_base + '_' + str(csi_act) + '_cache_val.data-00000-of-00001')\n",
    "    os.remove(name_base + '_' + str(csi_act) + '_cache_val.index')\n",
    "if os.path.exists(name_base + '_' + str(csi_act) + '_cache_train_test.data-00000-of-00001'):\n",
    "    os.remove(name_base + '_' + str(csi_act) + '_cache_train_test.data-00000-of-00001')\n",
    "    os.remove(name_base + '_' + str(csi_act) + '_cache_train_test.index')\n",
    "if os.path.exists(name_base + '_' + str(csi_act) + '_cache_test.data-00000-of-00001'):\n",
    "    os.remove(name_base + '_' + str(csi_act) + '_cache_test.data-00000-of-00001')\n",
    "    os.remove(name_base + '_' + str(csi_act) + '_cache_test.index')\n",
    "\n",
    "subdirs_training = subdirs_init  # string\n",
    "labels_train = []\n",
    "all_files_train = []\n",
    "labels_val = []\n",
    "all_files_val = []\n",
    "labels_test = []\n",
    "all_files_test = []\n",
    "sample_length = sample_length_init\n",
    "feature_length = feature_length_init\n",
    "channels = channels_init\n",
    "num_antennas = num_tot_init\n",
    "input_shape = (num_antennas, sample_length, feature_length, channels)\n",
    "input_network = (sample_length, feature_length, channels)\n",
    "batch_size = batch_size_init\n",
    "output_shape = activities.shape[0]\n",
    "labels_considered = np.arange(output_shape)\n",
    "activities = activities[labels_considered]\n",
    "\n",
    "suffix = '.txt'\n",
    "\n",
    "for sdir in subdirs_training.split(','):\n",
    "    exp_save_dir = dir_init + sdir + '/'\n",
    "    \n",
    "    dir_train = dir_init + sdir + '/train_antennas_' + str(csi_act) + '/'\n",
    "    name_labels = dir_init + sdir + '/labels_train_antennas_' + str(csi_act) + suffix\n",
    "    with open(name_labels, \"rb\") as fp:  # Unpickling\n",
    "        labels_train.extend(pickle.load(fp))\n",
    "    name_f = dir_init + sdir + '/files_train_antennas_' + str(csi_act) + suffix\n",
    "    with open(name_f, \"rb\") as fp:  # Unpickling\n",
    "        all_files_train.extend(pickle.load(fp))\n",
    "\n",
    "    dir_val = dir_init + sdir + '/val_antennas_' + str(csi_act) + '/'\n",
    "    name_labels = dir_init + sdir + '/labels_val_antennas_' + str(csi_act) + suffix\n",
    "    with open(name_labels, \"rb\") as fp:  # Unpickling\n",
    "        labels_val.extend(pickle.load(fp))\n",
    "    name_f = dir_init + sdir + '/files_val_antennas_' + str(csi_act) + suffix\n",
    "    with open(name_f, \"rb\") as fp:  # Unpickling\n",
    "        all_files_val.extend(pickle.load(fp))\n",
    "\n",
    "    dir_test = dir_init + sdir + '/test_antennas_' + str(csi_act) + '/'\n",
    "    name_labels = dir_init + sdir + '/labels_test_antennas_' + str(csi_act) + suffix\n",
    "    with open(name_labels, \"rb\") as fp:  # Unpickling\n",
    "        labels_test.extend(pickle.load(fp))\n",
    "    name_f = dir_init + sdir + '/files_test_antennas_' + str(csi_act) + suffix\n",
    "    with open(name_f, \"rb\") as fp:  # Unpickling\n",
    "        all_files_test.extend(pickle.load(fp))\n",
    "\n",
    "\n",
    "file_train_selected = [all_files_train[idx] for idx in range(len(labels_train)) if labels_train[idx] in\n",
    "                        labels_considered]\n",
    "labels_train_selected = [labels_train[idx] for idx in range(len(labels_train)) if labels_train[idx] in\n",
    "                            labels_considered]\n",
    "\n",
    "file_train_selected_expanded, labels_train_selected_expanded, stream_ant_train = \\\n",
    "    expand_antennas(file_train_selected, labels_train_selected, num_antennas)\n",
    "\n",
    "# create the batches\n",
    "name_cache = name_base + '_' + str(csi_act) + '_cache_train'\n",
    "dataset_csi_train = create_dataset_single(file_train_selected_expanded, labels_train_selected_expanded,\n",
    "                                            stream_ant_train, input_network, batch_size,\n",
    "                                            shuffle=True, transform=doppler_transforms)\n",
    "\n",
    "file_val_selected = [all_files_val[idx] for idx in range(len(labels_val)) if labels_val[idx] in\n",
    "                        labels_considered]\n",
    "labels_val_selected = [labels_val[idx] for idx in range(len(labels_val)) if labels_val[idx] in\n",
    "                        labels_considered]\n",
    "\n",
    "file_val_selected_expanded, labels_val_selected_expanded, stream_ant_val = \\\n",
    "    expand_antennas(file_val_selected, labels_val_selected, num_antennas)\n",
    "\n",
    "name_cache_val = name_base + '_' + str(csi_act) + '_cache_val'\n",
    "dataset_csi_val = create_dataset_single(file_val_selected_expanded, labels_val_selected_expanded,\n",
    "                                        stream_ant_val, input_network, batch_size,\n",
    "                                        shuffle=False, transform=doppler_transforms)\n",
    "\n",
    "file_test_selected = [all_files_test[idx] for idx in range(len(labels_test)) if labels_test[idx] in\n",
    "                        labels_considered]\n",
    "labels_test_selected = [labels_test[idx] for idx in range(len(labels_test)) if labels_test[idx] in\n",
    "                        labels_considered]\n",
    "\n",
    "file_test_selected_expanded, labels_test_selected_expanded, stream_ant_test = \\\n",
    "    expand_antennas(file_test_selected, labels_test_selected, num_antennas)\n",
    "\n",
    "name_cache_test = name_base + '_' + str(csi_act) + '_cache_test'\n",
    "dataset_csi_test = create_dataset_single(file_test_selected_expanded, labels_test_selected_expanded,\n",
    "                                            stream_ant_test, input_network, batch_size,\n",
    "                                            shuffle=False, transform=doppler_transforms)"
   ]
  },
  {
   "cell_type": "code",
   "execution_count": 6,
   "id": "4e073aab",
   "metadata": {},
   "outputs": [
    {
     "data": {
      "text/plain": [
       "7232"
      ]
     },
     "execution_count": 6,
     "metadata": {},
     "output_type": "execute_result"
    }
   ],
   "source": [
    "226*32"
   ]
  },
  {
   "cell_type": "markdown",
   "id": "74224e5c",
   "metadata": {},
   "source": [
    "#### Define the model"
   ]
  },
  {
   "cell_type": "code",
   "execution_count": null,
   "id": "27a60af2",
   "metadata": {},
   "outputs": [],
   "source": []
  },
  {
   "cell_type": "markdown",
   "id": "be54d2dd",
   "metadata": {},
   "source": [
    "``Conv2d_bn`` helper module"
   ]
  },
  {
   "cell_type": "code",
   "execution_count": 8,
   "id": "cb608ee9",
   "metadata": {},
   "outputs": [
    {
     "data": {
      "text/plain": [
       "'\\nclass Conv2d_bn(Module):\\n    def __init__(self, in_filters, out_filters, kernel_size, strides, padding):\\n        super().__init__()\\n        self.conv = nn.Conv2d(in_filters, out_filters, kernel_size=kernel_size, stride=strides, padding=padding)\\n        self.relu = nn.ReLU()\\n\\n    def _init_weights(self, module):\\n        if isinstance(module, torch.nn.Conv2d):\\n            torch.nn.init.xavier_uniform_(module.weight)\\n            if module.bias is not None:\\n                module.bias.data.zero_()\\n\\n    def forward(self, x):\\n        x = self.conv(x)\\n        return self.relu(x)\\n'"
      ]
     },
     "execution_count": 8,
     "metadata": {},
     "output_type": "execute_result"
    }
   ],
   "source": [
    "'''\n",
    "class Conv2d_bn(Module):\n",
    "    def __init__(self, in_filters, out_filters, kernel_size, strides, padding):\n",
    "        super().__init__()\n",
    "        self.conv = nn.Conv2d(in_filters, out_filters, kernel_size=kernel_size, stride=strides, padding=padding)\n",
    "        self.relu = nn.ReLU()\n",
    "\n",
    "    def _init_weights(self, module):\n",
    "        if isinstance(module, torch.nn.Conv2d):\n",
    "            torch.nn.init.xavier_uniform_(module.weight)\n",
    "            if module.bias is not None:\n",
    "                module.bias.data.zero_()\n",
    "\n",
    "    def forward(self, x):\n",
    "        x = self.conv(x)\n",
    "        return self.relu(x)\n",
    "'''"
   ]
  },
  {
   "cell_type": "code",
   "execution_count": 9,
   "id": "ad42840d",
   "metadata": {},
   "outputs": [
    {
     "data": {
      "text/plain": [
       "\"class Conv2d_bn(nn.Module):\\n    def init(self, in_filters, out_filters, kernel_size, strides=(1, 1), padding='same'):\\n        super(Conv2d_bn, self).init()\\n        \\n        # Calcola il padding asimmetrico necessario per 'same' padding\\n        if padding == 'same':\\n            if isinstance(kernel_size, tuple):\\n                padding_val = [(k - 1) // 2 for k in kernel_size]\\n                padding_extra = [(k - 1) % 2 for k in kernel_size]\\n            else:\\n                padding_val = (kernel_size - 1) // 2\\n                padding_extra = (kernel_size - 1) % 2\\n        else:\\n            padding_val = 0\\n            padding_extra = 0\\n\\n        self.conv = nn.Conv2d(in_filters, out_filters, kernel_size=kernel_size, stride=strides, padding=padding_val)\\n        self.relu = nn.ReLU()\\n        self.padding = padding_val\\n        self.padding_extra = padding_extra\\n\\n    def forward(self, x):\\n        if self.padding_extra != 0:\\n            x = F.pad(x, [0, self.padding_extra[1], 0, self.padding_extra[0]])\\n        x = self.conv(x)\\n        return self.relu(x)\\n    \""
      ]
     },
     "execution_count": 9,
     "metadata": {},
     "output_type": "execute_result"
    }
   ],
   "source": [
    "\"\"\"class Conv2d_bn(nn.Module):\n",
    "    def init(self, in_filters, out_filters, kernel_size, strides=(1, 1), padding='same'):\n",
    "        super(Conv2d_bn, self).init()\n",
    "        \n",
    "        # Calcola il padding asimmetrico necessario per 'same' padding\n",
    "        if padding == 'same':\n",
    "            if isinstance(kernel_size, tuple):\n",
    "                padding_val = [(k - 1) // 2 for k in kernel_size]\n",
    "                padding_extra = [(k - 1) % 2 for k in kernel_size]\n",
    "            else:\n",
    "                padding_val = (kernel_size - 1) // 2\n",
    "                padding_extra = (kernel_size - 1) % 2\n",
    "        else:\n",
    "            padding_val = 0\n",
    "            padding_extra = 0\n",
    "\n",
    "        self.conv = nn.Conv2d(in_filters, out_filters, kernel_size=kernel_size, stride=strides, padding=padding_val)\n",
    "        self.relu = nn.ReLU()\n",
    "        self.padding = padding_val\n",
    "        self.padding_extra = padding_extra\n",
    "\n",
    "    def forward(self, x):\n",
    "        if self.padding_extra != 0:\n",
    "            x = F.pad(x, [0, self.padding_extra[1], 0, self.padding_extra[0]])\n",
    "        x = self.conv(x)\n",
    "        return self.relu(x)\n",
    "    \"\"\""
   ]
  },
  {
   "cell_type": "code",
   "execution_count": 10,
   "id": "1ca57529",
   "metadata": {},
   "outputs": [],
   "source": [
    "import math as m\n",
    "\n",
    "class Conv2d_bn(nn.Module):\n",
    "    def __init__(self, in_filters, out_filters, kernel_size, in_dimension=(0,0), strides=(1, 1), padding='valid'):\n",
    "        super(Conv2d_bn, self).__init__()\n",
    "\n",
    "        if isinstance(kernel_size, tuple):\n",
    "            kernel_height, kernel_width = kernel_size\n",
    "        else:\n",
    "            kernel_height = kernel_width = kernel_size\n",
    "\n",
    "        if isinstance(strides, tuple):\n",
    "            stride_height, stride_width = strides\n",
    "        else:\n",
    "            stride_height = stride_width = strides\n",
    "\n",
    "        in_height, in_width = in_dimension\n",
    "\n",
    "        # Calcola il padding totale necessario per mantenere le dimensioni in uscita uguali a quelle in ingresso\n",
    "        if padding == 'same':\n",
    "            # Calcolo per altezza (height)\n",
    "            total_padding_height = (m.ceil(in_height/stride_height) - 1)*stride_height - in_height + kernel_height #kernel_height - stride_height\n",
    "            pad_top = total_padding_height // 2\n",
    "            pad_bottom = total_padding_height - pad_top\n",
    "            \n",
    "            # Calcolo per larghezza (width)\n",
    "            total_padding_width = (m.ceil(in_width/stride_width) - 1)*stride_width - in_width + kernel_width\n",
    "            pad_left = total_padding_width // 2\n",
    "            pad_right = total_padding_width - pad_left\n",
    "\n",
    "            self.padding = (pad_left, pad_right, pad_top, pad_bottom)\n",
    "        else:\n",
    "            self.padding = (0, 0, 0, 0)\n",
    "\n",
    "        self.conv = nn.Conv2d(in_filters, out_filters, kernel_size=kernel_size, stride=strides, padding=0)\n",
    "        self.relu = nn.ReLU()\n",
    "        self.apply(self._init_weights)\n",
    "\n",
    "    def _init_weights(self, module):\n",
    "            if isinstance(module, torch.nn.Linear):\n",
    "                torch.nn.init.xavier_uniform_(module.weight)\n",
    "                if module.bias is not None:\n",
    "                    module.bias.data.zero_()\n",
    "            if isinstance(module, torch.nn.Conv2d):\n",
    "                torch.nn.init.xavier_uniform_(module.weight)\n",
    "                if module.bias is not None:\n",
    "                    module.bias.data.zero_()\n",
    "\n",
    "    def forward(self, x):\n",
    "        # Applica il padding asimmetrico se necessario\n",
    "        if self.padding != (0, 0, 0, 0):\n",
    "            x = F.pad(x, self.padding)\n",
    "        x = self.conv(x)\n",
    "        return self.relu(x)\n"
   ]
  },
  {
   "cell_type": "markdown",
   "id": "ee1f64ca",
   "metadata": {},
   "source": [
    "``Reduction`` block"
   ]
  },
  {
   "cell_type": "code",
   "execution_count": 11,
   "id": "29fa00ea",
   "metadata": {},
   "outputs": [],
   "source": [
    "class Reduction(Module):\n",
    "\n",
    "    def __init__(self, in_filters):\n",
    "        super().__init__()\n",
    "        self.max_pool = MaxPool2d(kernel_size=2, stride=2, padding=0)\n",
    "        self.central_block = Conv2d_bn(in_filters=in_filters, out_filters=5, kernel_size=2, strides=2, padding=\"valid\")\n",
    "        self.right_block =  Sequential(\n",
    "            Conv2d_bn(in_filters=in_filters, in_dimension=(340,100), out_filters=3, kernel_size=1, strides=1, padding=\"same\"), \n",
    "            Conv2d_bn(in_filters=3, in_dimension=(340,100), out_filters=6, kernel_size=2, strides=1, padding=\"same\"),  \n",
    "            Conv2d_bn(in_filters=6, in_dimension=(340,100), out_filters=9, kernel_size=4, strides=2, padding=\"same\"), #for the mthe padding is same also here?!\n",
    "        )\n",
    "        self.apply(self._init_weights)\n",
    "\n",
    "    def _init_weights(self, module):\n",
    "        if isinstance(module, torch.nn.Linear):\n",
    "            torch.nn.init.xavier_uniform_(module.weight)\n",
    "            if module.bias is not None:\n",
    "                module.bias.data.zero_()\n",
    "        if isinstance(module, torch.nn.Conv2d):\n",
    "            torch.nn.init.xavier_uniform_(module.weight)\n",
    "            if module.bias is not None:\n",
    "                module.bias.data.zero_()\n",
    "\n",
    "    def forward(self, x):\n",
    "        x_1 = self.max_pool(x)\n",
    "        x_2 = self.central_block(x)\n",
    "        x_3 = self.right_block(x)\n",
    "        x = torch.cat([x_1, x_2, x_3], axis=1)\n",
    "        return x"
   ]
  },
  {
   "cell_type": "markdown",
   "id": "8b301c38",
   "metadata": {},
   "source": [
    "``Inception`` network"
   ]
  },
  {
   "cell_type": "code",
   "execution_count": 12,
   "id": "7618d320",
   "metadata": {},
   "outputs": [],
   "source": [
    "class Inception(Module):\n",
    "\n",
    "    def __init__(self):\n",
    "        super().__init__()\n",
    "        self.reduction = Reduction(1)\n",
    "        self.conv = Conv2d_bn(in_filters=15, in_dimension=(170,50), out_filters=3, kernel_size=1, strides=1, padding=\"same\") #padding?\n",
    "        self.drop = Dropout(0.2)\n",
    "        self.classification_layer = Linear(25500, 5) #170*50*3\n",
    "        self.apply(self._init_weights)\n",
    "\n",
    "    def forward(self, x):\n",
    "        x = self.reduction(x)\n",
    "        x = self.conv(x)\n",
    "        x = t.flatten(x, start_dim=1) # keep the batch dimension \n",
    "        #x = x.reshape(x.shape[0], -1, 1536).mean(axis=1)\n",
    "        x = self.drop(x)\n",
    "        y = self.classification_layer(x)\n",
    "        return y\n",
    "\n",
    "    def _init_weights(self, module):\n",
    "        if isinstance(module, torch.nn.Linear):\n",
    "            torch.nn.init.xavier_uniform_(module.weight)\n",
    "            if module.bias is not None:\n",
    "                module.bias.data.zero_()\n",
    "        if isinstance(module, torch.nn.Conv2d):\n",
    "            torch.nn.init.xavier_uniform_(module.weight)\n",
    "            if module.bias is not None:\n",
    "                module.bias.data.zero_()"
   ]
  },
  {
   "cell_type": "code",
   "execution_count": 9,
   "id": "b10b6dbc",
   "metadata": {},
   "outputs": [
    {
     "name": "stderr",
     "output_type": "stream",
     "text": [
      "  0%|          | 0/2188 [00:00<?, ?it/s]"
     ]
    },
    {
     "name": "stdout",
     "output_type": "stream",
     "text": [
      "Shape of batch_x: torch.Size([1, 1, 340, 100])\n",
      "tensor([[[[1.5404e-15, 1.5404e-15, 1.5404e-15,  ..., 1.5404e-15,\n",
      "           1.5404e-15, 1.5404e-15],\n",
      "          [1.5404e-15, 1.5404e-15, 1.5404e-15,  ..., 1.5404e-15,\n",
      "           1.5404e-15, 1.5404e-15],\n",
      "          [1.5404e-15, 1.5404e-15, 1.5404e-15,  ..., 1.5404e-15,\n",
      "           1.5404e-15, 1.5404e-15],\n",
      "          ...,\n",
      "          [1.5404e-15, 1.5404e-15, 1.5404e-15,  ..., 1.5404e-15,\n",
      "           1.5404e-15, 1.5404e-15],\n",
      "          [1.5404e-15, 1.5404e-15, 1.5404e-15,  ..., 1.5404e-15,\n",
      "           1.5404e-15, 1.5404e-15],\n",
      "          [1.5404e-15, 1.5404e-15, 1.5404e-15,  ..., 1.5404e-15,\n",
      "           1.5404e-15, 1.5404e-15]]]])\n",
      "tensor([[[ 1.5404e-15,  1.5404e-15,  1.5404e-15,  1.5404e-15,  1.5404e-15,\n",
      "           1.5404e-15,  1.5404e-15,  1.5404e-15,  1.5404e-15,  1.5404e-15,\n",
      "           1.5404e-15,  1.5404e-15,  1.5404e-15,  1.5404e-15,  1.5404e-15,\n",
      "           1.5404e-15,  1.5404e-15,  1.5404e-15,  1.5404e-15,  1.5404e-15,\n",
      "           1.5404e-15,  1.5404e-15,  1.5404e-15,  1.5404e-15,  1.5404e-15,\n",
      "           1.5404e-15,  1.5404e-15,  1.5404e-15,  1.5404e-15,  1.5404e-15,\n",
      "           1.5404e-15,  1.5404e-15,  1.5404e-15,  1.5404e-15,  1.5404e-15,\n",
      "           1.5404e-15,  1.5404e-15,  1.5404e-15,  1.5404e-15,  1.5404e-15,\n",
      "           1.5404e-15,  1.5404e-15,  1.5404e-15,  1.5404e-15,  1.5404e-15,\n",
      "          -9.6094e-07, -1.7544e-04, -2.1720e-04, -2.0153e-04, -1.2292e-04,\n",
      "           0.0000e+00,  1.3131e-04,  2.2510e-04,  2.4347e-04,  1.8311e-04,\n",
      "          -7.9420e-07,  1.5404e-15,  1.5404e-15,  1.5404e-15,  1.5404e-15,\n",
      "           1.5404e-15,  1.5404e-15,  1.5404e-15,  1.5404e-15,  1.5404e-15,\n",
      "           1.5404e-15,  1.5404e-15,  1.5404e-15,  1.5404e-15,  1.5404e-15,\n",
      "           1.5404e-15,  1.5404e-15,  1.5404e-15,  1.5404e-15,  1.5404e-15,\n",
      "           1.5404e-15,  1.5404e-15,  1.5404e-15,  1.5404e-15,  1.5404e-15,\n",
      "           1.5404e-15,  1.5404e-15,  1.5404e-15,  1.5404e-15,  1.5404e-15,\n",
      "           1.5404e-15,  1.5404e-15,  1.5404e-15,  1.5404e-15,  1.5404e-15,\n",
      "           1.5404e-15,  1.5404e-15,  1.5404e-15,  1.5404e-15,  1.5404e-15,\n",
      "           1.5404e-15,  1.5404e-15,  1.5404e-15,  1.5404e-15,  1.5404e-15]]])\n",
      "tensor([[[ 1.5404e-15,  1.5404e-15,  1.5404e-15,  1.5404e-15,  1.5404e-15,\n",
      "           1.5404e-15,  1.5404e-15,  1.5404e-15,  1.5404e-15,  1.5404e-15,\n",
      "           1.5404e-15,  1.5404e-15,  1.5404e-15,  1.5404e-15,  1.5404e-15,\n",
      "           1.5404e-15,  1.5404e-15,  1.5404e-15,  1.5404e-15,  1.5404e-15,\n",
      "           1.5404e-15,  1.5404e-15,  1.5404e-15,  1.5404e-15,  1.5404e-15,\n",
      "           1.5404e-15,  1.5404e-15,  1.5404e-15,  1.5404e-15,  1.5404e-15,\n",
      "           1.5404e-15,  1.5404e-15,  1.5404e-15,  1.5404e-15,  1.5404e-15,\n",
      "           1.5404e-15,  1.5404e-15,  1.5404e-15,  1.5404e-15,  1.5404e-15,\n",
      "           1.5404e-15,  1.5404e-15,  1.5404e-15,  1.5404e-15,  1.5404e-15,\n",
      "          -9.6094e-07, -2.0597e-04, -2.5650e-04, -2.4062e-04, -1.4842e-04,\n",
      "           0.0000e+00,  1.5994e-04,  2.7403e-04,  2.9725e-04,  2.2718e-04,\n",
      "          -7.9420e-07,  1.5404e-15,  1.5404e-15,  1.5404e-15,  1.5404e-15,\n",
      "           1.5404e-15,  1.5404e-15,  1.5404e-15,  1.5404e-15,  1.5404e-15,\n",
      "           1.5404e-15,  1.5404e-15,  1.5404e-15,  1.5404e-15,  1.5404e-15,\n",
      "           1.5404e-15,  1.5404e-15,  1.5404e-15,  1.5404e-15,  1.5404e-15,\n",
      "           1.5404e-15,  1.5404e-15,  1.5404e-15,  1.5404e-15,  1.5404e-15,\n",
      "           1.5404e-15,  1.5404e-15,  1.5404e-15,  1.5404e-15,  1.5404e-15,\n",
      "           1.5404e-15,  1.5404e-15,  1.5404e-15,  1.5404e-15,  1.5404e-15,\n",
      "           1.5404e-15,  1.5404e-15,  1.5404e-15,  1.5404e-15,  1.5404e-15,\n",
      "           1.5404e-15,  1.5404e-15,  1.5404e-15,  1.5404e-15,  1.5404e-15]]])\n"
     ]
    },
    {
     "name": "stderr",
     "output_type": "stream",
     "text": [
      "\n"
     ]
    }
   ],
   "source": [
    "iterator = tqdm(dataset_csi_test)\n",
    "for batch_x, batch_y in iterator:\n",
    "    if isinstance(batch_x, list):\n",
    "        # Se batch_x è una lista, stampa la shape dei tensori all'interno\n",
    "        for i, tensor in enumerate(batch_x):\n",
    "            print(f\"Shape of batch_x[{i}]:\", tensor.shape)\n",
    "            print(tensor[:,:,170,:])\n",
    "            print(tensor[:,:,171,:])\n",
    "            if i == 0:\n",
    "                tensor1 = tensor\n",
    "            if i == 1:\n",
    "                tensor2 = tensor\n",
    "    else:\n",
    "        # Se batch_x non è una lista, stampa direttamente la shape\n",
    "        print(\"Shape of batch_x:\", batch_x.shape)\n",
    "        print(batch_x)\n",
    "        print(batch_x[:,:,170,:])\n",
    "        print(batch_x[:,:,171,:])\n",
    "        tensor3 = batch_x\n",
    "    break"
   ]
  },
  {
   "cell_type": "code",
   "execution_count": 7,
   "id": "366c793d",
   "metadata": {},
   "outputs": [
    {
     "name": "stderr",
     "output_type": "stream",
     "text": [
      "  0%|          | 0/2188 [00:00<?, ?it/s]"
     ]
    },
    {
     "name": "stdout",
     "output_type": "stream",
     "text": [
      "Shape of batch_x[0]: torch.Size([1, 1, 340, 100])\n",
      "tensor([[[ 1.4363e-15,  1.4363e-15,  1.4363e-15,  1.4363e-15,  1.4363e-15,\n",
      "           1.4363e-15,  1.4363e-15,  1.4363e-15,  1.4363e-15,  1.4363e-15,\n",
      "           1.4363e-15,  1.4363e-15,  1.4363e-15,  1.4363e-15,  1.4363e-15,\n",
      "           1.4363e-15,  1.4363e-15,  1.4363e-15,  1.4363e-15,  1.4363e-15,\n",
      "           1.4363e-15,  1.4363e-15,  0.0000e+00,  0.0000e+00,  0.0000e+00,\n",
      "           1.4363e-15,  1.4363e-15,  1.4363e-15,  1.4363e-15,  1.4363e-15,\n",
      "           1.4363e-15,  1.4363e-15,  1.4363e-15,  1.4363e-15,  1.4363e-15,\n",
      "           1.4363e-15,  1.4363e-15,  1.4363e-15,  1.4363e-15,  1.4363e-15,\n",
      "           1.4363e-15,  1.4363e-15,  1.4363e-15,  1.4363e-15,  1.4363e-15,\n",
      "          -8.9597e-07, -1.6357e-04, -2.0251e-04, -1.8790e-04, -1.1461e-04,\n",
      "           0.0000e+00,  1.2243e-04,  2.0988e-04,  2.2701e-04,  1.7073e-04,\n",
      "          -7.4050e-07,  1.4363e-15,  1.4363e-15,  1.4363e-15,  1.4363e-15,\n",
      "           1.4363e-15,  1.4363e-15,  1.4363e-15,  1.4363e-15,  1.4363e-15,\n",
      "           1.4363e-15,  1.4363e-15,  1.4363e-15,  1.4363e-15,  1.4363e-15,\n",
      "           1.4363e-15,  1.4363e-15,  1.4363e-15,  1.4363e-15,  1.4363e-15,\n",
      "           1.4363e-15,  1.4363e-15,  1.4363e-15,  1.4363e-15,  1.4363e-15,\n",
      "           1.4363e-15,  1.4363e-15,  1.4363e-15,  1.4363e-15,  1.4363e-15,\n",
      "           1.4363e-15,  1.4363e-15,  1.4363e-15,  1.4363e-15,  1.4363e-15,\n",
      "           1.4363e-15,  1.4363e-15,  1.4363e-15,  1.4363e-15,  1.4363e-15,\n",
      "           1.4363e-15,  1.4363e-15,  1.4363e-15,  1.4363e-15,  1.4363e-15]]])\n",
      "tensor([[[ 1.4363e-15,  1.4363e-15,  1.4363e-15,  1.4363e-15,  1.4363e-15,\n",
      "           1.4363e-15,  1.4363e-15,  1.4363e-15,  1.4363e-15,  1.4363e-15,\n",
      "           1.4363e-15,  1.4363e-15,  1.4363e-15,  1.4363e-15,  1.4363e-15,\n",
      "           1.4363e-15,  1.4363e-15,  1.4363e-15,  1.4363e-15,  1.4363e-15,\n",
      "           1.4363e-15,  1.4363e-15,  0.0000e+00,  0.0000e+00,  0.0000e+00,\n",
      "           1.4363e-15,  1.4363e-15,  1.4363e-15,  1.4363e-15,  1.4363e-15,\n",
      "           1.4363e-15,  1.4363e-15,  1.4363e-15,  1.4363e-15,  1.4363e-15,\n",
      "           1.4363e-15,  1.4363e-15,  1.4363e-15,  1.4363e-15,  1.4363e-15,\n",
      "           1.4363e-15,  1.4363e-15,  1.4363e-15,  1.4363e-15,  1.4363e-15,\n",
      "          -8.9597e-07, -1.9204e-04, -2.3916e-04, -2.2435e-04, -1.3838e-04,\n",
      "           0.0000e+00,  1.4912e-04,  2.5550e-04,  2.7715e-04,  2.1182e-04,\n",
      "          -7.4050e-07,  1.4363e-15,  1.4363e-15,  1.4363e-15,  1.4363e-15,\n",
      "           1.4363e-15,  1.4363e-15,  1.4363e-15,  1.4363e-15,  1.4363e-15,\n",
      "           1.4363e-15,  1.4363e-15,  1.4363e-15,  1.4363e-15,  1.4363e-15,\n",
      "           1.4363e-15,  1.4363e-15,  1.4363e-15,  1.4363e-15,  1.4363e-15,\n",
      "           1.4363e-15,  1.4363e-15,  1.4363e-15,  1.4363e-15,  1.4363e-15,\n",
      "           1.4363e-15,  1.4363e-15,  1.4363e-15,  1.4363e-15,  1.4363e-15,\n",
      "           1.4363e-15,  1.4363e-15,  1.4363e-15,  1.4363e-15,  1.4363e-15,\n",
      "           1.4363e-15,  1.4363e-15,  1.4363e-15,  1.4363e-15,  1.4363e-15,\n",
      "           1.4363e-15,  1.4363e-15,  1.4363e-15,  1.4363e-15,  1.4363e-15]]])\n",
      "Shape of batch_x[1]: torch.Size([1, 1, 340, 100])\n",
      "tensor([[[ 1.2420e-15,  1.2420e-15,  1.2420e-15,  1.2420e-15,  1.2420e-15,\n",
      "           1.2420e-15,  1.2420e-15,  1.2420e-15,  1.2420e-15,  1.2420e-15,\n",
      "           1.2420e-15,  1.2420e-15,  1.2420e-15,  1.2420e-15,  1.2420e-15,\n",
      "           1.2420e-15,  1.2420e-15,  1.2420e-15,  1.2420e-15,  1.2420e-15,\n",
      "           1.2420e-15,  1.2420e-15,  1.2420e-15,  1.2420e-15,  1.2420e-15,\n",
      "           1.2420e-15,  1.2420e-15,  1.2420e-15,  1.2420e-15,  1.2420e-15,\n",
      "           1.2420e-15,  1.2420e-15,  1.2420e-15,  1.2420e-15,  1.2420e-15,\n",
      "           1.2420e-15,  1.2420e-15,  1.2420e-15,  1.2420e-15,  1.2420e-15,\n",
      "           1.2420e-15,  1.2420e-15,  1.2420e-15, -7.7480e-07, -1.4145e-04,\n",
      "          -1.7512e-04, -1.6249e-04, -9.9112e-05,  0.0000e+00,  1.0587e-04,\n",
      "           1.8149e-04,  1.9631e-04,  1.4764e-04, -6.4035e-07,  1.2420e-15,\n",
      "           1.2420e-15,  1.2420e-15,  1.2420e-15,  1.2420e-15,  1.2420e-15,\n",
      "           1.2420e-15,  1.2420e-15,  1.2420e-15,  1.2420e-15,  1.2420e-15,\n",
      "           1.2420e-15,  1.2420e-15,  1.2420e-15,  1.2420e-15,  1.2420e-15,\n",
      "           1.2420e-15,  1.2420e-15,  1.2420e-15,  1.2420e-15,  1.2420e-15,\n",
      "           1.2420e-15,  1.2420e-15,  1.2420e-15,  1.2420e-15,  1.2420e-15,\n",
      "           1.2420e-15,  1.2420e-15,  0.0000e+00,  0.0000e+00,  1.2420e-15,\n",
      "           1.2420e-15,  1.2420e-15,  1.2420e-15,  1.2420e-15,  1.2420e-15,\n",
      "           1.2420e-15,  1.2420e-15,  1.2420e-15,  1.2420e-15,  1.2420e-15,\n",
      "           1.2420e-15,  1.2420e-15,  1.2420e-15,  1.2420e-15,  1.2420e-15]]])\n",
      "tensor([[[ 1.2420e-15,  1.2420e-15,  1.2420e-15,  1.2420e-15,  1.2420e-15,\n",
      "           1.2420e-15,  1.2420e-15,  1.2420e-15,  1.2420e-15,  1.2420e-15,\n",
      "           1.2420e-15,  1.2420e-15,  1.2420e-15,  1.2420e-15,  1.2420e-15,\n",
      "           1.2420e-15,  1.2420e-15,  1.2420e-15,  1.2420e-15,  1.2420e-15,\n",
      "           1.2420e-15,  1.2420e-15,  1.2420e-15,  1.2420e-15,  1.2420e-15,\n",
      "           1.2420e-15,  1.2420e-15,  1.2420e-15,  1.2420e-15,  1.2420e-15,\n",
      "           1.2420e-15,  1.2420e-15,  1.2420e-15,  1.2420e-15,  1.2420e-15,\n",
      "           1.2420e-15,  1.2420e-15,  1.2420e-15,  1.2420e-15,  1.2420e-15,\n",
      "           1.2420e-15,  1.2420e-15,  1.2420e-15, -7.7480e-07, -1.6607e-04,\n",
      "          -2.0681e-04, -1.9401e-04, -1.1967e-04,  0.0000e+00,  1.2896e-04,\n",
      "           2.2095e-04,  2.3967e-04,  1.8317e-04, -6.4035e-07,  1.2420e-15,\n",
      "           1.2420e-15,  1.2420e-15,  1.2420e-15,  1.2420e-15,  1.2420e-15,\n",
      "           1.2420e-15,  1.2420e-15,  1.2420e-15,  1.2420e-15,  1.2420e-15,\n",
      "           1.2420e-15,  1.2420e-15,  1.2420e-15,  1.2420e-15,  1.2420e-15,\n",
      "           1.2420e-15,  1.2420e-15,  1.2420e-15,  1.2420e-15,  1.2420e-15,\n",
      "           1.2420e-15,  1.2420e-15,  1.2420e-15,  1.2420e-15,  1.2420e-15,\n",
      "           1.2420e-15,  1.2420e-15,  0.0000e+00,  0.0000e+00,  1.2420e-15,\n",
      "           1.2420e-15,  1.2420e-15,  1.2420e-15,  1.2420e-15,  1.2420e-15,\n",
      "           1.2420e-15,  1.2420e-15,  1.2420e-15,  1.2420e-15,  1.2420e-15,\n",
      "           1.2420e-15,  1.2420e-15,  1.2420e-15,  1.2420e-15,  1.2420e-15]]])\n"
     ]
    },
    {
     "name": "stderr",
     "output_type": "stream",
     "text": [
      "\n"
     ]
    }
   ],
   "source": [
    "iterator = tqdm(dataset_csi_test)\n",
    "for batch_x, batch_y in iterator:\n",
    "    if isinstance(batch_x, list):\n",
    "        # Se batch_x è una lista, stampa la shape dei tensori all'interno\n",
    "        for i, tensor in enumerate(batch_x):\n",
    "            print(f\"Shape of batch_x[{i}]:\", tensor.shape)\n",
    "            print(tensor[:,:,170,:])\n",
    "            print(tensor[:,:,171,:])\n",
    "            if i == 0:\n",
    "                tensor1 = tensor\n",
    "            if i == 1:\n",
    "                tensor2 = tensor\n",
    "    else:\n",
    "        # Se batch_x non è una lista, stampa direttamente la shape\n",
    "        print(\"Shape of batch_x:\", batch_x.shape)\n",
    "        print(batch_x)\n",
    "        tensor3 = batch_x\n",
    "    break"
   ]
  },
  {
   "cell_type": "markdown",
   "id": "5dd81670",
   "metadata": {},
   "source": [
    "#### Model training"
   ]
  },
  {
   "cell_type": "code",
   "execution_count": 13,
   "id": "afeadf78",
   "metadata": {},
   "outputs": [
    {
     "name": "stdout",
     "output_type": "stream",
     "text": [
      "Epoch: 1\n"
     ]
    },
    {
     "name": "stderr",
     "output_type": "stream",
     "text": [
      "Train loss: 1.2351579666137695: 100%|██████████| 226/226 [00:09<00:00, 23.45it/s]\n",
      "100%|██████████| 70/70 [00:01<00:00, 38.78it/s]\n"
     ]
    },
    {
     "name": "stdout",
     "output_type": "stream",
     "text": [
      "loss: 1.202876329421997, accuracy: 0.6176207661628723\n",
      "Saved Model\n",
      "Epoch: 2\n"
     ]
    },
    {
     "name": "stderr",
     "output_type": "stream",
     "text": [
      "Train loss: 0.7453600168228149: 100%|██████████| 226/226 [00:08<00:00, 27.52it/s]\n",
      "100%|██████████| 70/70 [00:01<00:00, 56.47it/s]\n"
     ]
    },
    {
     "name": "stdout",
     "output_type": "stream",
     "text": [
      "loss: 0.7802842855453491, accuracy: 0.7146690487861633\n",
      "Saved Model\n",
      "Epoch: 3\n"
     ]
    },
    {
     "name": "stderr",
     "output_type": "stream",
     "text": [
      "Train loss: 0.28494614362716675: 100%|██████████| 226/226 [00:10<00:00, 22.17it/s]\n",
      "100%|██████████| 70/70 [00:01<00:00, 42.53it/s]\n"
     ]
    },
    {
     "name": "stdout",
     "output_type": "stream",
     "text": [
      "loss: 0.41934582591056824, accuracy: 0.8640429377555847\n",
      "Saved Model\n",
      "Epoch: 4\n"
     ]
    },
    {
     "name": "stderr",
     "output_type": "stream",
     "text": [
      "Train loss: 0.22657375037670135: 100%|██████████| 226/226 [00:10<00:00, 21.22it/s]\n",
      "100%|██████████| 70/70 [00:01<00:00, 41.68it/s]\n"
     ]
    },
    {
     "name": "stdout",
     "output_type": "stream",
     "text": [
      "loss: 0.2693674564361572, accuracy: 0.9199463129043579\n",
      "Saved Model\n",
      "Epoch: 5\n"
     ]
    },
    {
     "name": "stderr",
     "output_type": "stream",
     "text": [
      "Train loss: 0.12722088396549225: 100%|██████████| 226/226 [00:10<00:00, 20.95it/s]\n",
      "100%|██████████| 70/70 [00:01<00:00, 41.21it/s]\n"
     ]
    },
    {
     "name": "stdout",
     "output_type": "stream",
     "text": [
      "loss: 0.18557457625865936, accuracy: 0.9825581312179565\n",
      "Saved Model\n",
      "Epoch: 6\n"
     ]
    },
    {
     "name": "stderr",
     "output_type": "stream",
     "text": [
      "Train loss: 0.2004801481962204: 100%|██████████| 226/226 [00:09<00:00, 22.99it/s] \n",
      "100%|██████████| 70/70 [00:01<00:00, 58.90it/s]\n"
     ]
    },
    {
     "name": "stdout",
     "output_type": "stream",
     "text": [
      "loss: 0.14345479011535645, accuracy: 0.9856886863708496\n",
      "Saved Model\n",
      "Epoch: 7\n"
     ]
    },
    {
     "name": "stderr",
     "output_type": "stream",
     "text": [
      "Train loss: 0.07361797988414764: 100%|██████████| 226/226 [00:07<00:00, 29.17it/s] \n",
      "100%|██████████| 70/70 [00:01<00:00, 57.23it/s]\n"
     ]
    },
    {
     "name": "stdout",
     "output_type": "stream",
     "text": [
      "loss: 0.0980440303683281, accuracy: 0.9928443431854248\n",
      "Saved Model\n",
      "Epoch: 8\n"
     ]
    },
    {
     "name": "stderr",
     "output_type": "stream",
     "text": [
      "Train loss: 0.0564667284488678: 100%|██████████| 226/226 [00:07<00:00, 29.10it/s]  \n",
      "100%|██████████| 70/70 [00:01<00:00, 56.96it/s]\n"
     ]
    },
    {
     "name": "stdout",
     "output_type": "stream",
     "text": [
      "loss: 0.07465697079896927, accuracy: 0.9950804710388184\n",
      "Saved Model\n",
      "Epoch: 9\n"
     ]
    },
    {
     "name": "stderr",
     "output_type": "stream",
     "text": [
      "Train loss: 0.06118456646800041: 100%|██████████| 226/226 [00:07<00:00, 29.24it/s] \n",
      "100%|██████████| 70/70 [00:01<00:00, 60.44it/s]\n"
     ]
    },
    {
     "name": "stdout",
     "output_type": "stream",
     "text": [
      "loss: 0.05649654194712639, accuracy: 0.9968693852424622\n",
      "Saved Model\n",
      "Epoch: 10\n"
     ]
    },
    {
     "name": "stderr",
     "output_type": "stream",
     "text": [
      "Train loss: 0.04290563985705376: 100%|██████████| 226/226 [00:07<00:00, 29.12it/s] \n",
      "100%|██████████| 70/70 [00:01<00:00, 60.02it/s]\n"
     ]
    },
    {
     "name": "stdout",
     "output_type": "stream",
     "text": [
      "loss: 0.044265057891607285, accuracy: 0.9964221715927124\n",
      "Saved Model\n",
      "Epoch: 11\n"
     ]
    },
    {
     "name": "stderr",
     "output_type": "stream",
     "text": [
      "Train loss: 0.04210592061281204: 100%|██████████| 226/226 [00:07<00:00, 29.02it/s] \n",
      "100%|██████████| 70/70 [00:01<00:00, 61.55it/s]\n"
     ]
    },
    {
     "name": "stdout",
     "output_type": "stream",
     "text": [
      "loss: 0.03477732464671135, accuracy: 0.9964221715927124\n",
      "Saved Model\n",
      "Epoch: 12\n"
     ]
    },
    {
     "name": "stderr",
     "output_type": "stream",
     "text": [
      "Train loss: 0.04417026787996292: 100%|██████████| 226/226 [00:08<00:00, 26.60it/s] \n",
      "100%|██████████| 70/70 [00:01<00:00, 40.98it/s]\n"
     ]
    },
    {
     "name": "stdout",
     "output_type": "stream",
     "text": [
      "loss: 0.03267744928598404, accuracy: 0.9941860437393188\n",
      "Saved Model\n",
      "Epoch: 13\n"
     ]
    },
    {
     "name": "stderr",
     "output_type": "stream",
     "text": [
      "Train loss: 0.010698376223444939: 100%|██████████| 226/226 [00:10<00:00, 21.77it/s]\n",
      "100%|██████████| 70/70 [00:01<00:00, 41.53it/s]\n"
     ]
    },
    {
     "name": "stdout",
     "output_type": "stream",
     "text": [
      "loss: 0.029195059090852737, accuracy: 0.9968693852424622\n",
      "Saved Model\n",
      "Epoch: 14\n"
     ]
    },
    {
     "name": "stderr",
     "output_type": "stream",
     "text": [
      "Train loss: 0.014094121754169464: 100%|██████████| 226/226 [00:11<00:00, 20.48it/s] \n",
      "100%|██████████| 70/70 [00:02<00:00, 34.59it/s]\n"
     ]
    },
    {
     "name": "stdout",
     "output_type": "stream",
     "text": [
      "loss: 0.023868506774306297, accuracy: 0.9964221715927124\n",
      "Saved Model\n",
      "Epoch: 15\n"
     ]
    },
    {
     "name": "stderr",
     "output_type": "stream",
     "text": [
      "Train loss: 0.009060243144631386: 100%|██████████| 226/226 [00:08<00:00, 25.98it/s] \n",
      "100%|██████████| 70/70 [00:01<00:00, 55.85it/s]\n"
     ]
    },
    {
     "name": "stdout",
     "output_type": "stream",
     "text": [
      "loss: 0.014816714450716972, accuracy: 0.9991055130958557\n",
      "Saved Model\n",
      "Epoch: 16\n"
     ]
    },
    {
     "name": "stderr",
     "output_type": "stream",
     "text": [
      "Train loss: 0.003085213713347912: 100%|██████████| 226/226 [00:07<00:00, 28.30it/s] \n",
      "100%|██████████| 70/70 [00:01<00:00, 61.54it/s]\n"
     ]
    },
    {
     "name": "stdout",
     "output_type": "stream",
     "text": [
      "loss: 0.013111994601786137, accuracy: 0.9977638721466064\n",
      "Saved Model\n",
      "Epoch: 17\n"
     ]
    },
    {
     "name": "stderr",
     "output_type": "stream",
     "text": [
      "Train loss: 0.026120778173208237: 100%|██████████| 226/226 [00:07<00:00, 28.99it/s] \n",
      "100%|██████████| 70/70 [00:01<00:00, 59.29it/s]\n"
     ]
    },
    {
     "name": "stdout",
     "output_type": "stream",
     "text": [
      "loss: 0.012516473419964314, accuracy: 0.9959749579429626\n",
      "Saved Model\n",
      "Epoch: 18\n"
     ]
    },
    {
     "name": "stderr",
     "output_type": "stream",
     "text": [
      "Train loss: 0.002274040598422289: 100%|██████████| 226/226 [00:07<00:00, 28.94it/s] \n",
      "100%|██████████| 70/70 [00:01<00:00, 60.42it/s]\n"
     ]
    },
    {
     "name": "stdout",
     "output_type": "stream",
     "text": [
      "loss: 0.011598547920584679, accuracy: 0.9964221715927124\n",
      "Saved Model\n",
      "Epoch: 19\n"
     ]
    },
    {
     "name": "stderr",
     "output_type": "stream",
     "text": [
      "Train loss: 0.006567371543496847: 100%|██████████| 226/226 [00:07<00:00, 29.14it/s] \n",
      "100%|██████████| 70/70 [00:01<00:00, 55.89it/s]\n"
     ]
    },
    {
     "name": "stdout",
     "output_type": "stream",
     "text": [
      "loss: 0.00923033058643341, accuracy: 0.9995527267456055\n",
      "Saved Model\n",
      "Epoch: 20\n"
     ]
    },
    {
     "name": "stderr",
     "output_type": "stream",
     "text": [
      "Train loss: 0.0036568832583725452: 100%|██████████| 226/226 [00:07<00:00, 28.89it/s]\n",
      "100%|██████████| 70/70 [00:01<00:00, 59.00it/s]\n"
     ]
    },
    {
     "name": "stdout",
     "output_type": "stream",
     "text": [
      "loss: 0.008185544982552528, accuracy: 0.9991055130958557\n",
      "Saved Model\n",
      "Epoch: 21\n"
     ]
    },
    {
     "name": "stderr",
     "output_type": "stream",
     "text": [
      "Train loss: 0.003820768790319562: 100%|██████████| 226/226 [00:07<00:00, 28.30it/s] \n",
      "100%|██████████| 70/70 [00:01<00:00, 59.64it/s]\n"
     ]
    },
    {
     "name": "stdout",
     "output_type": "stream",
     "text": [
      "loss: 0.007460461929440498, accuracy: 0.9982110857963562\n",
      "Saved Model\n",
      "Epoch: 22\n"
     ]
    },
    {
     "name": "stderr",
     "output_type": "stream",
     "text": [
      "Train loss: 0.0027452767826616764: 100%|██████████| 226/226 [00:07<00:00, 29.76it/s]\n",
      "100%|██████████| 70/70 [00:01<00:00, 60.93it/s]\n"
     ]
    },
    {
     "name": "stdout",
     "output_type": "stream",
     "text": [
      "loss: 0.006994988769292831, accuracy: 0.998658299446106\n",
      "Saved Model\n",
      "Epoch: 23\n"
     ]
    },
    {
     "name": "stderr",
     "output_type": "stream",
     "text": [
      "Train loss: 0.0007572909235022962: 100%|██████████| 226/226 [00:07<00:00, 29.63it/s]\n",
      "100%|██████████| 70/70 [00:01<00:00, 61.78it/s]\n"
     ]
    },
    {
     "name": "stdout",
     "output_type": "stream",
     "text": [
      "loss: 0.005872204899787903, accuracy: 0.9995527267456055\n",
      "Saved Model\n",
      "Epoch: 24\n"
     ]
    },
    {
     "name": "stderr",
     "output_type": "stream",
     "text": [
      "Train loss: 0.002390927402302623: 100%|██████████| 226/226 [00:07<00:00, 29.67it/s]  \n",
      "100%|██████████| 70/70 [00:01<00:00, 59.28it/s]\n"
     ]
    },
    {
     "name": "stdout",
     "output_type": "stream",
     "text": [
      "loss: 0.007081194780766964, accuracy: 0.9977638721466064\n",
      "Epoch: 25\n"
     ]
    },
    {
     "name": "stderr",
     "output_type": "stream",
     "text": [
      "Train loss: 0.001190684735774994: 100%|██████████| 226/226 [00:07<00:00, 29.17it/s]  \n",
      "100%|██████████| 70/70 [00:01<00:00, 58.84it/s]\n"
     ]
    },
    {
     "name": "stdout",
     "output_type": "stream",
     "text": [
      "loss: 0.005784767214208841, accuracy: 0.9991055130958557\n",
      "Saved Model\n"
     ]
    }
   ],
   "source": [
    "model = Inception()\n",
    "opt = Adam(model.parameters(), lr=0.0001)\n",
    "loss_fn = CrossEntropyLoss() # by default reduction=\"mean\" i.e. the output is a scalar\n",
    "#device = \"cuda\" if torch.cuda.is_available() else \"cpu\"\n",
    "model.to(device)\n",
    "\n",
    "epochs=25\n",
    "best_val = np.inf\n",
    "train_error = []\n",
    "validation_error = []\n",
    "for epoch in range(epochs):\n",
    "    train_loss = []\n",
    "    model.train()\n",
    "    print(f\"Epoch: {epoch+1}\")\n",
    "    iterator = tqdm(dataset_csi_train) # iterate over the batches\n",
    "    for batch_x, batch_y in iterator:\n",
    "        batch_x = batch_x.to(device) # batch with the inputs\n",
    "        batch_y = batch_y.to(device) # batch with the labels\n",
    "        batch_y = t.squeeze(batch_y, dim=1)\n",
    "\n",
    "        y_pred = model(batch_x) \n",
    "\n",
    "        loss = loss_fn(y_pred, batch_y)\n",
    " \n",
    "        opt.zero_grad() \n",
    "        loss.backward() #how is it bound to the model?\n",
    "        opt.step()\n",
    "        train_loss.append(loss.detach().cpu().numpy())\n",
    "        iterator.set_description(f\"Train loss: {loss.detach().cpu().numpy()}\")\n",
    "    train_error.append(np.mean(train_loss))\n",
    "\n",
    "    # validation\n",
    "    model.eval() # what does this change?\n",
    "    with torch.no_grad():\n",
    "        predictions = []\n",
    "        true = []\n",
    "        for batch_x, batch_y in tqdm(dataset_csi_val):\n",
    "            batch_x = batch_x.to(device)\n",
    "            batch_y = batch_y.to(device)\n",
    "            batch_y = t.squeeze(batch_y, dim=1)\n",
    "\n",
    "            y_pred = model(batch_x)\n",
    "\n",
    "            predictions.append(y_pred)\n",
    "            true.append(batch_y)\n",
    "        predictions = torch.cat(predictions, axis=0) # concatenate the predictions for all batches\n",
    "        true = torch.cat(true, axis=0)\n",
    "        val_loss = loss_fn(predictions, true)\n",
    "        validation_error.append(val_loss.detach().cpu().numpy())\n",
    "\n",
    "        val_acc = (torch.softmax(predictions, dim=1).argmax(dim=1) == true).float().mean()\n",
    "        ###REMEMBER TO ADD CONFUSION MATRIX, KEEPING IN MIND TO PASS FROM CUDA TO CPU\n",
    "        #conf_matrix_val = confusion_matrix(true, torch.softmax(predictions, dim=1).argmax(dim=1))\n",
    "        #if true in argsort[:N] per top-N score?\n",
    "        print(f\"loss: {val_loss}, accuracy: {val_acc}\")\n",
    "\n",
    "    if val_loss < best_val:\n",
    "        print(\"Saved Model\")\n",
    "        torch.save(model.state_dict(), \"model.pt\")\n",
    "        best_val = val_loss"
   ]
  },
  {
   "cell_type": "code",
   "execution_count": 14,
   "id": "2e4ba5cd",
   "metadata": {},
   "outputs": [
    {
     "data": {
      "image/png": "[encoded data removed]",
      "text/plain": [
       "<Figure size 1000x1000 with 1 Axes>"
      ]
     },
     "metadata": {},
     "output_type": "display_data"
    }
   ],
   "source": [
    "plt.figure(figsize=(10,10))\n",
    "plt.plot(train_error, label=\"Train loss\")\n",
    "plt.plot(validation_error, label=\"Validation loss\")\n",
    "plt.legend()\n",
    "plt.show()"
   ]
  },
  {
   "cell_type": "markdown",
   "id": "9eea8fec",
   "metadata": {},
   "source": [
    "Now we proceed with the test of our trained model"
   ]
  },
  {
   "cell_type": "code",
   "execution_count": 15,
   "id": "3a23ffa3",
   "metadata": {},
   "outputs": [
    {
     "name": "stderr",
     "output_type": "stream",
     "text": [
      "100%|██████████| 69/69 [00:01<00:00, 40.38it/s]"
     ]
    },
    {
     "name": "stdout",
     "output_type": "stream",
     "text": [
      "loss: 0.00984679814428091, accuracy: 0.9977148080438757\n",
      "torch.Size([2188, 5])\n"
     ]
    },
    {
     "name": "stderr",
     "output_type": "stream",
     "text": [
      "\n"
     ]
    }
   ],
   "source": [
    "model.eval() # what does this change?\n",
    "with torch.no_grad():\n",
    "    predictions = []\n",
    "    true = []\n",
    "    for batch_x, batch_y in tqdm(dataset_csi_test):\n",
    "        batch_x = batch_x.to(device)\n",
    "        batch_y = batch_y.to(device)\n",
    "        batch_y = t.squeeze(batch_y, dim=1)\n",
    "\n",
    "        y_pred = model(batch_x)\n",
    "\n",
    "        predictions.append(y_pred)\n",
    "        true.append(batch_y)\n",
    "    predictions = torch.cat(predictions, axis=0) # concatenate the predictions for all batches\n",
    "    true = torch.cat(true, axis=0)\n",
    "    test_loss = loss_fn(predictions, true)\n",
    "    true = true.detach().cpu()\n",
    "    test_prediction_list = torch.softmax(predictions, dim=1).detach().cpu()\n",
    "    test_labels_pred = test_prediction_list.argmax(dim=1)\n",
    "    test_acc = (test_labels_pred == true).float().mean()\n",
    "    conf_matrix = confusion_matrix(true, test_labels_pred)\n",
    "    precision, recall, fscore, _ = precision_recall_fscore_support(true,\n",
    "                                                                   test_labels_pred,\n",
    "                                                                   labels=labels_considered)\n",
    "    accuracy = accuracy_score(true, test_labels_pred)\n",
    "    #if true in argsort[:N] per top-N score?\n",
    "    #print(f\"loss: {test_loss}, accuracy: {test_acc}\")\n",
    "    print(f\"loss: {test_loss}, accuracy: {accuracy}\")\n",
    "    print(test_prediction_list.shape)"
   ]
  },
  {
   "cell_type": "code",
   "execution_count": 16,
   "id": "7ae1546f",
   "metadata": {},
   "outputs": [
    {
     "name": "stdout",
     "output_type": "stream",
     "text": [
      "547\n"
     ]
    }
   ],
   "source": [
    "print(len(labels_test_selected))"
   ]
  },
  {
   "cell_type": "code",
   "execution_count": 17,
   "id": "4521a76b",
   "metadata": {},
   "outputs": [],
   "source": [
    "# merge antennas test\n",
    "labels_true_merge = np.array(labels_test_selected)\n",
    "pred_max_merge = np.zeros_like(labels_test_selected)\n",
    "for i_lab in range(len(labels_test_selected)):\n",
    "    pred_antennas = test_prediction_list[i_lab * num_antennas:(i_lab + 1) * num_antennas, :].numpy()\n",
    "    #print(pred_antennas.shape)\n",
    "    lab_merge_max = np.argmax(np.sum(pred_antennas, axis=0))\n",
    "    #print(np.sum(pred_antennas, axis=0).shape)\n",
    "\n",
    "    pred_max_antennas = test_labels_pred[i_lab * num_antennas:(i_lab + 1) * num_antennas]\n",
    "    lab_unique, count = np.unique(pred_max_antennas, return_counts=True)\n",
    "    lab_max_merge = -1\n",
    "    if lab_unique.shape[0] > 1:\n",
    "        count_argsort = np.flip(np.argsort(count))\n",
    "        count_sort = count[count_argsort]\n",
    "        lab_unique_sort = lab_unique[count_argsort]\n",
    "        if count_sort[0] == count_sort[1] or lab_unique.shape[0] > 2:  # ex aequo between two labels\n",
    "            lab_max_merge = lab_merge_max\n",
    "        else:\n",
    "            lab_max_merge = lab_unique_sort[0]\n",
    "    else:\n",
    "        lab_max_merge = lab_unique[0]\n",
    "    pred_max_merge[i_lab] = lab_max_merge\n",
    "\n",
    "conf_matrix_max_merge = confusion_matrix(labels_true_merge, pred_max_merge, labels=labels_considered)\n",
    "precision_max_merge, recall_max_merge, fscore_max_merge, _ = \\\n",
    "    precision_recall_fscore_support(labels_true_merge, pred_max_merge, labels=labels_considered)\n",
    "accuracy_max_merge = accuracy_score(labels_true_merge, pred_max_merge)\n",
    "\n",
    "metrics_matrix_dict = {'conf_matrix': conf_matrix,\n",
    "                        'accuracy_single': accuracy,\n",
    "                        'precision_single': precision,\n",
    "                        'recall_single': recall,\n",
    "                        'fscore_single': fscore,\n",
    "                        'conf_matrix_max_merge': conf_matrix_max_merge,\n",
    "                        'accuracy_max_merge': accuracy_max_merge,\n",
    "                        'precision_max_merge': precision_max_merge,\n",
    "                        'recall_max_merge': recall_max_merge,\n",
    "                        'fscore_max_merge': fscore_max_merge}\n",
    "\n",
    "name_file = './outputs/test_' + str(csi_act) + '_' + subdirs_training + '_band_' + str(bandwidth) + '_subband_' + \\\n",
    "            str(sub_band) + suffix\n",
    "with open(name_file, \"wb\") as fp:  # Pickling\n",
    "    pickle.dump(metrics_matrix_dict, fp)\n",
    "\n",
    "# impact of the number of antennas\n",
    "one_antenna = [[0], [1], [2], [3]]\n",
    "two_antennas = [[0, 1], [0, 2], [0, 3], [1, 2], [1, 3], [2, 3]]\n",
    "three_antennas = [[0, 1, 2], [0, 1, 3], [0, 2, 3], [1, 2, 3]]\n",
    "four_antennas = [[0, 1, 2, 3]]\n",
    "seq_ant_list = [one_antenna, two_antennas, three_antennas, four_antennas]\n",
    "average_accuracy_change_num_ant = np.zeros((num_antennas,))\n",
    "average_fscore_change_num_ant = np.zeros((num_antennas,))\n",
    "labels_true_merge = np.array(labels_test_selected)\n",
    "for ant_n in range(num_antennas):\n",
    "    seq_ant = seq_ant_list[ant_n]\n",
    "    num_seq = len(seq_ant)\n",
    "    for seq_n in range(num_seq):\n",
    "        pred_max_merge = np.zeros((len(labels_test_selected),))\n",
    "        ants_selected = seq_ant[seq_n]\n",
    "        for i_lab in range(len(labels_test_selected)):\n",
    "            pred_antennas = test_prediction_list[i_lab * num_antennas:(i_lab + 1) * num_antennas, :].numpy()\n",
    "            pred_antennas = pred_antennas[ants_selected, :]\n",
    "\n",
    "            lab_merge_max = np.argmax(np.sum(pred_antennas, axis=0))\n",
    "\n",
    "            pred_max_antennas = test_labels_pred[i_lab * num_antennas:(i_lab + 1) * num_antennas]\n",
    "            pred_max_antennas = pred_max_antennas[ants_selected]\n",
    "            lab_unique, count = np.unique(pred_max_antennas, return_counts=True)\n",
    "            lab_max_merge = -1\n",
    "            if lab_unique.shape[0] > 1:\n",
    "                count_argsort = np.flip(np.argsort(count))\n",
    "                count_sort = count[count_argsort]\n",
    "                lab_unique_sort = lab_unique[count_argsort]\n",
    "                if count_sort[0] == count_sort[1] or lab_unique.shape[0] > ant_n - 1:  # ex aequo between two labels\n",
    "                    lab_max_merge = lab_merge_max\n",
    "                else:\n",
    "                    lab_max_merge = lab_unique_sort[0]\n",
    "            else:\n",
    "                lab_max_merge = lab_unique[0]\n",
    "            pred_max_merge[i_lab] = lab_max_merge\n",
    "\n",
    "        _, _, fscore_max_merge, _ = precision_recall_fscore_support(labels_true_merge, pred_max_merge,\n",
    "                                                                    labels=[0, 1, 2, 3, 4])\n",
    "        accuracy_max_merge = accuracy_score(labels_true_merge, pred_max_merge)\n",
    "\n",
    "        average_accuracy_change_num_ant[ant_n] += accuracy_max_merge\n",
    "        average_fscore_change_num_ant[ant_n] += np.mean(fscore_max_merge)\n",
    "\n",
    "    average_accuracy_change_num_ant[ant_n] = average_accuracy_change_num_ant[ant_n] / num_seq\n",
    "    average_fscore_change_num_ant[ant_n] = average_fscore_change_num_ant[ant_n] / num_seq\n",
    "\n",
    "metrics_matrix_dict = {'average_accuracy_change_num_ant': average_accuracy_change_num_ant,\n",
    "                        'average_fscore_change_num_ant': average_fscore_change_num_ant}\n",
    "\n",
    "name_file = './outputs/change_number_antennas_test_' + str(csi_act) + '_' + subdirs_training + '_band_' + \\\n",
    "            str(bandwidth) + '_subband_' + str(sub_band) + '.txt'\n",
    "with open(name_file, \"wb\") as fp:  # Pickling\n",
    "    pickle.dump(metrics_matrix_dict, fp)\n"
   ]
  },
  {
   "cell_type": "code",
   "execution_count": null,
   "id": "fdcd9c55",
   "metadata": {},
   "outputs": [],
   "source": []
  },
  {
   "cell_type": "code",
   "execution_count": null,
   "id": "8d669940",
   "metadata": {},
   "outputs": [],
   "source": []
  },
  {
   "cell_type": "code",
   "execution_count": null,
   "id": "4231434e",
   "metadata": {},
   "outputs": [],
   "source": []
  },
  {
   "cell_type": "code",
   "execution_count": null,
   "id": "9c470c5e",
   "metadata": {},
   "outputs": [],
   "source": []
  },
  {
   "cell_type": "code",
   "execution_count": 18,
   "id": "dc5b78a3",
   "metadata": {},
   "outputs": [
    {
     "name": "stdout",
     "output_type": "stream",
     "text": [
      "target tensor: tensor([1, 4, 4])\n",
      "target tensor: tensor([[0.3890, 0.0231, 0.0857, 0.3876, 0.1146],\n",
      "        [0.6875, 0.0854, 0.0399, 0.1562, 0.0310],\n",
      "        [0.1715, 0.3163, 0.0605, 0.0836, 0.3681]])\n"
     ]
    }
   ],
   "source": [
    "# Example of target with class indices\n",
    "# non capisco come funzioni tbh\n",
    "loss = nn.CrossEntropyLoss()\n",
    "input = torch.randn(3, 5, requires_grad=True)\n",
    "target = torch.empty(3, dtype=torch.long).random_(5)\n",
    "print(\"target tensor:\", target)\n",
    "output = loss(input, target)\n",
    "output.backward()\n",
    "\n",
    "# Example of target with class probabilities\n",
    "input = torch.randn(3, 5, requires_grad=True)\n",
    "target = torch.randn(3, 5).softmax(dim=1)\n",
    "print(\"target tensor:\", target)\n",
    "output = loss(input, target)\n",
    "output.backward()"
   ]
  },
  {
   "cell_type": "markdown",
   "id": "0fa297d0",
   "metadata": {},
   "source": [
    "Now we proceed testing our model in the other sets, those not involved with the training part"
   ]
  },
  {
   "cell_type": "code",
   "execution_count": 19,
   "id": "a796256e",
   "metadata": {},
   "outputs": [],
   "source": [
    "subdirs_init = 'S2a' #Subdirs for testing our model"
   ]
  },
  {
   "cell_type": "code",
   "execution_count": 20,
   "id": "a06336f4",
   "metadata": {},
   "outputs": [
    {
     "name": "stderr",
     "output_type": "stream",
     "text": [
      "100%|██████████| 611/611 [00:16<00:00, 37.54it/s]\n"
     ]
    },
    {
     "name": "stdout",
     "output_type": "stream",
     "text": [
      "loss: 0.9732711911201477, accuracy: 0.9301801801801802\n",
      "torch.Size([19536, 5])\n",
      "(4884,) (4884,)\n",
      "accuracy 0.9725634725634725\n",
      "fscore [1.         1.         0.89432177 0.9581112  0.83507307]\n",
      "[[1663    0    0    0    0]\n",
      " [   0 1691    0    0    0]\n",
      " [   0    0  567   55    0]\n",
      " [   0    0    0  629    0]\n",
      " [   0    0   79    0  200]]\n"
     ]
    },
    {
     "name": "stderr",
     "output_type": "stream",
     "text": [
      "c:\\Users\\feder\\anaconda3\\envs\\nnml\\lib\\site-packages\\sklearn\\metrics\\_classification.py:1469: UndefinedMetricWarning: Precision and F-score are ill-defined and being set to 0.0 in labels with no predicted samples. Use `zero_division` parameter to control this behavior.\n",
      "  _warn_prf(average, modifier, msg_start, len(result))\n",
      "c:\\Users\\feder\\anaconda3\\envs\\nnml\\lib\\site-packages\\sklearn\\metrics\\_classification.py:1469: UndefinedMetricWarning: Precision and F-score are ill-defined and being set to 0.0 in labels with no predicted samples. Use `zero_division` parameter to control this behavior.\n",
      "  _warn_prf(average, modifier, msg_start, len(result))\n",
      "c:\\Users\\feder\\anaconda3\\envs\\nnml\\lib\\site-packages\\sklearn\\metrics\\_classification.py:1469: UndefinedMetricWarning: Precision and F-score are ill-defined and being set to 0.0 in labels with no predicted samples. Use `zero_division` parameter to control this behavior.\n",
      "  _warn_prf(average, modifier, msg_start, len(result))\n",
      "c:\\Users\\feder\\anaconda3\\envs\\nnml\\lib\\site-packages\\sklearn\\metrics\\_classification.py:1469: UndefinedMetricWarning: Precision and F-score are ill-defined and being set to 0.0 in labels with no predicted samples. Use `zero_division` parameter to control this behavior.\n",
      "  _warn_prf(average, modifier, msg_start, len(result))\n",
      "c:\\Users\\feder\\anaconda3\\envs\\nnml\\lib\\site-packages\\sklearn\\metrics\\_classification.py:1469: UndefinedMetricWarning: Precision and F-score are ill-defined and being set to 0.0 in labels with no predicted samples. Use `zero_division` parameter to control this behavior.\n",
      "  _warn_prf(average, modifier, msg_start, len(result))\n"
     ]
    }
   ],
   "source": [
    "csi_act = activities_init\n",
    "activities = []\n",
    "for lab_act in csi_act.split(','):\n",
    "    activities.append(lab_act)\n",
    "activities = np.asarray(activities)\n",
    "\n",
    "suffix = '.txt'\n",
    "\n",
    "name_base = name_base_init\n",
    "if os.path.exists(name_base + '_' + str(csi_act) + '_cache_complete.data-00000-of-00001'):\n",
    "    os.remove(name_base + '_' + str(csi_act) + '_cache_complete.data-00000-of-00001')\n",
    "    os.remove(name_base + '_' + str(csi_act) + '_cache_complete.index')\n",
    "\n",
    "subdirs_complete = subdirs_init  # string\n",
    "labels_complete = []\n",
    "all_files_complete = []\n",
    "sample_length = sample_length_init\n",
    "feature_length = feature_length_init\n",
    "channels = channels_init\n",
    "num_antennas = num_tot_init\n",
    "input_shape = (num_antennas, sample_length, feature_length, channels)\n",
    "input_network = (sample_length, feature_length, channels)\n",
    "batch_size = batch_size_init\n",
    "output_shape = activities.shape[0]\n",
    "labels_considered = np.arange(output_shape)\n",
    "activities = activities[labels_considered]\n",
    "\n",
    "for sdir in subdirs_complete.split(','):\n",
    "    exp_save_dir = dir_init + sdir + '/'\n",
    "    dir_complete = dir_init + sdir + '/complete_antennas_' + str(csi_act) + '/'\n",
    "    name_labels = dir_init + sdir + '/labels_complete_antennas_' + str(csi_act) + suffix\n",
    "    with open(name_labels, \"rb\") as fp:  # Unpickling\n",
    "        labels_complete.extend(pickle.load(fp))\n",
    "    name_f = dir_init + sdir + '/files_complete_antennas_' + str(csi_act) + suffix\n",
    "    with open(name_f, \"rb\") as fp:  # Unpickling\n",
    "        all_files_complete.extend(pickle.load(fp))\n",
    "\n",
    "file_complete_selected = [all_files_complete[idx] for idx in range(len(labels_complete)) if labels_complete[idx] in\n",
    "                            labels_considered]\n",
    "labels_complete_selected = [labels_complete[idx] for idx in range(len(labels_complete)) if labels_complete[idx] in\n",
    "                            labels_considered]\n",
    "\n",
    "file_complete_selected_expanded, labels_complete_selected_expanded, stream_ant_complete = \\\n",
    "    expand_antennas(file_complete_selected, labels_complete_selected, num_antennas)\n",
    "\n",
    "dataset_csi_complete = create_dataset_single(file_complete_selected_expanded, labels_complete_selected_expanded,\n",
    "                                                stream_ant_complete, input_network, batch_size, shuffle=False,\n",
    "                                                cache_file=name_base + '_' + str(csi_act) + '_cache_complete')\n",
    "\n",
    "\n",
    "model.eval() # what does this change?\n",
    "with torch.no_grad():\n",
    "    predictions = []\n",
    "    true = []\n",
    "    for batch_x, batch_y in tqdm(dataset_csi_complete):\n",
    "        batch_x = batch_x.to(device)\n",
    "        batch_y = batch_y.to(device)\n",
    "        batch_y = t.squeeze(batch_y, dim=1)\n",
    "\n",
    "        y_pred = model(batch_x)\n",
    "\n",
    "        predictions.append(y_pred)\n",
    "        true.append(batch_y)\n",
    "    predictions = torch.cat(predictions, axis=0) # concatenate the predictions for all batches\n",
    "    true = torch.cat(true, axis=0)\n",
    "    complete_loss = loss_fn(predictions, true)\n",
    "    true = true.detach().cpu()\n",
    "    complete_prediction_list = torch.softmax(predictions, dim=1).detach().cpu()\n",
    "    complete_labels_pred = complete_prediction_list.argmax(dim=1)\n",
    "    complete_acc = (complete_labels_pred == true).float().mean()\n",
    "    conf_matrix = confusion_matrix(true, complete_labels_pred)\n",
    "    precision, recall, fscore, _ = precision_recall_fscore_support(true,\n",
    "                                                                   complete_labels_pred,\n",
    "                                                                   labels=labels_considered)\n",
    "    accuracy = accuracy_score(true, complete_labels_pred)\n",
    "    #if true in argsort[:N] per top-N score?\n",
    "    #print(f\"loss: {test_loss}, accuracy: {test_acc}\")\n",
    "    print(f\"loss: {complete_loss}, accuracy: {accuracy}\")\n",
    "    print(complete_prediction_list.shape)\n",
    "\n",
    "\n",
    "# merge antennas\n",
    "labels_true_merge = np.array(labels_complete_selected)\n",
    "pred_max_merge = np.zeros_like(labels_complete_selected)\n",
    "for i_lab in range(len(labels_complete_selected)):\n",
    "    pred_antennas = complete_prediction_list[i_lab*num_antennas:(i_lab+1)*num_antennas, :].numpy()\n",
    "    sum_pred = np.sum(pred_antennas, axis=0)\n",
    "    lab_merge_max = np.argmax(sum_pred)\n",
    "\n",
    "    pred_max_antennas = complete_labels_pred[i_lab*num_antennas:(i_lab+1)*num_antennas]\n",
    "    lab_unique, count = np.unique(pred_max_antennas, return_counts=True)\n",
    "    lab_max_merge = -1\n",
    "    if lab_unique.shape[0] > 1:\n",
    "        count_argsort = np.flip(np.argsort(count))\n",
    "        count_sort = count[count_argsort]\n",
    "        lab_unique_sort = lab_unique[count_argsort]\n",
    "        if count_sort[0] == count_sort[1] or lab_unique.shape[0] > 2:  # ex aequo between two labels\n",
    "            lab_max_merge = lab_merge_max\n",
    "        else:\n",
    "            lab_max_merge = lab_unique_sort[0]\n",
    "    else:\n",
    "        lab_max_merge = lab_unique[0]\n",
    "    pred_max_merge[i_lab] = lab_max_merge\n",
    "\n",
    "print(labels_true_merge.shape, pred_max_merge.shape)\n",
    "\n",
    "conf_matrix_max_merge = confusion_matrix(labels_true_merge, pred_max_merge, labels=labels_considered)\n",
    "precision_max_merge, recall_max_merge, fscore_max_merge, _ = \\\n",
    "    precision_recall_fscore_support(labels_true_merge, pred_max_merge, labels=labels_considered)\n",
    "accuracy_max_merge = accuracy_score(labels_true_merge, pred_max_merge)\n",
    "\n",
    "metrics_matrix_dict = {'conf_matrix': conf_matrix,\n",
    "                        'accuracy_single': accuracy,\n",
    "                        'precision_single': precision,\n",
    "                        'recall_single': recall,\n",
    "                        'fscore_single': fscore,\n",
    "                        'conf_matrix_max_merge': conf_matrix_max_merge,\n",
    "                        'accuracy_max_merge': accuracy_max_merge,\n",
    "                        'precision_max_merge': precision_max_merge,\n",
    "                        'recall_max_merge': recall_max_merge,\n",
    "                        'fscore_max_merge': fscore_max_merge}\n",
    "\n",
    "name_file = './outputs/complete_different_' + str(csi_act) + '_' + subdirs_complete + '_band_' + str(bandwidth) \\\n",
    "            + '_subband_' + str(sub_band) + suffix\n",
    "with open(name_file, \"wb\") as fp:  # Pickling\n",
    "    pickle.dump(metrics_matrix_dict, fp)\n",
    "print('accuracy', accuracy_max_merge)\n",
    "print('fscore', fscore_max_merge)\n",
    "print(conf_matrix_max_merge)\n",
    "\n",
    "# impact of the number of antennas\n",
    "one_antenna = [[0], [1], [2], [3]]\n",
    "two_antennas = [[0, 1], [0, 2], [0, 3], [1, 2], [1, 3], [2, 3]]\n",
    "three_antennas = [[0, 1, 2], [0, 1, 3], [0, 2, 3], [1, 2, 3]]\n",
    "four_antennas = [[0, 1, 2, 3]]\n",
    "seq_ant_list = [one_antenna, two_antennas, three_antennas, four_antennas]\n",
    "average_accuracy_change_num_ant = np.zeros((num_antennas, ))\n",
    "average_fscore_change_num_ant = np.zeros((num_antennas, ))\n",
    "labels_true_merge = np.array(labels_complete_selected)\n",
    "for ant_n in range(num_antennas):\n",
    "    seq_ant = seq_ant_list[ant_n]\n",
    "    num_seq = len(seq_ant)\n",
    "    for seq_n in range(num_seq):\n",
    "        pred_max_merge = np.zeros((len(labels_complete_selected), ))\n",
    "        ants_selected = seq_ant[seq_n]\n",
    "        for i_lab in range(len(labels_complete_selected)):\n",
    "            pred_antennas = complete_prediction_list[i_lab * num_antennas:(i_lab + 1) * num_antennas, :].numpy()\n",
    "            pred_antennas = pred_antennas[ants_selected, :]\n",
    "\n",
    "            lab_merge_max = np.argmax(np.sum(pred_antennas, axis=0))\n",
    "\n",
    "            pred_max_antennas = complete_labels_pred[i_lab * num_antennas:(i_lab + 1) * num_antennas]\n",
    "            pred_max_antennas = pred_max_antennas[ants_selected]\n",
    "            lab_unique, count = np.unique(pred_max_antennas, return_counts=True)\n",
    "            lab_max_merge = -1\n",
    "            if lab_unique.shape[0] > 1:\n",
    "                count_argsort = np.flip(np.argsort(count))\n",
    "                count_sort = count[count_argsort]\n",
    "                lab_unique_sort = lab_unique[count_argsort]\n",
    "                if count_sort[0] == count_sort[1] or lab_unique.shape[0] > ant_n - 1:  # ex aequo between two labels\n",
    "                    lab_max_merge = lab_merge_max\n",
    "                else:\n",
    "                    lab_max_merge = lab_unique_sort[0]\n",
    "            else:\n",
    "                lab_max_merge = lab_unique[0]\n",
    "            pred_max_merge[i_lab] = lab_max_merge\n",
    "\n",
    "        _, _, fscore_max_merge, _ = precision_recall_fscore_support(labels_true_merge, pred_max_merge,\n",
    "                                                                    labels=[0, 1, 2, 3, 4])\n",
    "        accuracy_max_merge = accuracy_score(labels_true_merge, pred_max_merge)\n",
    "\n",
    "        average_accuracy_change_num_ant[ant_n] += accuracy_max_merge\n",
    "        average_fscore_change_num_ant[ant_n] += np.mean(fscore_max_merge)\n",
    "\n",
    "    average_accuracy_change_num_ant[ant_n] = average_accuracy_change_num_ant[ant_n] / num_seq\n",
    "    average_fscore_change_num_ant[ant_n] = average_fscore_change_num_ant[ant_n] / num_seq\n",
    "\n",
    "metrics_matrix_dict = {'average_accuracy_change_num_ant': average_accuracy_change_num_ant,\n",
    "                        'average_fscore_change_num_ant': average_fscore_change_num_ant}\n",
    "\n",
    "name_file = './outputs/change_number_antennas_complete_different_' + str(csi_act) + '_' + subdirs_complete + \\\n",
    "            '_band_' + str(bandwidth) + '_subband_' + str(sub_band) + '.txt'\n",
    "with open(name_file, \"wb\") as fp:  # Pickling\n",
    "    pickle.dump(metrics_matrix_dict, fp)\n"
   ]
  },
  {
   "cell_type": "markdown",
   "id": "89a5f11b",
   "metadata": {},
   "source": [
    "The following part, instead, just deal with the plot of statistic parameters, to evaluate our model."
   ]
  },
  {
   "cell_type": "code",
   "execution_count": 5,
   "id": "b647a8d1",
   "metadata": {},
   "outputs": [],
   "source": [
    "name_file_init = 'complete_different_E,L,W,R,J_S2a_band_80_subband_1'#Name of the file\n",
    "# The other input is activities_init\n"
   ]
  },
  {
   "cell_type": "code",
   "execution_count": 6,
   "id": "538da2a7",
   "metadata": {},
   "outputs": [
    {
     "name": "stdout",
     "output_type": "stream",
     "text": [
      "single antenna - average accuracy 0.930180, average precision 0.902080, average recall 0.835365, average fscore 0.835365\n",
      "fscores - empty 0.999323, sitting 0.999852, walking 0.715674, running 0.861349, jumping 0.664273\n",
      "average fscore 0.848094\n",
      "accuracies - empty 0.998647, sitting 1.000000, walking 0.680868, running 1.000000, jumping 0.497312\n",
      "\n",
      "-- FINAL DECISION --\n",
      "max-merge - average accuracy 0.972563, average precision 0.959460, average recall 0.925684, average fscore 0.937501\n",
      "fscores - empty 1.000000, sitting 1.000000, walking 0.894322, running 0.958111, jumping 0.835073\n",
      "accuracies - empty 1.000000, sitting 1.000000, walking 0.911576, running 1.000000, jumping 0.716846\n",
      "\n",
      "accuracies - one antenna 0.930180, two antennas 0.945571, three antennas 0.948710, four antennas 0.972563\n",
      "fscores - one antenna 0.813110, two antennas 0.874029, three antennas 0.846224, four antennas 0.937501\n"
     ]
    }
   ],
   "source": [
    "name_file = name_file_init  # string\n",
    "csi_act = activities_init\n",
    "activities = []\n",
    "for lab_act in csi_act.split(','):\n",
    "    activities.append(lab_act)\n",
    "activities = np.asarray(activities)\n",
    "\n",
    "folder_name = './outputs/'\n",
    "\n",
    "name_file = folder_name + name_file + '.txt'\n",
    "\n",
    "with open(name_file, \"rb\") as fp:  # Pickling\n",
    "    conf_matrix_dict = pickle.load(fp)\n",
    "\n",
    "conf_matrix = conf_matrix_dict['conf_matrix']\n",
    "confusion_matrix_normaliz_row = np.transpose(conf_matrix / np.sum(conf_matrix, axis=1).reshape(-1, 1))\n",
    "accuracies = np.diag(confusion_matrix_normaliz_row)\n",
    "accuracy = conf_matrix_dict['accuracy_single']\n",
    "precision = conf_matrix_dict['precision_single']\n",
    "recall = conf_matrix_dict['recall_single']\n",
    "fscore = conf_matrix_dict['fscore_single']\n",
    "average_prec = np.mean(precision)\n",
    "average_rec = np.mean(recall)\n",
    "average_f = np.mean(recall)\n",
    "print('single antenna - average accuracy %f, average precision %f, average recall %f, average fscore %f'\n",
    "        % (accuracy, average_prec, average_rec, average_f))\n",
    "print('fscores - empty %f, sitting %f, walking %f, running %f, jumping %f'\n",
    "        % (fscore[0], fscore[1], fscore[2], fscore[3], fscore[4]))\n",
    "print('average fscore %f' % (np.mean(fscore)))\n",
    "print('accuracies - empty %f, sitting %f, walking %f, running %f, jumping %f'\n",
    "        % (accuracies[0], accuracies[1], accuracies[2], accuracies[3], accuracies[4]))\n",
    "\n",
    "conf_matrix_max_merge = conf_matrix_dict['conf_matrix_max_merge']\n",
    "conf_matrix_max_merge_normaliz_row = np.transpose(conf_matrix_max_merge /\n",
    "                                                    np.sum(conf_matrix_max_merge, axis=1).reshape(-1, 1))\n",
    "accuracies_max_merge = np.diag(conf_matrix_max_merge_normaliz_row)\n",
    "accuracy_max_merge = conf_matrix_dict['accuracy_max_merge']\n",
    "precision_max_merge = conf_matrix_dict['precision_max_merge']\n",
    "recall_max_merge = conf_matrix_dict['recall_max_merge']\n",
    "fscore_max_merge = conf_matrix_dict['fscore_max_merge']\n",
    "average_max_merge_prec = np.mean(precision_max_merge)\n",
    "average_max_merge_rec = np.mean(recall_max_merge)\n",
    "average_max_merge_f = np.mean(fscore_max_merge)\n",
    "print('\\n-- FINAL DECISION --')\n",
    "print('max-merge - average accuracy %f, average precision %f, average recall %f, average fscore %f'\n",
    "        % (accuracy_max_merge, average_max_merge_prec, average_max_merge_rec, average_max_merge_f))\n",
    "print('fscores - empty %f, sitting %f, walking %f, running %f, jumping %f'\n",
    "        % (fscore_max_merge[0], fscore_max_merge[1], fscore_max_merge[2], fscore_max_merge[3], fscore_max_merge[4]))\n",
    "print('accuracies - empty %f, sitting %f, walking %f, running %f, jumping %f'\n",
    "        % (accuracies_max_merge[0], accuracies_max_merge[1], accuracies_max_merge[2], accuracies_max_merge[3],\n",
    "            accuracies_max_merge[4]))\n",
    "\n",
    "# performance assessment by changing the number of monitor antennas\n",
    "name_file = folder_name + 'change_number_antennas_' + name_file_init + '.txt'\n",
    "with open(name_file, \"rb\") as fp:  # Pickling\n",
    "    metrics_matrix_dict = pickle.load(fp)\n",
    "\n",
    "average_accuracy_change_num_ant = metrics_matrix_dict['average_accuracy_change_num_ant']\n",
    "average_fscore_change_num_ant = metrics_matrix_dict['average_fscore_change_num_ant']\n",
    "print('\\naccuracies - one antenna %f, two antennas %f, three antennas %f, four antennas %f'\n",
    "        % (average_accuracy_change_num_ant[0], average_accuracy_change_num_ant[1], average_accuracy_change_num_ant[2],\n",
    "            average_accuracy_change_num_ant[3]))\n",
    "print('fscores - one antenna %f, two antennas %f, three antennas %f, four antennas %f'\n",
    "        % (average_fscore_change_num_ant[0], average_fscore_change_num_ant[1], average_fscore_change_num_ant[2],\n",
    "            average_fscore_change_num_ant[3]))"
   ]
  },
  {
   "cell_type": "markdown",
   "id": "99f80379",
   "metadata": {},
   "source": [
    "And now we proceed by plotting all this stuff"
   ]
  },
  {
   "cell_type": "code",
   "execution_count": 7,
   "id": "9ecea467",
   "metadata": {},
   "outputs": [
    {
     "name": "stderr",
     "output_type": "stream",
     "text": [
      "c:\\Users\\feder\\Desktop\\utilities.py:110: UserWarning: There are no gridspecs with layoutgrids. Possibly did not call parent GridSpec with the \"figure\" keyword\n",
      "  plt.savefig(name_fig)\n",
      "c:\\Users\\feder\\Desktop\\utilities.py:110: UserWarning: There are no gridspecs with layoutgrids. Possibly did not call parent GridSpec with the \"figure\" keyword\n",
      "  plt.savefig(name_fig)\n",
      "c:\\Users\\feder\\Desktop\\utilities.py:110: UserWarning: There are no gridspecs with layoutgrids. Possibly did not call parent GridSpec with the \"figure\" keyword\n",
      "  plt.savefig(name_fig)\n",
      "c:\\Users\\feder\\Desktop\\utilities.py:110: UserWarning: There are no gridspecs with layoutgrids. Possibly did not call parent GridSpec with the \"figure\" keyword\n",
      "  plt.savefig(name_fig)\n",
      "c:\\Users\\feder\\anaconda3\\envs\\nnml\\lib\\site-packages\\IPython\\core\\pylabtools.py:152: UserWarning: There are no gridspecs with layoutgrids. Possibly did not call parent GridSpec with the \"figure\" keyword\n",
      "  fig.canvas.print_figure(bytes_io, **kw)\n"
     ]
    },
    {
     "data": {
      "image/png": "[encoded data removed]",
      "text/plain": [
       "<Figure size 550x400 with 2 Axes>"
      ]
     },
     "metadata": {},
     "output_type": "display_data"
    },
    {
     "data": {
      "image/png": "[encoded data removed]",
      "text/plain": [
       "<Figure size 550x400 with 2 Axes>"
      ]
     },
     "metadata": {},
     "output_type": "display_data"
    }
   ],
   "source": [
    "name_plot = name_file_init\n",
    "plt_confusion_matrix(activities.shape[0], conf_matrix, activities=activities, name=name_plot)\n",
    "\n",
    "name_plot = name_file_init + '_max_merge'\n",
    "plt_confusion_matrix(activities.shape[0], conf_matrix_max_merge, activities=activities, name=name_plot)\n"
   ]
  },
  {
   "cell_type": "code",
   "execution_count": null,
   "id": "fc923e3b",
   "metadata": {},
   "outputs": [],
   "source": []
  },
  {
   "cell_type": "code",
   "execution_count": null,
   "id": "5c9a6362",
   "metadata": {},
   "outputs": [],
   "source": []
  },
  {
   "cell_type": "code",
   "execution_count": null,
   "id": "a476b2ad",
   "metadata": {},
   "outputs": [],
   "source": []
  },
  {
   "cell_type": "markdown",
   "id": "77fdb300",
   "metadata": {},
   "source": [
    "#### Ratatuja"
   ]
  },
  {
   "cell_type": "markdown",
   "id": "aedd5cbb",
   "metadata": {},
   "source": [
    "#### considerazioni\n",
    "- riguardo al padding per avere la corretta concatenazione: alla fine del Reduction block i vari branch devono essere concatenati, i.e. i layer vengono messi in successione lungo la terza dimensione. Per questo è necessario che abbiano tutti la stessa shape (che è facilmente fissata dal MaxPool). Il fattore determinante per ridurre la dimensione del layer è la stride: a stride n corrisponde una riduzione circa di un fattore n (al momento n=2). Una volta fissate la stride e la dimensione del kernel, per ottenere esattamente la shape desiderata è necessario scegliere accuratamente il padding. Pytorch supporta vari metodi per specificare il padding: \"same\", \"valid\" (no padding), int o tupla. Con stride=1 il padding per i vari lati è calcolato automaticamente in modo da ottenere in outout la stessa shape dell'input! Quindi ci è molto utile, però funziona solamente per stride=1. Con tupla si può specificare qual è il padding ma solo nelle due direzioni, i.e. NON SUPPPORTA PADDING ASIMMETRICO. In generale possiamo specificare per i singoli casi qual è il padding necessario, ma ciò non è esauriente. Nel caso in cui abbiamo stride>1, se è necessario padding asimmetrico, dobbiamo aggiungerlo manualmente probabilmente con un metodo di functional ad hoc...\n",
    "\n",
    "- nel right branch: i layer hanno kernel di dimensione crescente (FOV di dimensione crescente) per classificare features più estese man mano che si va più in profondità. Anche il numero delle feature maps cresce con la profondità.\\\n",
    "L'ultimo layer è quello che dimezza le dimensioni.\n",
    "\n",
    "- durante il training: 1. calcolare i label predetti per una batch 2. calcolare la loss per una batch 3. effettuare la backpropagation con loss.backward() per ottenere i gradienti della loss rispetto ai prametri della NN 4. ottimizzare i parametri con un ottimizzatore con opt.step(), che usa i gradienti calcolati al punto precedente."
   ]
  },
  {
   "cell_type": "markdown",
   "id": "8cbf02da",
   "metadata": {},
   "source": [
    "#### domande\n",
    "- perchè vi sono esattamente 3 layer nel right branch? Cambia significativamente se si modifica il numero?\n",
    "- come fa l'ottimizzatore a leggere i gradienti?"
   ]
  },
  {
   "cell_type": "markdown",
   "id": "0a21250c",
   "metadata": {},
   "source": [
    "#### TODO\n",
    "- eliminare ``cache file\" nella\n",
    "- provare a modificare l'ordine dei layers nell'ultimo branch per vedere se cambia? Forse inutile perchè perdo comprimerei l'informazione prima"
   ]
  },
  {
   "cell_type": "markdown",
   "id": "6d894acd",
   "metadata": {},
   "source": []
  }
 ],
 "metadata": {
  "kernelspec": {
   "display_name": "Python 3 (ipykernel)",
   "language": "python",
   "name": "python3"
  },
  "language_info": {
   "codemirror_mode": {
    "name": "ipython",
    "version": 3
   },
   "file_extension": ".py",
   "mimetype": "text/x-python",
   "name": "python",
   "nbconvert_exporter": "python",
   "pygments_lexer": "ipython3",
   "version": "3.10.13"
  }
 },
 "nbformat": 4,
 "nbformat_minor": 5
}
